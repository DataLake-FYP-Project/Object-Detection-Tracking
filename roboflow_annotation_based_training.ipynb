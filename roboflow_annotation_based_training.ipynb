{
  "cells": [
    {
      "cell_type": "markdown",
      "metadata": {
        "id": "2sbVQBA8v7Wg"
      },
      "source": [
        "# Install Required Libraries"
      ]
    },
    {
      "cell_type": "code",
      "execution_count": 1,
      "metadata": {
        "colab": {
          "base_uri": "https://localhost:8080/"
        },
        "id": "cRuXpKwAYja_",
        "outputId": "840497e2-75d4-459b-dbf3-d3698acc297a"
      },
      "outputs": [
        {
          "name": "stdout",
          "output_type": "stream",
          "text": [
            "Collecting ultralytics\n",
            "  Downloading ultralytics-8.3.55-py3-none-any.whl.metadata (35 kB)\n",
            "Requirement already satisfied: numpy>=1.23.0 in /usr/local/lib/python3.10/dist-packages (from ultralytics) (1.26.4)\n",
            "Requirement already satisfied: matplotlib>=3.3.0 in /usr/local/lib/python3.10/dist-packages (from ultralytics) (3.8.0)\n",
            "Requirement already satisfied: opencv-python>=4.6.0 in /usr/local/lib/python3.10/dist-packages (from ultralytics) (4.10.0.84)\n",
            "Requirement already satisfied: pillow>=7.1.2 in /usr/local/lib/python3.10/dist-packages (from ultralytics) (11.0.0)\n",
            "Requirement already satisfied: pyyaml>=5.3.1 in /usr/local/lib/python3.10/dist-packages (from ultralytics) (6.0.2)\n",
            "Requirement already satisfied: requests>=2.23.0 in /usr/local/lib/python3.10/dist-packages (from ultralytics) (2.32.3)\n",
            "Requirement already satisfied: scipy>=1.4.1 in /usr/local/lib/python3.10/dist-packages (from ultralytics) (1.13.1)\n",
            "Requirement already satisfied: torch>=1.8.0 in /usr/local/lib/python3.10/dist-packages (from ultralytics) (2.5.1+cu121)\n",
            "Requirement already satisfied: torchvision>=0.9.0 in /usr/local/lib/python3.10/dist-packages (from ultralytics) (0.20.1+cu121)\n",
            "Requirement already satisfied: tqdm>=4.64.0 in /usr/local/lib/python3.10/dist-packages (from ultralytics) (4.67.1)\n",
            "Requirement already satisfied: psutil in /usr/local/lib/python3.10/dist-packages (from ultralytics) (5.9.5)\n",
            "Requirement already satisfied: py-cpuinfo in /usr/local/lib/python3.10/dist-packages (from ultralytics) (9.0.0)\n",
            "Requirement already satisfied: pandas>=1.1.4 in /usr/local/lib/python3.10/dist-packages (from ultralytics) (2.2.2)\n",
            "Requirement already satisfied: seaborn>=0.11.0 in /usr/local/lib/python3.10/dist-packages (from ultralytics) (0.13.2)\n",
            "Collecting ultralytics-thop>=2.0.0 (from ultralytics)\n",
            "  Downloading ultralytics_thop-2.0.13-py3-none-any.whl.metadata (9.4 kB)\n",
            "Requirement already satisfied: contourpy>=1.0.1 in /usr/local/lib/python3.10/dist-packages (from matplotlib>=3.3.0->ultralytics) (1.3.1)\n",
            "Requirement already satisfied: cycler>=0.10 in /usr/local/lib/python3.10/dist-packages (from matplotlib>=3.3.0->ultralytics) (0.12.1)\n",
            "Requirement already satisfied: fonttools>=4.22.0 in /usr/local/lib/python3.10/dist-packages (from matplotlib>=3.3.0->ultralytics) (4.55.3)\n",
            "Requirement already satisfied: kiwisolver>=1.0.1 in /usr/local/lib/python3.10/dist-packages (from matplotlib>=3.3.0->ultralytics) (1.4.7)\n",
            "Requirement already satisfied: packaging>=20.0 in /usr/local/lib/python3.10/dist-packages (from matplotlib>=3.3.0->ultralytics) (24.2)\n",
            "Requirement already satisfied: pyparsing>=2.3.1 in /usr/local/lib/python3.10/dist-packages (from matplotlib>=3.3.0->ultralytics) (3.2.0)\n",
            "Requirement already satisfied: python-dateutil>=2.7 in /usr/local/lib/python3.10/dist-packages (from matplotlib>=3.3.0->ultralytics) (2.8.2)\n",
            "Requirement already satisfied: pytz>=2020.1 in /usr/local/lib/python3.10/dist-packages (from pandas>=1.1.4->ultralytics) (2024.2)\n",
            "Requirement already satisfied: tzdata>=2022.7 in /usr/local/lib/python3.10/dist-packages (from pandas>=1.1.4->ultralytics) (2024.2)\n",
            "Requirement already satisfied: charset-normalizer<4,>=2 in /usr/local/lib/python3.10/dist-packages (from requests>=2.23.0->ultralytics) (3.4.0)\n",
            "Requirement already satisfied: idna<4,>=2.5 in /usr/local/lib/python3.10/dist-packages (from requests>=2.23.0->ultralytics) (3.10)\n",
            "Requirement already satisfied: urllib3<3,>=1.21.1 in /usr/local/lib/python3.10/dist-packages (from requests>=2.23.0->ultralytics) (2.2.3)\n",
            "Requirement already satisfied: certifi>=2017.4.17 in /usr/local/lib/python3.10/dist-packages (from requests>=2.23.0->ultralytics) (2024.12.14)\n",
            "Requirement already satisfied: filelock in /usr/local/lib/python3.10/dist-packages (from torch>=1.8.0->ultralytics) (3.16.1)\n",
            "Requirement already satisfied: typing-extensions>=4.8.0 in /usr/local/lib/python3.10/dist-packages (from torch>=1.8.0->ultralytics) (4.12.2)\n",
            "Requirement already satisfied: networkx in /usr/local/lib/python3.10/dist-packages (from torch>=1.8.0->ultralytics) (3.4.2)\n",
            "Requirement already satisfied: jinja2 in /usr/local/lib/python3.10/dist-packages (from torch>=1.8.0->ultralytics) (3.1.4)\n",
            "Requirement already satisfied: fsspec in /usr/local/lib/python3.10/dist-packages (from torch>=1.8.0->ultralytics) (2024.10.0)\n",
            "Requirement already satisfied: sympy==1.13.1 in /usr/local/lib/python3.10/dist-packages (from torch>=1.8.0->ultralytics) (1.13.1)\n",
            "Requirement already satisfied: mpmath<1.4,>=1.1.0 in /usr/local/lib/python3.10/dist-packages (from sympy==1.13.1->torch>=1.8.0->ultralytics) (1.3.0)\n",
            "Requirement already satisfied: six>=1.5 in /usr/local/lib/python3.10/dist-packages (from python-dateutil>=2.7->matplotlib>=3.3.0->ultralytics) (1.17.0)\n",
            "Requirement already satisfied: MarkupSafe>=2.0 in /usr/local/lib/python3.10/dist-packages (from jinja2->torch>=1.8.0->ultralytics) (3.0.2)\n",
            "Downloading ultralytics-8.3.55-py3-none-any.whl (904 kB)\n",
            "\u001b[2K   \u001b[90m━━━━━━━━━━━━━━━━━━━━━━━━━━━━━━━━━━━━━━━━\u001b[0m \u001b[32m904.3/904.3 kB\u001b[0m \u001b[31m39.7 MB/s\u001b[0m eta \u001b[36m0:00:00\u001b[0m\n",
            "\u001b[?25hDownloading ultralytics_thop-2.0.13-py3-none-any.whl (26 kB)\n",
            "Installing collected packages: ultralytics-thop, ultralytics\n",
            "Successfully installed ultralytics-8.3.55 ultralytics-thop-2.0.13\n",
            "Collecting roboflow\n",
            "  Downloading roboflow-1.1.50-py3-none-any.whl.metadata (9.7 kB)\n",
            "Requirement already satisfied: certifi in /usr/local/lib/python3.10/dist-packages (from roboflow) (2024.12.14)\n",
            "Collecting idna==3.7 (from roboflow)\n",
            "  Downloading idna-3.7-py3-none-any.whl.metadata (9.9 kB)\n",
            "Requirement already satisfied: cycler in /usr/local/lib/python3.10/dist-packages (from roboflow) (0.12.1)\n",
            "Requirement already satisfied: kiwisolver>=1.3.1 in /usr/local/lib/python3.10/dist-packages (from roboflow) (1.4.7)\n",
            "Requirement already satisfied: matplotlib in /usr/local/lib/python3.10/dist-packages (from roboflow) (3.8.0)\n",
            "Requirement already satisfied: numpy>=1.18.5 in /usr/local/lib/python3.10/dist-packages (from roboflow) (1.26.4)\n",
            "Requirement already satisfied: opencv-python-headless==4.10.0.84 in /usr/local/lib/python3.10/dist-packages (from roboflow) (4.10.0.84)\n",
            "Requirement already satisfied: Pillow>=7.1.2 in /usr/local/lib/python3.10/dist-packages (from roboflow) (11.0.0)\n",
            "Requirement already satisfied: python-dateutil in /usr/local/lib/python3.10/dist-packages (from roboflow) (2.8.2)\n",
            "Collecting python-dotenv (from roboflow)\n",
            "  Downloading python_dotenv-1.0.1-py3-none-any.whl.metadata (23 kB)\n",
            "Requirement already satisfied: requests in /usr/local/lib/python3.10/dist-packages (from roboflow) (2.32.3)\n",
            "Requirement already satisfied: six in /usr/local/lib/python3.10/dist-packages (from roboflow) (1.17.0)\n",
            "Requirement already satisfied: urllib3>=1.26.6 in /usr/local/lib/python3.10/dist-packages (from roboflow) (2.2.3)\n",
            "Requirement already satisfied: tqdm>=4.41.0 in /usr/local/lib/python3.10/dist-packages (from roboflow) (4.67.1)\n",
            "Requirement already satisfied: PyYAML>=5.3.1 in /usr/local/lib/python3.10/dist-packages (from roboflow) (6.0.2)\n",
            "Requirement already satisfied: requests-toolbelt in /usr/local/lib/python3.10/dist-packages (from roboflow) (1.0.0)\n",
            "Collecting filetype (from roboflow)\n",
            "  Downloading filetype-1.2.0-py2.py3-none-any.whl.metadata (6.5 kB)\n",
            "Requirement already satisfied: contourpy>=1.0.1 in /usr/local/lib/python3.10/dist-packages (from matplotlib->roboflow) (1.3.1)\n",
            "Requirement already satisfied: fonttools>=4.22.0 in /usr/local/lib/python3.10/dist-packages (from matplotlib->roboflow) (4.55.3)\n",
            "Requirement already satisfied: packaging>=20.0 in /usr/local/lib/python3.10/dist-packages (from matplotlib->roboflow) (24.2)\n",
            "Requirement already satisfied: pyparsing>=2.3.1 in /usr/local/lib/python3.10/dist-packages (from matplotlib->roboflow) (3.2.0)\n",
            "Requirement already satisfied: charset-normalizer<4,>=2 in /usr/local/lib/python3.10/dist-packages (from requests->roboflow) (3.4.0)\n",
            "Downloading roboflow-1.1.50-py3-none-any.whl (81 kB)\n",
            "\u001b[2K   \u001b[90m━━━━━━━━━━━━━━━━━━━━━━━━━━━━━━━━━━━━━━━━\u001b[0m \u001b[32m81.5/81.5 kB\u001b[0m \u001b[31m7.1 MB/s\u001b[0m eta \u001b[36m0:00:00\u001b[0m\n",
            "\u001b[?25hDownloading idna-3.7-py3-none-any.whl (66 kB)\n",
            "\u001b[2K   \u001b[90m━━━━━━━━━━━━━━━━━━━━━━━━━━━━━━━━━━━━━━━━\u001b[0m \u001b[32m66.8/66.8 kB\u001b[0m \u001b[31m6.5 MB/s\u001b[0m eta \u001b[36m0:00:00\u001b[0m\n",
            "\u001b[?25hDownloading filetype-1.2.0-py2.py3-none-any.whl (19 kB)\n",
            "Downloading python_dotenv-1.0.1-py3-none-any.whl (19 kB)\n",
            "Installing collected packages: filetype, python-dotenv, idna, roboflow\n",
            "  Attempting uninstall: idna\n",
            "    Found existing installation: idna 3.10\n",
            "    Uninstalling idna-3.10:\n",
            "      Successfully uninstalled idna-3.10\n",
            "Successfully installed filetype-1.2.0 idna-3.7 python-dotenv-1.0.1 roboflow-1.1.50\n"
          ]
        }
      ],
      "source": [
        "!pip install ultralytics\n",
        "!pip install roboflow"
      ]
    },
    {
      "cell_type": "code",
      "execution_count": 14,
      "metadata": {
        "id": "_aHYc2bslxiA"
      },
      "outputs": [],
      "source": [
        "from datetime import datetime\n",
        "timestamp = datetime.now().strftime('%Y%m%d_%H%M%S')"
      ]
    },
    {
      "cell_type": "markdown",
      "metadata": {
        "id": "nR67fKf1wC29"
      },
      "source": [
        "#  Download Dataset from Roboflow"
      ]
    },
    {
      "cell_type": "markdown",
      "metadata": {},
      "source": [
        "To download your dataset directly to Google Colab using the Roboflow API key, start by locating your API key in the Roboflow dashboard. \n",
        "Navigate to your project dashboard, click on \"Download Dataset,\" and copy the Python code snippet provided, which includes your API key. \n",
        "Next, replace the placeholder `YOUR_API_KEY` in the snippet with your actual API key. \n",
        "Run this code in your Colab notebook to download and unpack the dataset. \n",
        "Once the process completes, the dataset will be stored in your Colab environment, typically in a directory named after your project and version. This allows you to seamlessly use the dataset for training your YOLO model without the need for manual downloads or uploads."
      ]
    },
    {
      "cell_type": "code",
      "execution_count": 2,
      "metadata": {
        "colab": {
          "base_uri": "https://localhost:8080/"
        },
        "id": "Pe8hLfLZYq-1",
        "outputId": "4f45bd2f-384f-40c7-f76d-f1e2b211a01c"
      },
      "outputs": [
        {
          "name": "stdout",
          "output_type": "stream",
          "text": [
            "loading Roboflow workspace...\n",
            "loading Roboflow project...\n"
          ]
        },
        {
          "name": "stderr",
          "output_type": "stream",
          "text": [
            "Downloading Dataset Version Zip in Sri-Lankan_road-traffic-1 to yolov5pytorch:: 100%|██████████| 27077/27077 [00:02<00:00, 9094.81it/s] "
          ]
        },
        {
          "name": "stdout",
          "output_type": "stream",
          "text": [
            "\n"
          ]
        },
        {
          "name": "stderr",
          "output_type": "stream",
          "text": [
            "\n",
            "Extracting Dataset Version Zip to Sri-Lankan_road-traffic-1 in yolov5pytorch:: 100%|██████████| 852/852 [00:00<00:00, 5732.72it/s]\n"
          ]
        }
      ],
      "source": [
        "from roboflow import Roboflow\n",
        "rf = Roboflow(api_key=\"YOUR_API_KEY\")\n",
        "project = rf.workspace().project(\"your-project-name\")  # Replace with your project name\n",
        "dataset = project.version(1).download(\"yolov5\")       # Replace \"1\" with the version number"
      ]
    },
    {
      "cell_type": "markdown",
      "metadata": {
        "id": "0wJXWwDrwNhw"
      },
      "source": [
        "# Check Path where dataset saved"
      ]
    },
    {
      "cell_type": "markdown",
      "metadata": {
        "id": "O7P8oxUFwKM_"
      },
      "source": [
        "**Check** **working** **directory**"
      ]
    },
    {
      "cell_type": "code",
      "execution_count": 6,
      "metadata": {
        "colab": {
          "base_uri": "https://localhost:8080/"
        },
        "id": "9qikc0iXbGY9",
        "outputId": "7349c85b-9c1b-4e06-c60f-f618921d450a"
      },
      "outputs": [
        {
          "name": "stdout",
          "output_type": "stream",
          "text": [
            "/content\n"
          ]
        }
      ],
      "source": [
        "!pwd"
      ]
    },
    {
      "cell_type": "markdown",
      "metadata": {
        "id": "hjCVkia8wSLY"
      },
      "source": [
        "**Check** **content**"
      ]
    },
    {
      "cell_type": "code",
      "execution_count": 7,
      "metadata": {
        "colab": {
          "base_uri": "https://localhost:8080/"
        },
        "id": "fyRfFQREbKtN",
        "outputId": "bde1d0f0-255c-4ec8-cab5-0731fe9d744b"
      },
      "outputs": [
        {
          "name": "stdout",
          "output_type": "stream",
          "text": [
            "sample_data  Sri-Lankan_road-traffic-1\n"
          ]
        }
      ],
      "source": [
        "!ls"
      ]
    },
    {
      "cell_type": "markdown",
      "metadata": {
        "id": "NrlhtcYiwX-w"
      },
      "source": [
        "**Go to dataset directory**"
      ]
    },
    {
      "cell_type": "code",
      "execution_count": 3,
      "metadata": {
        "colab": {
          "base_uri": "https://localhost:8080/"
        },
        "id": "u6lOknPbbSa1",
        "outputId": "64f8fe94-864c-4762-a0c4-6f3aa9d837a4"
      },
      "outputs": [
        {
          "name": "stdout",
          "output_type": "stream",
          "text": [
            "/content/Sri-Lankan_road-traffic-1\n"
          ]
        }
      ],
      "source": [
        "%cd /content/Sri-Lankan_road-traffic-1"
      ]
    },
    {
      "cell_type": "markdown",
      "metadata": {
        "id": "KSxVrfEEwcvY"
      },
      "source": [
        "**Check for content in dataset**"
      ]
    },
    {
      "cell_type": "code",
      "execution_count": 4,
      "metadata": {
        "colab": {
          "base_uri": "https://localhost:8080/"
        },
        "id": "D77oYHHjbYs3",
        "outputId": "77bb9d33-be3d-4488-96fd-68d308dcf050"
      },
      "outputs": [
        {
          "name": "stdout",
          "output_type": "stream",
          "text": [
            "data.yaml  README.dataset.txt  README.roboflow.txt  test  train  valid\n"
          ]
        }
      ],
      "source": [
        "!ls"
      ]
    },
    {
      "cell_type": "markdown",
      "metadata": {
        "id": "Ft6EEojqiJ4O"
      },
      "source": [
        "Using image size as 640"
      ]
    },
    {
      "cell_type": "markdown",
      "metadata": {
        "id": "d9NEn052woJo"
      },
      "source": [
        "# Train and save the model"
      ]
    },
    {
      "cell_type": "code",
      "execution_count": 6,
      "metadata": {
        "colab": {
          "base_uri": "https://localhost:8080/"
        },
        "id": "rX1yHv1UWfZu",
        "outputId": "7e0fd233-5a9f-4b67-dd2b-3ce8130c7ec6"
      },
      "outputs": [
        {
          "name": "stdout",
          "output_type": "stream",
          "text": [
            "Ultralytics 8.3.55 🚀 Python-3.10.12 torch-2.5.1+cu121 CUDA:0 (Tesla T4, 15102MiB)\n",
            "\u001b[34m\u001b[1mengine/trainer: \u001b[0mtask=detect, mode=train, model=yolov8n.pt, data=/content/Sri-Lankan_road-traffic-1/data.yaml, epochs=50, time=None, patience=100, batch=16, imgsz=640, save=True, save_period=-1, cache=False, device=None, workers=8, project=None, name=train2, exist_ok=False, pretrained=True, optimizer=auto, verbose=True, seed=0, deterministic=True, single_cls=False, rect=False, cos_lr=False, close_mosaic=10, resume=False, amp=True, fraction=1.0, profile=False, freeze=None, multi_scale=False, overlap_mask=True, mask_ratio=4, dropout=0.0, val=True, split=val, save_json=False, save_hybrid=False, conf=None, iou=0.7, max_det=300, half=False, dnn=False, plots=True, source=None, vid_stride=1, stream_buffer=False, visualize=False, augment=False, agnostic_nms=False, classes=None, retina_masks=False, embed=None, show=False, save_frames=False, save_txt=False, save_conf=False, save_crop=False, show_labels=True, show_conf=True, show_boxes=True, line_width=None, format=torchscript, keras=False, optimize=False, int8=False, dynamic=False, simplify=True, opset=None, workspace=None, nms=False, lr0=0.01, lrf=0.01, momentum=0.937, weight_decay=0.0005, warmup_epochs=3.0, warmup_momentum=0.8, warmup_bias_lr=0.1, box=7.5, cls=0.5, dfl=1.5, pose=12.0, kobj=1.0, nbs=64, hsv_h=0.015, hsv_s=0.7, hsv_v=0.4, degrees=0.0, translate=0.1, scale=0.5, shear=0.0, perspective=0.0, flipud=0.0, fliplr=0.5, bgr=0.0, mosaic=1.0, mixup=0.0, copy_paste=0.0, copy_paste_mode=flip, auto_augment=randaugment, erasing=0.4, crop_fraction=1.0, cfg=None, tracker=botsort.yaml, save_dir=runs/detect/train2\n",
            "Downloading https://ultralytics.com/assets/Arial.ttf to '/root/.config/Ultralytics/Arial.ttf'...\n"
          ]
        },
        {
          "name": "stderr",
          "output_type": "stream",
          "text": [
            "100%|██████████| 755k/755k [00:00<00:00, 93.4MB/s]\n"
          ]
        },
        {
          "name": "stdout",
          "output_type": "stream",
          "text": [
            "Overriding model.yaml nc=80 with nc=9\n",
            "\n",
            "                   from  n    params  module                                       arguments                     \n",
            "  0                  -1  1       464  ultralytics.nn.modules.conv.Conv             [3, 16, 3, 2]                 \n",
            "  1                  -1  1      4672  ultralytics.nn.modules.conv.Conv             [16, 32, 3, 2]                \n",
            "  2                  -1  1      7360  ultralytics.nn.modules.block.C2f             [32, 32, 1, True]             \n",
            "  3                  -1  1     18560  ultralytics.nn.modules.conv.Conv             [32, 64, 3, 2]                \n",
            "  4                  -1  2     49664  ultralytics.nn.modules.block.C2f             [64, 64, 2, True]             \n",
            "  5                  -1  1     73984  ultralytics.nn.modules.conv.Conv             [64, 128, 3, 2]               \n",
            "  6                  -1  2    197632  ultralytics.nn.modules.block.C2f             [128, 128, 2, True]           \n",
            "  7                  -1  1    295424  ultralytics.nn.modules.conv.Conv             [128, 256, 3, 2]              \n",
            "  8                  -1  1    460288  ultralytics.nn.modules.block.C2f             [256, 256, 1, True]           \n",
            "  9                  -1  1    164608  ultralytics.nn.modules.block.SPPF            [256, 256, 5]                 \n",
            " 10                  -1  1         0  torch.nn.modules.upsampling.Upsample         [None, 2, 'nearest']          \n",
            " 11             [-1, 6]  1         0  ultralytics.nn.modules.conv.Concat           [1]                           \n",
            " 12                  -1  1    148224  ultralytics.nn.modules.block.C2f             [384, 128, 1]                 \n",
            " 13                  -1  1         0  torch.nn.modules.upsampling.Upsample         [None, 2, 'nearest']          \n",
            " 14             [-1, 4]  1         0  ultralytics.nn.modules.conv.Concat           [1]                           \n",
            " 15                  -1  1     37248  ultralytics.nn.modules.block.C2f             [192, 64, 1]                  \n",
            " 16                  -1  1     36992  ultralytics.nn.modules.conv.Conv             [64, 64, 3, 2]                \n",
            " 17            [-1, 12]  1         0  ultralytics.nn.modules.conv.Concat           [1]                           \n",
            " 18                  -1  1    123648  ultralytics.nn.modules.block.C2f             [192, 128, 1]                 \n",
            " 19                  -1  1    147712  ultralytics.nn.modules.conv.Conv             [128, 128, 3, 2]              \n",
            " 20             [-1, 9]  1         0  ultralytics.nn.modules.conv.Concat           [1]                           \n",
            " 21                  -1  1    493056  ultralytics.nn.modules.block.C2f             [384, 256, 1]                 \n",
            " 22        [15, 18, 21]  1    753067  ultralytics.nn.modules.head.Detect           [9, [64, 128, 256]]           \n",
            "Model summary: 225 layers, 3,012,603 parameters, 3,012,587 gradients, 8.2 GFLOPs\n",
            "\n",
            "Transferred 319/355 items from pretrained weights\n",
            "\u001b[34m\u001b[1mTensorBoard: \u001b[0mStart with 'tensorboard --logdir runs/detect/train2', view at http://localhost:6006/\n",
            "Freezing layer 'model.22.dfl.conv.weight'\n",
            "\u001b[34m\u001b[1mAMP: \u001b[0mrunning Automatic Mixed Precision (AMP) checks...\n",
            "Downloading https://github.com/ultralytics/assets/releases/download/v8.3.0/yolo11n.pt to 'yolo11n.pt'...\n"
          ]
        },
        {
          "name": "stderr",
          "output_type": "stream",
          "text": [
            "100%|██████████| 5.35M/5.35M [00:00<00:00, 264MB/s]\n"
          ]
        },
        {
          "name": "stdout",
          "output_type": "stream",
          "text": [
            "\u001b[34m\u001b[1mAMP: \u001b[0mchecks passed ✅\n"
          ]
        },
        {
          "name": "stderr",
          "output_type": "stream",
          "text": [
            "\u001b[34m\u001b[1mtrain: \u001b[0mScanning /content/Sri-Lankan_road-traffic-1/train/labels... 294 images, 4 backgrounds, 0 corrupt: 100%|██████████| 294/294 [00:00<00:00, 1469.58it/s]"
          ]
        },
        {
          "name": "stdout",
          "output_type": "stream",
          "text": [
            "\u001b[34m\u001b[1mtrain: \u001b[0mNew cache created: /content/Sri-Lankan_road-traffic-1/train/labels.cache\n"
          ]
        },
        {
          "name": "stderr",
          "output_type": "stream",
          "text": [
            "\n"
          ]
        },
        {
          "name": "stdout",
          "output_type": "stream",
          "text": [
            "\u001b[34m\u001b[1malbumentations: \u001b[0mBlur(p=0.01, blur_limit=(3, 7)), MedianBlur(p=0.01, blur_limit=(3, 7)), ToGray(p=0.01, num_output_channels=3, method='weighted_average'), CLAHE(p=0.01, clip_limit=(1.0, 4.0), tile_grid_size=(8, 8))\n"
          ]
        },
        {
          "name": "stderr",
          "output_type": "stream",
          "text": [
            "A new version of Albumentations is available: 1.4.24 (you have 1.4.20). Upgrade using: pip install -U albumentations. To disable automatic update checks, set the environment variable NO_ALBUMENTATIONS_UPDATE to 1.\n",
            "\u001b[34m\u001b[1mval: \u001b[0mScanning /content/Sri-Lankan_road-traffic-1/valid/labels... 84 images, 0 backgrounds, 0 corrupt: 100%|██████████| 84/84 [00:00<00:00, 1334.91it/s]"
          ]
        },
        {
          "name": "stdout",
          "output_type": "stream",
          "text": [
            "\u001b[34m\u001b[1mval: \u001b[0mNew cache created: /content/Sri-Lankan_road-traffic-1/valid/labels.cache\n"
          ]
        },
        {
          "name": "stderr",
          "output_type": "stream",
          "text": [
            "\n"
          ]
        },
        {
          "name": "stdout",
          "output_type": "stream",
          "text": [
            "Plotting labels to runs/detect/train2/labels.jpg... \n",
            "\u001b[34m\u001b[1moptimizer:\u001b[0m 'optimizer=auto' found, ignoring 'lr0=0.01' and 'momentum=0.937' and determining best 'optimizer', 'lr0' and 'momentum' automatically... \n",
            "\u001b[34m\u001b[1moptimizer:\u001b[0m AdamW(lr=0.000769, momentum=0.9) with parameter groups 57 weight(decay=0.0), 64 weight(decay=0.0005), 63 bias(decay=0.0)\n",
            "\u001b[34m\u001b[1mTensorBoard: \u001b[0mmodel graph visualization added ✅\n",
            "Image sizes 640 train, 640 val\n",
            "Using 2 dataloader workers\n",
            "Logging results to \u001b[1mruns/detect/train2\u001b[0m\n",
            "Starting training for 50 epochs...\n",
            "\n",
            "      Epoch    GPU_mem   box_loss   cls_loss   dfl_loss  Instances       Size\n"
          ]
        },
        {
          "name": "stderr",
          "output_type": "stream",
          "text": [
            "       1/50      2.39G       1.93      3.794      1.591         57        640: 100%|██████████| 19/19 [00:08<00:00,  2.26it/s]\n",
            "                 Class     Images  Instances      Box(P          R      mAP50  mAP50-95): 100%|██████████| 3/3 [00:02<00:00,  1.29it/s]"
          ]
        },
        {
          "name": "stdout",
          "output_type": "stream",
          "text": [
            "                   all         84        626     0.0224      0.674      0.198      0.126\n"
          ]
        },
        {
          "name": "stderr",
          "output_type": "stream",
          "text": [
            "\n"
          ]
        },
        {
          "name": "stdout",
          "output_type": "stream",
          "text": [
            "\n",
            "      Epoch    GPU_mem   box_loss   cls_loss   dfl_loss  Instances       Size\n"
          ]
        },
        {
          "name": "stderr",
          "output_type": "stream",
          "text": [
            "       2/50      2.24G      1.674      2.564      1.389         38        640: 100%|██████████| 19/19 [00:07<00:00,  2.65it/s]\n",
            "                 Class     Images  Instances      Box(P          R      mAP50  mAP50-95): 100%|██████████| 3/3 [00:01<00:00,  1.58it/s]"
          ]
        },
        {
          "name": "stdout",
          "output_type": "stream",
          "text": [
            "                   all         84        626     0.0205      0.791      0.345      0.208\n"
          ]
        },
        {
          "name": "stderr",
          "output_type": "stream",
          "text": [
            "\n"
          ]
        },
        {
          "name": "stdout",
          "output_type": "stream",
          "text": [
            "\n",
            "      Epoch    GPU_mem   box_loss   cls_loss   dfl_loss  Instances       Size\n"
          ]
        },
        {
          "name": "stderr",
          "output_type": "stream",
          "text": [
            "       3/50      2.23G      1.609      1.908      1.349         70        640: 100%|██████████| 19/19 [00:04<00:00,  3.88it/s]\n",
            "                 Class     Images  Instances      Box(P          R      mAP50  mAP50-95): 100%|██████████| 3/3 [00:00<00:00,  3.10it/s]\n"
          ]
        },
        {
          "name": "stdout",
          "output_type": "stream",
          "text": [
            "                   all         84        626      0.878      0.231       0.41      0.244\n",
            "\n",
            "      Epoch    GPU_mem   box_loss   cls_loss   dfl_loss  Instances       Size\n"
          ]
        },
        {
          "name": "stderr",
          "output_type": "stream",
          "text": [
            "       4/50       2.3G      1.605      1.662      1.322         61        640: 100%|██████████| 19/19 [00:06<00:00,  3.12it/s]\n",
            "                 Class     Images  Instances      Box(P          R      mAP50  mAP50-95): 100%|██████████| 3/3 [00:01<00:00,  1.55it/s]"
          ]
        },
        {
          "name": "stdout",
          "output_type": "stream",
          "text": [
            "                   all         84        626      0.872      0.404      0.561      0.333\n"
          ]
        },
        {
          "name": "stderr",
          "output_type": "stream",
          "text": [
            "\n"
          ]
        },
        {
          "name": "stdout",
          "output_type": "stream",
          "text": [
            "\n",
            "      Epoch    GPU_mem   box_loss   cls_loss   dfl_loss  Instances       Size\n"
          ]
        },
        {
          "name": "stderr",
          "output_type": "stream",
          "text": [
            "       5/50      2.33G      1.551      1.572      1.301         55        640: 100%|██████████| 19/19 [00:05<00:00,  3.64it/s]\n",
            "                 Class     Images  Instances      Box(P          R      mAP50  mAP50-95): 100%|██████████| 3/3 [00:01<00:00,  2.59it/s]"
          ]
        },
        {
          "name": "stdout",
          "output_type": "stream",
          "text": [
            "                   all         84        626      0.708      0.487      0.601      0.355\n"
          ]
        },
        {
          "name": "stderr",
          "output_type": "stream",
          "text": [
            "\n"
          ]
        },
        {
          "name": "stdout",
          "output_type": "stream",
          "text": [
            "\n",
            "      Epoch    GPU_mem   box_loss   cls_loss   dfl_loss  Instances       Size\n"
          ]
        },
        {
          "name": "stderr",
          "output_type": "stream",
          "text": [
            "       6/50      2.24G      1.541      1.504      1.314         83        640: 100%|██████████| 19/19 [00:05<00:00,  3.72it/s]\n",
            "                 Class     Images  Instances      Box(P          R      mAP50  mAP50-95): 100%|██████████| 3/3 [00:02<00:00,  1.47it/s]"
          ]
        },
        {
          "name": "stdout",
          "output_type": "stream",
          "text": [
            "                   all         84        626      0.789      0.478      0.568       0.33\n"
          ]
        },
        {
          "name": "stderr",
          "output_type": "stream",
          "text": [
            "\n"
          ]
        },
        {
          "name": "stdout",
          "output_type": "stream",
          "text": [
            "\n",
            "      Epoch    GPU_mem   box_loss   cls_loss   dfl_loss  Instances       Size\n"
          ]
        },
        {
          "name": "stderr",
          "output_type": "stream",
          "text": [
            "       7/50      2.25G      1.503       1.46      1.274         93        640: 100%|██████████| 19/19 [00:06<00:00,  3.11it/s]\n",
            "                 Class     Images  Instances      Box(P          R      mAP50  mAP50-95): 100%|██████████| 3/3 [00:01<00:00,  2.87it/s]\n"
          ]
        },
        {
          "name": "stdout",
          "output_type": "stream",
          "text": [
            "                   all         84        626      0.763      0.549      0.659      0.386\n",
            "\n",
            "      Epoch    GPU_mem   box_loss   cls_loss   dfl_loss  Instances       Size\n"
          ]
        },
        {
          "name": "stderr",
          "output_type": "stream",
          "text": [
            "       8/50      2.32G      1.469      1.322      1.258         74        640: 100%|██████████| 19/19 [00:04<00:00,  4.06it/s]\n",
            "                 Class     Images  Instances      Box(P          R      mAP50  mAP50-95): 100%|██████████| 3/3 [00:01<00:00,  2.03it/s]"
          ]
        },
        {
          "name": "stdout",
          "output_type": "stream",
          "text": [
            "                   all         84        626      0.811      0.622      0.695      0.408\n"
          ]
        },
        {
          "name": "stderr",
          "output_type": "stream",
          "text": [
            "\n"
          ]
        },
        {
          "name": "stdout",
          "output_type": "stream",
          "text": [
            "\n",
            "      Epoch    GPU_mem   box_loss   cls_loss   dfl_loss  Instances       Size\n"
          ]
        },
        {
          "name": "stderr",
          "output_type": "stream",
          "text": [
            "       9/50      2.29G       1.45      1.346      1.272         58        640: 100%|██████████| 19/19 [00:06<00:00,  2.87it/s]\n",
            "                 Class     Images  Instances      Box(P          R      mAP50  mAP50-95): 100%|██████████| 3/3 [00:00<00:00,  3.02it/s]\n"
          ]
        },
        {
          "name": "stdout",
          "output_type": "stream",
          "text": [
            "                   all         84        626      0.778      0.615      0.696      0.418\n",
            "\n",
            "      Epoch    GPU_mem   box_loss   cls_loss   dfl_loss  Instances       Size\n"
          ]
        },
        {
          "name": "stderr",
          "output_type": "stream",
          "text": [
            "      10/50      2.31G      1.468      1.313      1.261         50        640: 100%|██████████| 19/19 [00:04<00:00,  3.98it/s]\n",
            "                 Class     Images  Instances      Box(P          R      mAP50  mAP50-95): 100%|██████████| 3/3 [00:00<00:00,  3.12it/s]\n"
          ]
        },
        {
          "name": "stdout",
          "output_type": "stream",
          "text": [
            "                   all         84        626      0.773      0.696      0.713      0.419\n",
            "\n",
            "      Epoch    GPU_mem   box_loss   cls_loss   dfl_loss  Instances       Size\n"
          ]
        },
        {
          "name": "stderr",
          "output_type": "stream",
          "text": [
            "      11/50       2.3G      1.462      1.283      1.268         48        640: 100%|██████████| 19/19 [00:07<00:00,  2.43it/s]\n",
            "                 Class     Images  Instances      Box(P          R      mAP50  mAP50-95): 100%|██████████| 3/3 [00:00<00:00,  3.09it/s]\n"
          ]
        },
        {
          "name": "stdout",
          "output_type": "stream",
          "text": [
            "                   all         84        626      0.711      0.669      0.699      0.396\n",
            "\n",
            "      Epoch    GPU_mem   box_loss   cls_loss   dfl_loss  Instances       Size\n"
          ]
        },
        {
          "name": "stderr",
          "output_type": "stream",
          "text": [
            "      12/50      2.31G       1.44      1.241      1.258         87        640: 100%|██████████| 19/19 [00:04<00:00,  3.88it/s]\n",
            "                 Class     Images  Instances      Box(P          R      mAP50  mAP50-95): 100%|██████████| 3/3 [00:00<00:00,  3.18it/s]\n"
          ]
        },
        {
          "name": "stdout",
          "output_type": "stream",
          "text": [
            "                   all         84        626      0.794      0.676      0.717      0.441\n",
            "\n",
            "      Epoch    GPU_mem   box_loss   cls_loss   dfl_loss  Instances       Size\n"
          ]
        },
        {
          "name": "stderr",
          "output_type": "stream",
          "text": [
            "      13/50      2.17G      1.407      1.199      1.241         72        640: 100%|██████████| 19/19 [00:07<00:00,  2.56it/s]\n",
            "                 Class     Images  Instances      Box(P          R      mAP50  mAP50-95): 100%|██████████| 3/3 [00:01<00:00,  2.10it/s]\n"
          ]
        },
        {
          "name": "stdout",
          "output_type": "stream",
          "text": [
            "                   all         84        626      0.756       0.72      0.725      0.451\n",
            "\n",
            "      Epoch    GPU_mem   box_loss   cls_loss   dfl_loss  Instances       Size\n"
          ]
        },
        {
          "name": "stderr",
          "output_type": "stream",
          "text": [
            "      14/50      2.25G       1.41       1.19      1.226         79        640: 100%|██████████| 19/19 [00:04<00:00,  3.88it/s]\n",
            "                 Class     Images  Instances      Box(P          R      mAP50  mAP50-95): 100%|██████████| 3/3 [00:01<00:00,  2.86it/s]\n"
          ]
        },
        {
          "name": "stdout",
          "output_type": "stream",
          "text": [
            "                   all         84        626      0.828      0.734      0.732      0.454\n",
            "\n",
            "      Epoch    GPU_mem   box_loss   cls_loss   dfl_loss  Instances       Size\n"
          ]
        },
        {
          "name": "stderr",
          "output_type": "stream",
          "text": [
            "      15/50      2.31G      1.421      1.195      1.254         57        640: 100%|██████████| 19/19 [00:06<00:00,  2.96it/s]\n",
            "                 Class     Images  Instances      Box(P          R      mAP50  mAP50-95): 100%|██████████| 3/3 [00:02<00:00,  1.44it/s]"
          ]
        },
        {
          "name": "stdout",
          "output_type": "stream",
          "text": [
            "                   all         84        626      0.766      0.745      0.716      0.439\n"
          ]
        },
        {
          "name": "stderr",
          "output_type": "stream",
          "text": [
            "\n"
          ]
        },
        {
          "name": "stdout",
          "output_type": "stream",
          "text": [
            "\n",
            "      Epoch    GPU_mem   box_loss   cls_loss   dfl_loss  Instances       Size\n"
          ]
        },
        {
          "name": "stderr",
          "output_type": "stream",
          "text": [
            "      16/50      2.32G      1.387      1.116      1.216         70        640: 100%|██████████| 19/19 [00:04<00:00,  3.87it/s]\n",
            "                 Class     Images  Instances      Box(P          R      mAP50  mAP50-95): 100%|██████████| 3/3 [00:00<00:00,  3.50it/s]\n"
          ]
        },
        {
          "name": "stdout",
          "output_type": "stream",
          "text": [
            "                   all         84        626      0.871      0.688      0.741      0.461\n",
            "\n",
            "      Epoch    GPU_mem   box_loss   cls_loss   dfl_loss  Instances       Size\n"
          ]
        },
        {
          "name": "stderr",
          "output_type": "stream",
          "text": [
            "      17/50      2.31G      1.382      1.103       1.22         84        640: 100%|██████████| 19/19 [00:05<00:00,  3.28it/s]\n",
            "                 Class     Images  Instances      Box(P          R      mAP50  mAP50-95): 100%|██████████| 3/3 [00:01<00:00,  2.00it/s]"
          ]
        },
        {
          "name": "stdout",
          "output_type": "stream",
          "text": [
            "                   all         84        626      0.839      0.745      0.756      0.466\n"
          ]
        },
        {
          "name": "stderr",
          "output_type": "stream",
          "text": [
            "\n"
          ]
        },
        {
          "name": "stdout",
          "output_type": "stream",
          "text": [
            "\n",
            "      Epoch    GPU_mem   box_loss   cls_loss   dfl_loss  Instances       Size\n"
          ]
        },
        {
          "name": "stderr",
          "output_type": "stream",
          "text": [
            "      18/50      2.32G      1.346      1.087      1.224         68        640: 100%|██████████| 19/19 [00:05<00:00,  3.26it/s]\n",
            "                 Class     Images  Instances      Box(P          R      mAP50  mAP50-95): 100%|██████████| 3/3 [00:00<00:00,  3.20it/s]\n"
          ]
        },
        {
          "name": "stdout",
          "output_type": "stream",
          "text": [
            "                   all         84        626      0.816      0.761       0.77      0.492\n",
            "\n",
            "      Epoch    GPU_mem   box_loss   cls_loss   dfl_loss  Instances       Size\n"
          ]
        },
        {
          "name": "stderr",
          "output_type": "stream",
          "text": [
            "      19/50      2.23G      1.367      1.087      1.196         83        640: 100%|██████████| 19/19 [00:04<00:00,  3.98it/s]\n",
            "                 Class     Images  Instances      Box(P          R      mAP50  mAP50-95): 100%|██████████| 3/3 [00:01<00:00,  2.07it/s]"
          ]
        },
        {
          "name": "stdout",
          "output_type": "stream",
          "text": [
            "                   all         84        626      0.807      0.735      0.767      0.482\n"
          ]
        },
        {
          "name": "stderr",
          "output_type": "stream",
          "text": [
            "\n"
          ]
        },
        {
          "name": "stdout",
          "output_type": "stream",
          "text": [
            "\n",
            "      Epoch    GPU_mem   box_loss   cls_loss   dfl_loss  Instances       Size\n"
          ]
        },
        {
          "name": "stderr",
          "output_type": "stream",
          "text": [
            "      20/50       2.3G       1.32      1.045      1.188         65        640: 100%|██████████| 19/19 [00:06<00:00,  2.82it/s]\n",
            "                 Class     Images  Instances      Box(P          R      mAP50  mAP50-95): 100%|██████████| 3/3 [00:00<00:00,  3.46it/s]\n"
          ]
        },
        {
          "name": "stdout",
          "output_type": "stream",
          "text": [
            "                   all         84        626      0.786      0.739      0.763      0.478\n",
            "\n",
            "      Epoch    GPU_mem   box_loss   cls_loss   dfl_loss  Instances       Size\n"
          ]
        },
        {
          "name": "stderr",
          "output_type": "stream",
          "text": [
            "      21/50       2.3G      1.316      1.045      1.182         50        640: 100%|██████████| 19/19 [00:04<00:00,  4.02it/s]\n",
            "                 Class     Images  Instances      Box(P          R      mAP50  mAP50-95): 100%|██████████| 3/3 [00:00<00:00,  3.14it/s]"
          ]
        },
        {
          "name": "stdout",
          "output_type": "stream",
          "text": [
            "                   all         84        626      0.791      0.751       0.79      0.468\n"
          ]
        },
        {
          "name": "stderr",
          "output_type": "stream",
          "text": [
            "\n"
          ]
        },
        {
          "name": "stdout",
          "output_type": "stream",
          "text": [
            "\n",
            "      Epoch    GPU_mem   box_loss   cls_loss   dfl_loss  Instances       Size\n"
          ]
        },
        {
          "name": "stderr",
          "output_type": "stream",
          "text": [
            "      22/50       2.3G      1.312      1.019      1.193         90        640: 100%|██████████| 19/19 [00:07<00:00,  2.68it/s]\n",
            "                 Class     Images  Instances      Box(P          R      mAP50  mAP50-95): 100%|██████████| 3/3 [00:00<00:00,  3.23it/s]\n"
          ]
        },
        {
          "name": "stdout",
          "output_type": "stream",
          "text": [
            "                   all         84        626      0.786      0.757      0.782      0.464\n",
            "\n",
            "      Epoch    GPU_mem   box_loss   cls_loss   dfl_loss  Instances       Size\n"
          ]
        },
        {
          "name": "stderr",
          "output_type": "stream",
          "text": [
            "      23/50      2.31G      1.374      1.064       1.23         68        640: 100%|██████████| 19/19 [00:04<00:00,  4.01it/s]\n",
            "                 Class     Images  Instances      Box(P          R      mAP50  mAP50-95): 100%|██████████| 3/3 [00:00<00:00,  3.04it/s]\n"
          ]
        },
        {
          "name": "stdout",
          "output_type": "stream",
          "text": [
            "                   all         84        626      0.829      0.749      0.796      0.482\n",
            "\n",
            "      Epoch    GPU_mem   box_loss   cls_loss   dfl_loss  Instances       Size\n"
          ]
        },
        {
          "name": "stderr",
          "output_type": "stream",
          "text": [
            "      24/50      2.19G      1.336      1.021      1.194         79        640: 100%|██████████| 19/19 [00:07<00:00,  2.47it/s]\n",
            "                 Class     Images  Instances      Box(P          R      mAP50  mAP50-95): 100%|██████████| 3/3 [00:01<00:00,  2.77it/s]\n"
          ]
        },
        {
          "name": "stdout",
          "output_type": "stream",
          "text": [
            "                   all         84        626      0.754      0.778      0.803      0.502\n",
            "\n",
            "      Epoch    GPU_mem   box_loss   cls_loss   dfl_loss  Instances       Size\n"
          ]
        },
        {
          "name": "stderr",
          "output_type": "stream",
          "text": [
            "      25/50      2.28G      1.313      1.004      1.183         38        640: 100%|██████████| 19/19 [00:04<00:00,  4.01it/s]\n",
            "                 Class     Images  Instances      Box(P          R      mAP50  mAP50-95): 100%|██████████| 3/3 [00:00<00:00,  3.15it/s]"
          ]
        },
        {
          "name": "stdout",
          "output_type": "stream",
          "text": [
            "                   all         84        626       0.78      0.786      0.876      0.558\n"
          ]
        },
        {
          "name": "stderr",
          "output_type": "stream",
          "text": [
            "\n"
          ]
        },
        {
          "name": "stdout",
          "output_type": "stream",
          "text": [
            "\n",
            "      Epoch    GPU_mem   box_loss   cls_loss   dfl_loss  Instances       Size\n"
          ]
        },
        {
          "name": "stderr",
          "output_type": "stream",
          "text": [
            "      26/50      2.32G      1.285     0.9919      1.183         45        640: 100%|██████████| 19/19 [00:07<00:00,  2.71it/s]\n",
            "                 Class     Images  Instances      Box(P          R      mAP50  mAP50-95): 100%|██████████| 3/3 [00:01<00:00,  1.56it/s]"
          ]
        },
        {
          "name": "stdout",
          "output_type": "stream",
          "text": [
            "                   all         84        626      0.815      0.782      0.871       0.54\n"
          ]
        },
        {
          "name": "stderr",
          "output_type": "stream",
          "text": [
            "\n"
          ]
        },
        {
          "name": "stdout",
          "output_type": "stream",
          "text": [
            "\n",
            "      Epoch    GPU_mem   box_loss   cls_loss   dfl_loss  Instances       Size\n"
          ]
        },
        {
          "name": "stderr",
          "output_type": "stream",
          "text": [
            "      27/50      2.21G      1.311     0.9873      1.185         56        640: 100%|██████████| 19/19 [00:04<00:00,  3.86it/s]\n",
            "                 Class     Images  Instances      Box(P          R      mAP50  mAP50-95): 100%|██████████| 3/3 [00:00<00:00,  3.91it/s]"
          ]
        },
        {
          "name": "stdout",
          "output_type": "stream",
          "text": [
            "                   all         84        626      0.835      0.737      0.868      0.549\n"
          ]
        },
        {
          "name": "stderr",
          "output_type": "stream",
          "text": [
            "\n"
          ]
        },
        {
          "name": "stdout",
          "output_type": "stream",
          "text": [
            "\n",
            "      Epoch    GPU_mem   box_loss   cls_loss   dfl_loss  Instances       Size\n"
          ]
        },
        {
          "name": "stderr",
          "output_type": "stream",
          "text": [
            "      28/50      2.18G      1.323      0.996      1.184         77        640: 100%|██████████| 19/19 [00:05<00:00,  3.39it/s]\n",
            "                 Class     Images  Instances      Box(P          R      mAP50  mAP50-95): 100%|██████████| 3/3 [00:01<00:00,  1.58it/s]"
          ]
        },
        {
          "name": "stdout",
          "output_type": "stream",
          "text": [
            "                   all         84        626      0.785      0.761      0.828      0.529\n"
          ]
        },
        {
          "name": "stderr",
          "output_type": "stream",
          "text": [
            "\n"
          ]
        },
        {
          "name": "stdout",
          "output_type": "stream",
          "text": [
            "\n",
            "      Epoch    GPU_mem   box_loss   cls_loss   dfl_loss  Instances       Size\n"
          ]
        },
        {
          "name": "stderr",
          "output_type": "stream",
          "text": [
            "      29/50       2.3G      1.284     0.9759      1.183         77        640: 100%|██████████| 19/19 [00:05<00:00,  3.40it/s]\n",
            "                 Class     Images  Instances      Box(P          R      mAP50  mAP50-95): 100%|██████████| 3/3 [00:01<00:00,  2.94it/s]"
          ]
        },
        {
          "name": "stdout",
          "output_type": "stream",
          "text": [
            "                   all         84        626      0.789      0.768      0.831      0.521\n"
          ]
        },
        {
          "name": "stderr",
          "output_type": "stream",
          "text": [
            "\n"
          ]
        },
        {
          "name": "stdout",
          "output_type": "stream",
          "text": [
            "\n",
            "      Epoch    GPU_mem   box_loss   cls_loss   dfl_loss  Instances       Size\n"
          ]
        },
        {
          "name": "stderr",
          "output_type": "stream",
          "text": [
            "      30/50      2.31G      1.238     0.9364      1.162         58        640: 100%|██████████| 19/19 [00:04<00:00,  3.97it/s]\n",
            "                 Class     Images  Instances      Box(P          R      mAP50  mAP50-95): 100%|██████████| 3/3 [00:01<00:00,  1.80it/s]"
          ]
        },
        {
          "name": "stdout",
          "output_type": "stream",
          "text": [
            "                   all         84        626      0.737      0.923      0.874      0.539\n"
          ]
        },
        {
          "name": "stderr",
          "output_type": "stream",
          "text": [
            "\n"
          ]
        },
        {
          "name": "stdout",
          "output_type": "stream",
          "text": [
            "\n",
            "      Epoch    GPU_mem   box_loss   cls_loss   dfl_loss  Instances       Size\n"
          ]
        },
        {
          "name": "stderr",
          "output_type": "stream",
          "text": [
            "      31/50      2.37G      1.284     0.9731      1.165         96        640: 100%|██████████| 19/19 [00:06<00:00,  3.14it/s]\n",
            "                 Class     Images  Instances      Box(P          R      mAP50  mAP50-95): 100%|██████████| 3/3 [00:00<00:00,  3.26it/s]"
          ]
        },
        {
          "name": "stdout",
          "output_type": "stream",
          "text": [
            "                   all         84        626      0.694      0.944      0.872      0.553\n"
          ]
        },
        {
          "name": "stderr",
          "output_type": "stream",
          "text": [
            "\n"
          ]
        },
        {
          "name": "stdout",
          "output_type": "stream",
          "text": [
            "\n",
            "      Epoch    GPU_mem   box_loss   cls_loss   dfl_loss  Instances       Size\n"
          ]
        },
        {
          "name": "stderr",
          "output_type": "stream",
          "text": [
            "      32/50      2.32G      1.288     0.9437      1.175         80        640: 100%|██████████| 19/19 [00:04<00:00,  3.83it/s]\n",
            "                 Class     Images  Instances      Box(P          R      mAP50  mAP50-95): 100%|██████████| 3/3 [00:01<00:00,  2.78it/s]"
          ]
        },
        {
          "name": "stdout",
          "output_type": "stream",
          "text": [
            "                   all         84        626      0.719      0.925      0.879      0.555\n"
          ]
        },
        {
          "name": "stderr",
          "output_type": "stream",
          "text": [
            "\n"
          ]
        },
        {
          "name": "stdout",
          "output_type": "stream",
          "text": [
            "\n",
            "      Epoch    GPU_mem   box_loss   cls_loss   dfl_loss  Instances       Size\n"
          ]
        },
        {
          "name": "stderr",
          "output_type": "stream",
          "text": [
            "      33/50      2.24G      1.267     0.9313       1.17         79        640: 100%|██████████| 19/19 [00:06<00:00,  2.72it/s]\n",
            "                 Class     Images  Instances      Box(P          R      mAP50  mAP50-95): 100%|██████████| 3/3 [00:00<00:00,  3.02it/s]"
          ]
        },
        {
          "name": "stdout",
          "output_type": "stream",
          "text": [
            "                   all         84        626       0.74      0.895      0.876      0.554\n"
          ]
        },
        {
          "name": "stderr",
          "output_type": "stream",
          "text": [
            "\n"
          ]
        },
        {
          "name": "stdout",
          "output_type": "stream",
          "text": [
            "\n",
            "      Epoch    GPU_mem   box_loss   cls_loss   dfl_loss  Instances       Size\n"
          ]
        },
        {
          "name": "stderr",
          "output_type": "stream",
          "text": [
            "      34/50      2.32G      1.249     0.9219       1.16         65        640: 100%|██████████| 19/19 [00:04<00:00,  4.22it/s]\n",
            "                 Class     Images  Instances      Box(P          R      mAP50  mAP50-95): 100%|██████████| 3/3 [00:01<00:00,  2.86it/s]\n"
          ]
        },
        {
          "name": "stdout",
          "output_type": "stream",
          "text": [
            "                   all         84        626      0.791      0.935      0.887      0.554\n",
            "\n",
            "      Epoch    GPU_mem   box_loss   cls_loss   dfl_loss  Instances       Size\n"
          ]
        },
        {
          "name": "stderr",
          "output_type": "stream",
          "text": [
            "      35/50      2.24G      1.271     0.9276      1.162         55        640: 100%|██████████| 19/19 [00:07<00:00,  2.57it/s]\n",
            "                 Class     Images  Instances      Box(P          R      mAP50  mAP50-95): 100%|██████████| 3/3 [00:01<00:00,  2.62it/s]"
          ]
        },
        {
          "name": "stdout",
          "output_type": "stream",
          "text": [
            "                   all         84        626      0.759      0.934      0.878      0.556\n"
          ]
        },
        {
          "name": "stderr",
          "output_type": "stream",
          "text": [
            "\n"
          ]
        },
        {
          "name": "stdout",
          "output_type": "stream",
          "text": [
            "\n",
            "      Epoch    GPU_mem   box_loss   cls_loss   dfl_loss  Instances       Size\n"
          ]
        },
        {
          "name": "stderr",
          "output_type": "stream",
          "text": [
            "      36/50      2.32G      1.236     0.9369      1.164         69        640: 100%|██████████| 19/19 [00:04<00:00,  3.96it/s]\n",
            "                 Class     Images  Instances      Box(P          R      mAP50  mAP50-95): 100%|██████████| 3/3 [00:00<00:00,  3.00it/s]\n"
          ]
        },
        {
          "name": "stdout",
          "output_type": "stream",
          "text": [
            "                   all         84        626      0.769      0.941      0.883      0.565\n",
            "\n",
            "      Epoch    GPU_mem   box_loss   cls_loss   dfl_loss  Instances       Size\n"
          ]
        },
        {
          "name": "stderr",
          "output_type": "stream",
          "text": [
            "      37/50      2.25G      1.246     0.9014      1.156         51        640: 100%|██████████| 19/19 [00:07<00:00,  2.71it/s]\n",
            "                 Class     Images  Instances      Box(P          R      mAP50  mAP50-95): 100%|██████████| 3/3 [00:01<00:00,  1.52it/s]"
          ]
        },
        {
          "name": "stdout",
          "output_type": "stream",
          "text": [
            "                   all         84        626       0.75      0.938      0.883      0.555\n"
          ]
        },
        {
          "name": "stderr",
          "output_type": "stream",
          "text": [
            "\n"
          ]
        },
        {
          "name": "stdout",
          "output_type": "stream",
          "text": [
            "\n",
            "      Epoch    GPU_mem   box_loss   cls_loss   dfl_loss  Instances       Size\n"
          ]
        },
        {
          "name": "stderr",
          "output_type": "stream",
          "text": [
            "      38/50      2.24G      1.212     0.8712      1.141         60        640: 100%|██████████| 19/19 [00:04<00:00,  3.95it/s]\n",
            "                 Class     Images  Instances      Box(P          R      mAP50  mAP50-95): 100%|██████████| 3/3 [00:00<00:00,  3.04it/s]\n"
          ]
        },
        {
          "name": "stdout",
          "output_type": "stream",
          "text": [
            "                   all         84        626      0.799       0.91       0.89      0.555\n",
            "\n",
            "      Epoch    GPU_mem   box_loss   cls_loss   dfl_loss  Instances       Size\n"
          ]
        },
        {
          "name": "stderr",
          "output_type": "stream",
          "text": [
            "      39/50      2.28G      1.226     0.8901       1.14         67        640: 100%|██████████| 19/19 [00:05<00:00,  3.27it/s]\n",
            "                 Class     Images  Instances      Box(P          R      mAP50  mAP50-95): 100%|██████████| 3/3 [00:01<00:00,  1.56it/s]"
          ]
        },
        {
          "name": "stdout",
          "output_type": "stream",
          "text": [
            "                   all         84        626      0.823      0.912       0.88      0.561\n"
          ]
        },
        {
          "name": "stderr",
          "output_type": "stream",
          "text": [
            "\n"
          ]
        },
        {
          "name": "stdout",
          "output_type": "stream",
          "text": [
            "\n",
            "      Epoch    GPU_mem   box_loss   cls_loss   dfl_loss  Instances       Size\n"
          ]
        },
        {
          "name": "stderr",
          "output_type": "stream",
          "text": [
            "      40/50      2.31G      1.198     0.8798      1.152         50        640: 100%|██████████| 19/19 [00:04<00:00,  3.81it/s]\n",
            "                 Class     Images  Instances      Box(P          R      mAP50  mAP50-95): 100%|██████████| 3/3 [00:00<00:00,  3.01it/s]\n"
          ]
        },
        {
          "name": "stdout",
          "output_type": "stream",
          "text": [
            "                   all         84        626      0.828      0.902      0.882      0.561\n",
            "Closing dataloader mosaic\n",
            "\u001b[34m\u001b[1malbumentations: \u001b[0mBlur(p=0.01, blur_limit=(3, 7)), MedianBlur(p=0.01, blur_limit=(3, 7)), ToGray(p=0.01, num_output_channels=3, method='weighted_average'), CLAHE(p=0.01, clip_limit=(1.0, 4.0), tile_grid_size=(8, 8))\n",
            "\n",
            "      Epoch    GPU_mem   box_loss   cls_loss   dfl_loss  Instances       Size\n"
          ]
        },
        {
          "name": "stderr",
          "output_type": "stream",
          "text": [
            "      41/50      2.27G       1.26     0.9258      1.177         56        640: 100%|██████████| 19/19 [00:07<00:00,  2.47it/s]\n",
            "                 Class     Images  Instances      Box(P          R      mAP50  mAP50-95): 100%|██████████| 3/3 [00:01<00:00,  1.66it/s]"
          ]
        },
        {
          "name": "stdout",
          "output_type": "stream",
          "text": [
            "                   all         84        626      0.829      0.905      0.884      0.562\n"
          ]
        },
        {
          "name": "stderr",
          "output_type": "stream",
          "text": [
            "\n"
          ]
        },
        {
          "name": "stdout",
          "output_type": "stream",
          "text": [
            "\n",
            "      Epoch    GPU_mem   box_loss   cls_loss   dfl_loss  Instances       Size\n"
          ]
        },
        {
          "name": "stderr",
          "output_type": "stream",
          "text": [
            "      42/50      2.27G      1.239     0.9061      1.171         33        640: 100%|██████████| 19/19 [00:05<00:00,  3.62it/s]\n",
            "                 Class     Images  Instances      Box(P          R      mAP50  mAP50-95): 100%|██████████| 3/3 [00:01<00:00,  2.97it/s]\n"
          ]
        },
        {
          "name": "stdout",
          "output_type": "stream",
          "text": [
            "                   all         84        626      0.806      0.894      0.885      0.569\n",
            "\n",
            "      Epoch    GPU_mem   box_loss   cls_loss   dfl_loss  Instances       Size\n"
          ]
        },
        {
          "name": "stderr",
          "output_type": "stream",
          "text": [
            "      43/50      2.26G      1.226     0.9004      1.165         53        640: 100%|██████████| 19/19 [00:04<00:00,  3.84it/s]\n",
            "                 Class     Images  Instances      Box(P          R      mAP50  mAP50-95): 100%|██████████| 3/3 [00:01<00:00,  2.05it/s]"
          ]
        },
        {
          "name": "stdout",
          "output_type": "stream",
          "text": [
            "                   all         84        626      0.813      0.911      0.896      0.582\n"
          ]
        },
        {
          "name": "stderr",
          "output_type": "stream",
          "text": [
            "\n"
          ]
        },
        {
          "name": "stdout",
          "output_type": "stream",
          "text": [
            "\n",
            "      Epoch    GPU_mem   box_loss   cls_loss   dfl_loss  Instances       Size\n"
          ]
        },
        {
          "name": "stderr",
          "output_type": "stream",
          "text": [
            "      44/50      2.25G      1.222     0.8725      1.161         59        640: 100%|██████████| 19/19 [00:06<00:00,  2.82it/s]\n",
            "                 Class     Images  Instances      Box(P          R      mAP50  mAP50-95): 100%|██████████| 3/3 [00:00<00:00,  3.55it/s]"
          ]
        },
        {
          "name": "stdout",
          "output_type": "stream",
          "text": [
            "                   all         84        626      0.802      0.907      0.887      0.571\n"
          ]
        },
        {
          "name": "stderr",
          "output_type": "stream",
          "text": [
            "\n"
          ]
        },
        {
          "name": "stdout",
          "output_type": "stream",
          "text": [
            "\n",
            "      Epoch    GPU_mem   box_loss   cls_loss   dfl_loss  Instances       Size\n"
          ]
        },
        {
          "name": "stderr",
          "output_type": "stream",
          "text": [
            "      45/50      2.26G      1.212     0.8615      1.171         33        640: 100%|██████████| 19/19 [00:04<00:00,  4.09it/s]\n",
            "                 Class     Images  Instances      Box(P          R      mAP50  mAP50-95): 100%|██████████| 3/3 [00:00<00:00,  3.78it/s]\n"
          ]
        },
        {
          "name": "stdout",
          "output_type": "stream",
          "text": [
            "                   all         84        626      0.813      0.922       0.89      0.565\n",
            "\n",
            "      Epoch    GPU_mem   box_loss   cls_loss   dfl_loss  Instances       Size\n"
          ]
        },
        {
          "name": "stderr",
          "output_type": "stream",
          "text": [
            "      46/50      2.27G      1.204     0.8435      1.157         48        640: 100%|██████████| 19/19 [00:07<00:00,  2.54it/s]\n",
            "                 Class     Images  Instances      Box(P          R      mAP50  mAP50-95): 100%|██████████| 3/3 [00:01<00:00,  1.98it/s]"
          ]
        },
        {
          "name": "stdout",
          "output_type": "stream",
          "text": [
            "                   all         84        626      0.817      0.903      0.884      0.569\n"
          ]
        },
        {
          "name": "stderr",
          "output_type": "stream",
          "text": [
            "\n"
          ]
        },
        {
          "name": "stdout",
          "output_type": "stream",
          "text": [
            "\n",
            "      Epoch    GPU_mem   box_loss   cls_loss   dfl_loss  Instances       Size\n"
          ]
        },
        {
          "name": "stderr",
          "output_type": "stream",
          "text": [
            "      47/50      2.26G      1.182     0.8488      1.152         27        640: 100%|██████████| 19/19 [00:04<00:00,  4.13it/s]\n",
            "                 Class     Images  Instances      Box(P          R      mAP50  mAP50-95): 100%|██████████| 3/3 [00:00<00:00,  3.47it/s]\n"
          ]
        },
        {
          "name": "stdout",
          "output_type": "stream",
          "text": [
            "                   all         84        626      0.812      0.924      0.888      0.571\n",
            "\n",
            "      Epoch    GPU_mem   box_loss   cls_loss   dfl_loss  Instances       Size\n"
          ]
        },
        {
          "name": "stderr",
          "output_type": "stream",
          "text": [
            "      48/50      2.29G      1.186     0.8515      1.148         34        640: 100%|██████████| 19/19 [00:07<00:00,  2.63it/s]\n",
            "                 Class     Images  Instances      Box(P          R      mAP50  mAP50-95): 100%|██████████| 3/3 [00:02<00:00,  1.06it/s]"
          ]
        },
        {
          "name": "stdout",
          "output_type": "stream",
          "text": [
            "                   all         84        626      0.802      0.936       0.89       0.57\n"
          ]
        },
        {
          "name": "stderr",
          "output_type": "stream",
          "text": [
            "\n"
          ]
        },
        {
          "name": "stdout",
          "output_type": "stream",
          "text": [
            "\n",
            "      Epoch    GPU_mem   box_loss   cls_loss   dfl_loss  Instances       Size\n"
          ]
        },
        {
          "name": "stderr",
          "output_type": "stream",
          "text": [
            "      49/50      2.27G      1.189     0.8411      1.141         35        640: 100%|██████████| 19/19 [00:04<00:00,  4.23it/s]\n",
            "                 Class     Images  Instances      Box(P          R      mAP50  mAP50-95): 100%|██████████| 3/3 [00:01<00:00,  2.84it/s]\n"
          ]
        },
        {
          "name": "stdout",
          "output_type": "stream",
          "text": [
            "                   all         84        626      0.809      0.933      0.892      0.572\n",
            "\n",
            "      Epoch    GPU_mem   box_loss   cls_loss   dfl_loss  Instances       Size\n"
          ]
        },
        {
          "name": "stderr",
          "output_type": "stream",
          "text": [
            "      50/50      2.26G      1.192      0.837      1.149         32        640: 100%|██████████| 19/19 [00:05<00:00,  3.50it/s]\n",
            "                 Class     Images  Instances      Box(P          R      mAP50  mAP50-95): 100%|██████████| 3/3 [00:01<00:00,  1.80it/s]"
          ]
        },
        {
          "name": "stdout",
          "output_type": "stream",
          "text": [
            "                   all         84        626      0.811      0.936      0.893       0.58\n"
          ]
        },
        {
          "name": "stderr",
          "output_type": "stream",
          "text": [
            "\n"
          ]
        },
        {
          "name": "stdout",
          "output_type": "stream",
          "text": [
            "\n",
            "50 epochs completed in 0.113 hours.\n",
            "Optimizer stripped from runs/detect/train2/weights/last.pt, 6.3MB\n",
            "Optimizer stripped from runs/detect/train2/weights/best.pt, 6.3MB\n",
            "\n",
            "Validating runs/detect/train2/weights/best.pt...\n",
            "Ultralytics 8.3.55 🚀 Python-3.10.12 torch-2.5.1+cu121 CUDA:0 (Tesla T4, 15102MiB)\n",
            "Model summary (fused): 168 layers, 3,007,403 parameters, 0 gradients, 8.1 GFLOPs\n"
          ]
        },
        {
          "name": "stderr",
          "output_type": "stream",
          "text": [
            "                 Class     Images  Instances      Box(P          R      mAP50  mAP50-95): 100%|██████████| 3/3 [00:01<00:00,  1.55it/s]\n"
          ]
        },
        {
          "name": "stdout",
          "output_type": "stream",
          "text": [
            "                   all         84        626      0.812      0.911      0.896      0.581\n",
            "                   Bus         11         21      0.915          1      0.995       0.81\n",
            "                 Lorry         46         46      0.881          1      0.994      0.688\n",
            "            Motorcycle         75        136      0.817      0.912      0.932      0.514\n",
            "            Threewheel         60         92      0.857      0.913      0.963      0.634\n",
            "               bicycle          2          2       0.73          1      0.995      0.697\n",
            "                   car         33         44      0.959          1      0.981      0.754\n",
            "                person         54        255      0.838      0.898      0.912       0.46\n",
            "                   van         11         11      0.622      0.897      0.677      0.405\n",
            "       vehicles-person         19         19       0.69      0.579      0.615       0.27\n",
            "Speed: 0.3ms preprocess, 2.9ms inference, 0.0ms loss, 4.8ms postprocess per image\n",
            "Results saved to \u001b[1mruns/detect/train2\u001b[0m\n"
          ]
        }
      ],
      "source": [
        "from ultralytics import YOLO\n",
        "model = YOLO('yolov8n.pt')  # Choose a pre-trained YOLOv8 model (e.g., yolov8n, yolov8s, etc.)\n",
        "model.train(data=\"YOUR_PATH_TO_data.yaml\", epochs=50, imgsz=640) #update path correctly\n",
        "# Save the trained model if needed\n",
        "model.save('PATH_TO_SAVE_MODEL/YOUR_MODEL_NAME.pt')  # Save the trained model"
      ]
    },
    {
      "cell_type": "markdown",
      "metadata": {
        "id": "xqjNnzchw1_6"
      },
      "source": [
        "# Evaluates the model on the validation set"
      ]
    },
    {
      "cell_type": "code",
      "execution_count": 7,
      "metadata": {
        "colab": {
          "base_uri": "https://localhost:8080/"
        },
        "id": "NyaZYS8WYF0u",
        "outputId": "2e11dd77-5c1d-45af-9d05-17e1da7fedfc"
      },
      "outputs": [
        {
          "name": "stdout",
          "output_type": "stream",
          "text": [
            "Ultralytics 8.3.55 🚀 Python-3.10.12 torch-2.5.1+cu121 CUDA:0 (Tesla T4, 15102MiB)\n",
            "Model summary (fused): 168 layers, 3,007,403 parameters, 0 gradients, 8.1 GFLOPs\n"
          ]
        },
        {
          "name": "stderr",
          "output_type": "stream",
          "text": [
            "\u001b[34m\u001b[1mval: \u001b[0mScanning /content/Sri-Lankan_road-traffic-1/valid/labels.cache... 84 images, 0 backgrounds, 0 corrupt: 100%|██████████| 84/84 [00:00<?, ?it/s]\n",
            "                 Class     Images  Instances      Box(P          R      mAP50  mAP50-95): 100%|██████████| 6/6 [00:03<00:00,  1.87it/s]\n"
          ]
        },
        {
          "name": "stdout",
          "output_type": "stream",
          "text": [
            "                   all         84        626      0.814      0.911      0.896      0.582\n",
            "                   Bus         11         21      0.915          1      0.995       0.81\n",
            "                 Lorry         46         46      0.881          1      0.994      0.682\n",
            "            Motorcycle         75        136      0.817      0.912      0.932      0.516\n",
            "            Threewheel         60         92      0.858      0.913      0.961      0.637\n",
            "               bicycle          2          2      0.731          1      0.995      0.697\n",
            "                   car         33         44      0.959          1      0.981      0.754\n",
            "                person         54        255      0.848      0.898      0.913      0.462\n",
            "                   van         11         11      0.622      0.897      0.677      0.407\n",
            "       vehicles-person         19         19      0.691      0.579      0.616      0.275\n",
            "Speed: 0.3ms preprocess, 7.2ms inference, 0.0ms loss, 5.7ms postprocess per image\n",
            "Results saved to \u001b[1mruns/detect/train22\u001b[0m\n"
          ]
        }
      ],
      "source": [
        "metrics = model.val()  # Evaluates the model on the validation set\n"
      ]
    },
    {
      "cell_type": "markdown",
      "metadata": {
        "id": "ZCp2f-5W8EJ8"
      },
      "source": [
        "# Load the trained model"
      ]
    },
    {
      "cell_type": "code",
      "execution_count": 1,
      "metadata": {
        "id": "LS14ui3L61Zz"
      },
      "outputs": [],
      "source": [
        "#Load the trained YOLOv8 model\n",
        "from ultralytics import YOLO\n",
        "model_path = 'PATH_TO_TRAINED_MODEL' #as mentioned in model.save in previous section\n",
        "model = YOLO(model_path)"
      ]
    },
    {
      "cell_type": "markdown",
      "metadata": {
        "id": "7e36BV9Rw4Xx"
      },
      "source": [
        "# Upload input file"
      ]
    },
    {
      "cell_type": "code",
      "execution_count": 24,
      "metadata": {
        "colab": {
          "base_uri": "https://localhost:8080/",
          "height": 89
        },
        "id": "24Lt4oCrsn6q",
        "outputId": "a40756d3-ff14-4fd2-936d-b27768e19de4"
      },
      "outputs": [
        {
          "data": {
            "text/html": [
              "\n",
              "     <input type=\"file\" id=\"files-ab5f1feb-3726-4727-8e30-862ff2ad4e40\" name=\"files[]\" multiple disabled\n",
              "        style=\"border:none\" />\n",
              "     <output id=\"result-ab5f1feb-3726-4727-8e30-862ff2ad4e40\">\n",
              "      Upload widget is only available when the cell has been executed in the\n",
              "      current browser session. Please rerun this cell to enable.\n",
              "      </output>\n",
              "      <script>// Copyright 2017 Google LLC\n",
              "//\n",
              "// Licensed under the Apache License, Version 2.0 (the \"License\");\n",
              "// you may not use this file except in compliance with the License.\n",
              "// You may obtain a copy of the License at\n",
              "//\n",
              "//      http://www.apache.org/licenses/LICENSE-2.0\n",
              "//\n",
              "// Unless required by applicable law or agreed to in writing, software\n",
              "// distributed under the License is distributed on an \"AS IS\" BASIS,\n",
              "// WITHOUT WARRANTIES OR CONDITIONS OF ANY KIND, either express or implied.\n",
              "// See the License for the specific language governing permissions and\n",
              "// limitations under the License.\n",
              "\n",
              "/**\n",
              " * @fileoverview Helpers for google.colab Python module.\n",
              " */\n",
              "(function(scope) {\n",
              "function span(text, styleAttributes = {}) {\n",
              "  const element = document.createElement('span');\n",
              "  element.textContent = text;\n",
              "  for (const key of Object.keys(styleAttributes)) {\n",
              "    element.style[key] = styleAttributes[key];\n",
              "  }\n",
              "  return element;\n",
              "}\n",
              "\n",
              "// Max number of bytes which will be uploaded at a time.\n",
              "const MAX_PAYLOAD_SIZE = 100 * 1024;\n",
              "\n",
              "function _uploadFiles(inputId, outputId) {\n",
              "  const steps = uploadFilesStep(inputId, outputId);\n",
              "  const outputElement = document.getElementById(outputId);\n",
              "  // Cache steps on the outputElement to make it available for the next call\n",
              "  // to uploadFilesContinue from Python.\n",
              "  outputElement.steps = steps;\n",
              "\n",
              "  return _uploadFilesContinue(outputId);\n",
              "}\n",
              "\n",
              "// This is roughly an async generator (not supported in the browser yet),\n",
              "// where there are multiple asynchronous steps and the Python side is going\n",
              "// to poll for completion of each step.\n",
              "// This uses a Promise to block the python side on completion of each step,\n",
              "// then passes the result of the previous step as the input to the next step.\n",
              "function _uploadFilesContinue(outputId) {\n",
              "  const outputElement = document.getElementById(outputId);\n",
              "  const steps = outputElement.steps;\n",
              "\n",
              "  const next = steps.next(outputElement.lastPromiseValue);\n",
              "  return Promise.resolve(next.value.promise).then((value) => {\n",
              "    // Cache the last promise value to make it available to the next\n",
              "    // step of the generator.\n",
              "    outputElement.lastPromiseValue = value;\n",
              "    return next.value.response;\n",
              "  });\n",
              "}\n",
              "\n",
              "/**\n",
              " * Generator function which is called between each async step of the upload\n",
              " * process.\n",
              " * @param {string} inputId Element ID of the input file picker element.\n",
              " * @param {string} outputId Element ID of the output display.\n",
              " * @return {!Iterable<!Object>} Iterable of next steps.\n",
              " */\n",
              "function* uploadFilesStep(inputId, outputId) {\n",
              "  const inputElement = document.getElementById(inputId);\n",
              "  inputElement.disabled = false;\n",
              "\n",
              "  const outputElement = document.getElementById(outputId);\n",
              "  outputElement.innerHTML = '';\n",
              "\n",
              "  const pickedPromise = new Promise((resolve) => {\n",
              "    inputElement.addEventListener('change', (e) => {\n",
              "      resolve(e.target.files);\n",
              "    });\n",
              "  });\n",
              "\n",
              "  const cancel = document.createElement('button');\n",
              "  inputElement.parentElement.appendChild(cancel);\n",
              "  cancel.textContent = 'Cancel upload';\n",
              "  const cancelPromise = new Promise((resolve) => {\n",
              "    cancel.onclick = () => {\n",
              "      resolve(null);\n",
              "    };\n",
              "  });\n",
              "\n",
              "  // Wait for the user to pick the files.\n",
              "  const files = yield {\n",
              "    promise: Promise.race([pickedPromise, cancelPromise]),\n",
              "    response: {\n",
              "      action: 'starting',\n",
              "    }\n",
              "  };\n",
              "\n",
              "  cancel.remove();\n",
              "\n",
              "  // Disable the input element since further picks are not allowed.\n",
              "  inputElement.disabled = true;\n",
              "\n",
              "  if (!files) {\n",
              "    return {\n",
              "      response: {\n",
              "        action: 'complete',\n",
              "      }\n",
              "    };\n",
              "  }\n",
              "\n",
              "  for (const file of files) {\n",
              "    const li = document.createElement('li');\n",
              "    li.append(span(file.name, {fontWeight: 'bold'}));\n",
              "    li.append(span(\n",
              "        `(${file.type || 'n/a'}) - ${file.size} bytes, ` +\n",
              "        `last modified: ${\n",
              "            file.lastModifiedDate ? file.lastModifiedDate.toLocaleDateString() :\n",
              "                                    'n/a'} - `));\n",
              "    const percent = span('0% done');\n",
              "    li.appendChild(percent);\n",
              "\n",
              "    outputElement.appendChild(li);\n",
              "\n",
              "    const fileDataPromise = new Promise((resolve) => {\n",
              "      const reader = new FileReader();\n",
              "      reader.onload = (e) => {\n",
              "        resolve(e.target.result);\n",
              "      };\n",
              "      reader.readAsArrayBuffer(file);\n",
              "    });\n",
              "    // Wait for the data to be ready.\n",
              "    let fileData = yield {\n",
              "      promise: fileDataPromise,\n",
              "      response: {\n",
              "        action: 'continue',\n",
              "      }\n",
              "    };\n",
              "\n",
              "    // Use a chunked sending to avoid message size limits. See b/62115660.\n",
              "    let position = 0;\n",
              "    do {\n",
              "      const length = Math.min(fileData.byteLength - position, MAX_PAYLOAD_SIZE);\n",
              "      const chunk = new Uint8Array(fileData, position, length);\n",
              "      position += length;\n",
              "\n",
              "      const base64 = btoa(String.fromCharCode.apply(null, chunk));\n",
              "      yield {\n",
              "        response: {\n",
              "          action: 'append',\n",
              "          file: file.name,\n",
              "          data: base64,\n",
              "        },\n",
              "      };\n",
              "\n",
              "      let percentDone = fileData.byteLength === 0 ?\n",
              "          100 :\n",
              "          Math.round((position / fileData.byteLength) * 100);\n",
              "      percent.textContent = `${percentDone}% done`;\n",
              "\n",
              "    } while (position < fileData.byteLength);\n",
              "  }\n",
              "\n",
              "  // All done.\n",
              "  yield {\n",
              "    response: {\n",
              "      action: 'complete',\n",
              "    }\n",
              "  };\n",
              "}\n",
              "\n",
              "scope.google = scope.google || {};\n",
              "scope.google.colab = scope.google.colab || {};\n",
              "scope.google.colab._files = {\n",
              "  _uploadFiles,\n",
              "  _uploadFilesContinue,\n",
              "};\n",
              "})(self);\n",
              "</script> "
            ],
            "text/plain": [
              "<IPython.core.display.HTML object>"
            ]
          },
          "metadata": {},
          "output_type": "display_data"
        },
        {
          "name": "stdout",
          "output_type": "stream",
          "text": [
            "Saving video1.mp4 to video1.mp4\n",
            "Uploaded file: video1.mp4\n"
          ]
        }
      ],
      "source": [
        "from google.colab import files\n",
        "\n",
        "# Upload a video file\n",
        "uploaded = files.upload()\n",
        "\n",
        "# Check the uploaded files\n",
        "for filename in uploaded.keys():\n",
        "    print(f'Uploaded file: {filename}')"
      ]
    },
    {
      "cell_type": "markdown",
      "metadata": {
        "id": "ALK1WW_Nw9AC"
      },
      "source": [
        "# Predict on input video"
      ]
    },
    {
      "cell_type": "code",
      "execution_count": null,
      "metadata": {
        "colab": {
          "base_uri": "https://localhost:8080/"
        },
        "id": "HqxRuuETYcR0",
        "outputId": "61804897-8fe6-4240-f03f-34c6a42af002"
      },
      "outputs": [
        {
          "name": "stdout",
          "output_type": "stream",
          "text": [
            "\n",
            "\n",
            "WARNING ⚠️ inference results will accumulate in RAM unless `stream=True` is passed, causing potential out-of-memory\n",
            "errors for large sources or long-running streams and videos. See https://docs.ultralytics.com/modes/predict/ for help.\n",
            "\n",
            "Example:\n",
            "    results = model(source=..., stream=True)  # generator of Results objects\n",
            "    for r in results:\n",
            "        boxes = r.boxes  # Boxes object for bbox outputs\n",
            "        masks = r.masks  # Masks object for segment masks outputs\n",
            "        probs = r.probs  # Class probabilities for classification outputs\n",
            "\n",
            "video 1/1 (frame 1/704) /content/Sri-Lankan_road-traffic-1/video1.mp4: 384x640 1 Motorcycle, 1 Threewheel, 2 cars, 8.0ms\n",
            "video 1/1 (frame 2/704) /content/Sri-Lankan_road-traffic-1/video1.mp4: 384x640 1 Motorcycle, 1 Threewheel, 2 cars, 10.5ms\n",
            "video 1/1 (frame 3/704) /content/Sri-Lankan_road-traffic-1/video1.mp4: 384x640 1 Motorcycle, 1 Threewheel, 2 cars, 12.1ms\n",
            "video 1/1 (frame 4/704) /content/Sri-Lankan_road-traffic-1/video1.mp4: 384x640 1 Motorcycle, 1 Threewheel, 2 cars, 10.1ms\n",
            "video 1/1 (frame 5/704) /content/Sri-Lankan_road-traffic-1/video1.mp4: 384x640 1 Motorcycle, 1 Threewheel, 2 cars, 10.4ms\n",
            "video 1/1 (frame 6/704) /content/Sri-Lankan_road-traffic-1/video1.mp4: 384x640 1 Motorcycle, 1 Threewheel, 2 cars, 10.2ms\n",
            "video 1/1 (frame 7/704) /content/Sri-Lankan_road-traffic-1/video1.mp4: 384x640 1 Motorcycle, 1 Threewheel, 2 cars, 10.6ms\n",
            "video 1/1 (frame 8/704) /content/Sri-Lankan_road-traffic-1/video1.mp4: 384x640 1 Motorcycle, 1 Threewheel, 2 cars, 10.8ms\n",
            "video 1/1 (frame 9/704) /content/Sri-Lankan_road-traffic-1/video1.mp4: 384x640 1 Threewheel, 2 cars, 13.5ms\n",
            "video 1/1 (frame 10/704) /content/Sri-Lankan_road-traffic-1/video1.mp4: 384x640 1 Threewheel, 2 cars, 10.4ms\n",
            "video 1/1 (frame 11/704) /content/Sri-Lankan_road-traffic-1/video1.mp4: 384x640 1 Threewheel, 2 cars, 10.8ms\n",
            "video 1/1 (frame 12/704) /content/Sri-Lankan_road-traffic-1/video1.mp4: 384x640 1 Motorcycle, 1 Threewheel, 2 cars, 10.6ms\n",
            "video 1/1 (frame 13/704) /content/Sri-Lankan_road-traffic-1/video1.mp4: 384x640 1 Motorcycle, 1 Threewheel, 2 cars, 18.6ms\n",
            "video 1/1 (frame 14/704) /content/Sri-Lankan_road-traffic-1/video1.mp4: 384x640 2 Motorcycles, 1 Threewheel, 2 cars, 15.7ms\n",
            "video 1/1 (frame 15/704) /content/Sri-Lankan_road-traffic-1/video1.mp4: 384x640 2 Motorcycles, 1 Threewheel, 2 cars, 10.5ms\n",
            "video 1/1 (frame 16/704) /content/Sri-Lankan_road-traffic-1/video1.mp4: 384x640 1 Motorcycle, 1 Threewheel, 2 cars, 10.9ms\n",
            "video 1/1 (frame 17/704) /content/Sri-Lankan_road-traffic-1/video1.mp4: 384x640 1 Motorcycle, 1 Threewheel, 2 cars, 11.2ms\n",
            "video 1/1 (frame 18/704) /content/Sri-Lankan_road-traffic-1/video1.mp4: 384x640 1 Motorcycle, 1 Threewheel, 2 cars, 11.8ms\n",
            "video 1/1 (frame 19/704) /content/Sri-Lankan_road-traffic-1/video1.mp4: 384x640 1 Motorcycle, 1 Threewheel, 2 cars, 10.4ms\n",
            "video 1/1 (frame 20/704) /content/Sri-Lankan_road-traffic-1/video1.mp4: 384x640 2 Motorcycles, 1 Threewheel, 2 cars, 10.3ms\n",
            "video 1/1 (frame 21/704) /content/Sri-Lankan_road-traffic-1/video1.mp4: 384x640 1 Motorcycle, 1 Threewheel, 2 cars, 10.9ms\n",
            "video 1/1 (frame 22/704) /content/Sri-Lankan_road-traffic-1/video1.mp4: 384x640 1 Motorcycle, 1 Threewheel, 2 cars, 8.5ms\n",
            "video 1/1 (frame 23/704) /content/Sri-Lankan_road-traffic-1/video1.mp4: 384x640 1 Motorcycle, 1 Threewheel, 2 cars, 10.3ms\n",
            "video 1/1 (frame 24/704) /content/Sri-Lankan_road-traffic-1/video1.mp4: 384x640 1 Motorcycle, 1 Threewheel, 2 cars, 10.9ms\n",
            "video 1/1 (frame 25/704) /content/Sri-Lankan_road-traffic-1/video1.mp4: 384x640 1 Motorcycle, 1 Threewheel, 2 cars, 11.8ms\n",
            "video 1/1 (frame 26/704) /content/Sri-Lankan_road-traffic-1/video1.mp4: 384x640 1 Motorcycle, 1 Threewheel, 2 cars, 18.3ms\n",
            "video 1/1 (frame 27/704) /content/Sri-Lankan_road-traffic-1/video1.mp4: 384x640 1 Motorcycle, 1 Threewheel, 2 cars, 10.6ms\n",
            "video 1/1 (frame 28/704) /content/Sri-Lankan_road-traffic-1/video1.mp4: 384x640 1 Motorcycle, 1 Threewheel, 2 cars, 10.9ms\n",
            "video 1/1 (frame 29/704) /content/Sri-Lankan_road-traffic-1/video1.mp4: 384x640 1 Threewheel, 2 cars, 10.4ms\n",
            "video 1/1 (frame 30/704) /content/Sri-Lankan_road-traffic-1/video1.mp4: 384x640 1 Motorcycle, 1 Threewheel, 2 cars, 10.5ms\n",
            "video 1/1 (frame 31/704) /content/Sri-Lankan_road-traffic-1/video1.mp4: 384x640 1 Motorcycle, 1 Threewheel, 2 cars, 12.7ms\n",
            "video 1/1 (frame 32/704) /content/Sri-Lankan_road-traffic-1/video1.mp4: 384x640 1 Motorcycle, 1 Threewheel, 2 cars, 13.1ms\n",
            "video 1/1 (frame 33/704) /content/Sri-Lankan_road-traffic-1/video1.mp4: 384x640 1 Motorcycle, 1 Threewheel, 2 cars, 10.5ms\n",
            "video 1/1 (frame 34/704) /content/Sri-Lankan_road-traffic-1/video1.mp4: 384x640 1 Motorcycle, 1 Threewheel, 2 cars, 11.0ms\n",
            "video 1/1 (frame 35/704) /content/Sri-Lankan_road-traffic-1/video1.mp4: 384x640 1 Motorcycle, 1 Threewheel, 2 cars, 10.5ms\n",
            "video 1/1 (frame 36/704) /content/Sri-Lankan_road-traffic-1/video1.mp4: 384x640 1 Motorcycle, 1 Threewheel, 2 cars, 10.7ms\n",
            "video 1/1 (frame 37/704) /content/Sri-Lankan_road-traffic-1/video1.mp4: 384x640 2 Motorcycles, 1 Threewheel, 2 cars, 11.3ms\n",
            "video 1/1 (frame 38/704) /content/Sri-Lankan_road-traffic-1/video1.mp4: 384x640 1 Motorcycle, 1 Threewheel, 2 cars, 11.6ms\n",
            "video 1/1 (frame 39/704) /content/Sri-Lankan_road-traffic-1/video1.mp4: 384x640 1 Threewheel, 2 cars, 10.6ms\n",
            "video 1/1 (frame 40/704) /content/Sri-Lankan_road-traffic-1/video1.mp4: 384x640 1 Threewheel, 2 cars, 1 person, 11.0ms\n",
            "video 1/1 (frame 41/704) /content/Sri-Lankan_road-traffic-1/video1.mp4: 384x640 1 Threewheel, 2 cars, 1 person, 13.0ms\n",
            "video 1/1 (frame 42/704) /content/Sri-Lankan_road-traffic-1/video1.mp4: 384x640 1 Threewheel, 2 cars, 1 person, 10.3ms\n",
            "video 1/1 (frame 43/704) /content/Sri-Lankan_road-traffic-1/video1.mp4: 384x640 1 Threewheel, 2 cars, 10.4ms\n",
            "video 1/1 (frame 44/704) /content/Sri-Lankan_road-traffic-1/video1.mp4: 384x640 1 Motorcycle, 1 Threewheel, 2 cars, 18.9ms\n",
            "video 1/1 (frame 45/704) /content/Sri-Lankan_road-traffic-1/video1.mp4: 384x640 1 Threewheel, 2 cars, 1 person, 10.1ms\n",
            "video 1/1 (frame 46/704) /content/Sri-Lankan_road-traffic-1/video1.mp4: 384x640 1 Threewheel, 2 cars, 1 person, 10.4ms\n",
            "video 1/1 (frame 47/704) /content/Sri-Lankan_road-traffic-1/video1.mp4: 384x640 1 Threewheel, 2 cars, 2 persons, 10.9ms\n",
            "video 1/1 (frame 48/704) /content/Sri-Lankan_road-traffic-1/video1.mp4: 384x640 1 Threewheel, 2 cars, 2 persons, 13.5ms\n",
            "video 1/1 (frame 49/704) /content/Sri-Lankan_road-traffic-1/video1.mp4: 384x640 1 Threewheel, 2 cars, 2 persons, 13.4ms\n",
            "video 1/1 (frame 50/704) /content/Sri-Lankan_road-traffic-1/video1.mp4: 384x640 1 Threewheel, 2 cars, 2 persons, 10.0ms\n",
            "video 1/1 (frame 51/704) /content/Sri-Lankan_road-traffic-1/video1.mp4: 384x640 1 Threewheel, 2 cars, 2 persons, 10.2ms\n",
            "video 1/1 (frame 52/704) /content/Sri-Lankan_road-traffic-1/video1.mp4: 384x640 1 Threewheel, 3 cars, 1 person, 18.4ms\n",
            "video 1/1 (frame 53/704) /content/Sri-Lankan_road-traffic-1/video1.mp4: 384x640 3 cars, 1 person, 10.9ms\n",
            "video 1/1 (frame 54/704) /content/Sri-Lankan_road-traffic-1/video1.mp4: 384x640 3 cars, 1 person, 14.0ms\n",
            "video 1/1 (frame 55/704) /content/Sri-Lankan_road-traffic-1/video1.mp4: 384x640 3 cars, 2 persons, 10.5ms\n",
            "video 1/1 (frame 56/704) /content/Sri-Lankan_road-traffic-1/video1.mp4: 384x640 1 Threewheel, 3 cars, 2 persons, 10.3ms\n",
            "video 1/1 (frame 57/704) /content/Sri-Lankan_road-traffic-1/video1.mp4: 384x640 1 Threewheel, 3 cars, 2 persons, 14.0ms\n",
            "video 1/1 (frame 58/704) /content/Sri-Lankan_road-traffic-1/video1.mp4: 384x640 1 Threewheel, 3 cars, 2 persons, 11.7ms\n",
            "video 1/1 (frame 59/704) /content/Sri-Lankan_road-traffic-1/video1.mp4: 384x640 1 Motorcycle, 1 Threewheel, 3 cars, 2 persons, 11.8ms\n",
            "video 1/1 (frame 60/704) /content/Sri-Lankan_road-traffic-1/video1.mp4: 384x640 1 Motorcycle, 1 Threewheel, 3 cars, 2 persons, 16.0ms\n",
            "video 1/1 (frame 61/704) /content/Sri-Lankan_road-traffic-1/video1.mp4: 384x640 1 Motorcycle, 1 Threewheel, 3 cars, 2 persons, 11.1ms\n",
            "video 1/1 (frame 62/704) /content/Sri-Lankan_road-traffic-1/video1.mp4: 384x640 1 Threewheel, 3 cars, 2 persons, 15.6ms\n",
            "video 1/1 (frame 63/704) /content/Sri-Lankan_road-traffic-1/video1.mp4: 384x640 1 Threewheel, 3 cars, 2 persons, 12.0ms\n",
            "video 1/1 (frame 64/704) /content/Sri-Lankan_road-traffic-1/video1.mp4: 384x640 1 Threewheel, 3 cars, 2 persons, 16.0ms\n",
            "video 1/1 (frame 65/704) /content/Sri-Lankan_road-traffic-1/video1.mp4: 384x640 1 Threewheel, 3 cars, 1 person, 23.2ms\n",
            "video 1/1 (frame 66/704) /content/Sri-Lankan_road-traffic-1/video1.mp4: 384x640 1 Threewheel, 3 cars, 1 person, 9.2ms\n",
            "video 1/1 (frame 67/704) /content/Sri-Lankan_road-traffic-1/video1.mp4: 384x640 1 Threewheel, 3 cars, 1 person, 14.3ms\n",
            "video 1/1 (frame 68/704) /content/Sri-Lankan_road-traffic-1/video1.mp4: 384x640 1 Threewheel, 3 cars, 2 persons, 22.3ms\n",
            "video 1/1 (frame 69/704) /content/Sri-Lankan_road-traffic-1/video1.mp4: 384x640 1 Threewheel, 2 cars, 2 persons, 15.4ms\n",
            "video 1/1 (frame 70/704) /content/Sri-Lankan_road-traffic-1/video1.mp4: 384x640 1 Threewheel, 3 cars, 2 persons, 11.7ms\n",
            "video 1/1 (frame 71/704) /content/Sri-Lankan_road-traffic-1/video1.mp4: 384x640 1 Threewheel, 3 cars, 1 person, 20.9ms\n",
            "video 1/1 (frame 72/704) /content/Sri-Lankan_road-traffic-1/video1.mp4: 384x640 1 Threewheel, 3 cars, 1 person, 15.2ms\n",
            "video 1/1 (frame 73/704) /content/Sri-Lankan_road-traffic-1/video1.mp4: 384x640 1 Motorcycle, 1 Threewheel, 4 cars, 1 person, 23.0ms\n",
            "video 1/1 (frame 74/704) /content/Sri-Lankan_road-traffic-1/video1.mp4: 384x640 1 Motorcycle, 4 cars, 1 person, 25.9ms\n",
            "video 1/1 (frame 75/704) /content/Sri-Lankan_road-traffic-1/video1.mp4: 384x640 1 Motorcycle, 3 cars, 1 person, 25.0ms\n",
            "video 1/1 (frame 76/704) /content/Sri-Lankan_road-traffic-1/video1.mp4: 384x640 1 Threewheel, 3 cars, 10.5ms\n",
            "video 1/1 (frame 77/704) /content/Sri-Lankan_road-traffic-1/video1.mp4: 384x640 1 Motorcycle, 3 cars, 1 person, 10.6ms\n",
            "video 1/1 (frame 78/704) /content/Sri-Lankan_road-traffic-1/video1.mp4: 384x640 1 Motorcycle, 1 Threewheel, 4 cars, 10.6ms\n",
            "video 1/1 (frame 79/704) /content/Sri-Lankan_road-traffic-1/video1.mp4: 384x640 1 Motorcycle, 3 cars, 2 persons, 10.7ms\n",
            "video 1/1 (frame 80/704) /content/Sri-Lankan_road-traffic-1/video1.mp4: 384x640 1 Motorcycle, 1 Threewheel, 4 cars, 1 person, 10.3ms\n",
            "video 1/1 (frame 81/704) /content/Sri-Lankan_road-traffic-1/video1.mp4: 384x640 1 Motorcycle, 1 Threewheel, 2 cars, 1 person, 10.5ms\n",
            "video 1/1 (frame 82/704) /content/Sri-Lankan_road-traffic-1/video1.mp4: 384x640 1 Threewheel, 3 cars, 1 person, 11.6ms\n",
            "video 1/1 (frame 83/704) /content/Sri-Lankan_road-traffic-1/video1.mp4: 384x640 1 Threewheel, 3 cars, 1 person, 10.5ms\n",
            "video 1/1 (frame 84/704) /content/Sri-Lankan_road-traffic-1/video1.mp4: 384x640 1 Threewheel, 3 cars, 2 persons, 21.2ms\n",
            "video 1/1 (frame 85/704) /content/Sri-Lankan_road-traffic-1/video1.mp4: 384x640 1 Threewheel, 3 cars, 2 persons, 11.1ms\n",
            "video 1/1 (frame 86/704) /content/Sri-Lankan_road-traffic-1/video1.mp4: 384x640 1 Motorcycle, 1 Threewheel, 3 cars, 2 persons, 13.6ms\n",
            "video 1/1 (frame 87/704) /content/Sri-Lankan_road-traffic-1/video1.mp4: 384x640 1 Motorcycle, 1 Threewheel, 3 cars, 2 persons, 10.4ms\n",
            "video 1/1 (frame 88/704) /content/Sri-Lankan_road-traffic-1/video1.mp4: 384x640 1 Motorcycle, 1 Threewheel, 3 cars, 1 person, 9.4ms\n",
            "video 1/1 (frame 89/704) /content/Sri-Lankan_road-traffic-1/video1.mp4: 384x640 1 Motorcycle, 1 Threewheel, 3 cars, 2 persons, 10.4ms\n",
            "video 1/1 (frame 90/704) /content/Sri-Lankan_road-traffic-1/video1.mp4: 384x640 1 Motorcycle, 1 Threewheel, 3 cars, 2 persons, 11.4ms\n",
            "video 1/1 (frame 91/704) /content/Sri-Lankan_road-traffic-1/video1.mp4: 384x640 1 Motorcycle, 1 Threewheel, 3 cars, 2 persons, 11.1ms\n",
            "video 1/1 (frame 92/704) /content/Sri-Lankan_road-traffic-1/video1.mp4: 384x640 2 Motorcycles, 1 Threewheel, 3 cars, 1 person, 15.1ms\n",
            "video 1/1 (frame 93/704) /content/Sri-Lankan_road-traffic-1/video1.mp4: 384x640 2 Motorcycles, 1 Threewheel, 3 cars, 1 person, 13.0ms\n",
            "video 1/1 (frame 94/704) /content/Sri-Lankan_road-traffic-1/video1.mp4: 384x640 4 Motorcycles, 1 Threewheel, 3 cars, 1 person, 10.7ms\n",
            "video 1/1 (frame 95/704) /content/Sri-Lankan_road-traffic-1/video1.mp4: 384x640 3 Motorcycles, 1 Threewheel, 3 cars, 11.6ms\n",
            "video 1/1 (frame 96/704) /content/Sri-Lankan_road-traffic-1/video1.mp4: 384x640 2 Motorcycles, 1 Threewheel, 3 cars, 11.0ms\n",
            "video 1/1 (frame 97/704) /content/Sri-Lankan_road-traffic-1/video1.mp4: 384x640 2 Motorcycles, 1 Threewheel, 3 cars, 10.1ms\n",
            "video 1/1 (frame 98/704) /content/Sri-Lankan_road-traffic-1/video1.mp4: 384x640 1 Motorcycle, 1 Threewheel, 3 cars, 1 person, 17.1ms\n",
            "video 1/1 (frame 99/704) /content/Sri-Lankan_road-traffic-1/video1.mp4: 384x640 2 Motorcycles, 1 Threewheel, 3 cars, 1 person, 11.7ms\n",
            "video 1/1 (frame 100/704) /content/Sri-Lankan_road-traffic-1/video1.mp4: 384x640 2 Motorcycles, 1 Threewheel, 3 cars, 1 person, 17.3ms\n",
            "video 1/1 (frame 101/704) /content/Sri-Lankan_road-traffic-1/video1.mp4: 384x640 2 Motorcycles, 1 Threewheel, 3 cars, 1 person, 10.8ms\n",
            "video 1/1 (frame 102/704) /content/Sri-Lankan_road-traffic-1/video1.mp4: 384x640 2 Motorcycles, 1 Threewheel, 3 cars, 1 person, 11.0ms\n",
            "video 1/1 (frame 103/704) /content/Sri-Lankan_road-traffic-1/video1.mp4: 384x640 1 Motorcycle, 1 Threewheel, 3 cars, 1 person, 13.6ms\n",
            "video 1/1 (frame 104/704) /content/Sri-Lankan_road-traffic-1/video1.mp4: 384x640 1 Motorcycle, 1 Threewheel, 3 cars, 1 person, 10.5ms\n",
            "video 1/1 (frame 105/704) /content/Sri-Lankan_road-traffic-1/video1.mp4: 384x640 1 Motorcycle, 1 Threewheel, 3 cars, 1 person, 10.2ms\n",
            "video 1/1 (frame 106/704) /content/Sri-Lankan_road-traffic-1/video1.mp4: 384x640 1 Motorcycle, 1 Threewheel, 3 cars, 1 person, 11.5ms\n",
            "video 1/1 (frame 107/704) /content/Sri-Lankan_road-traffic-1/video1.mp4: 384x640 2 Motorcycles, 1 Threewheel, 3 cars, 1 person, 13.5ms\n",
            "video 1/1 (frame 108/704) /content/Sri-Lankan_road-traffic-1/video1.mp4: 384x640 1 Motorcycle, 2 Threewheels, 2 cars, 1 person, 14.7ms\n",
            "video 1/1 (frame 109/704) /content/Sri-Lankan_road-traffic-1/video1.mp4: 384x640 1 Motorcycle, 1 Threewheel, 3 cars, 1 person, 10.7ms\n",
            "video 1/1 (frame 110/704) /content/Sri-Lankan_road-traffic-1/video1.mp4: 384x640 1 Motorcycle, 1 Threewheel, 3 cars, 1 person, 11.1ms\n",
            "video 1/1 (frame 111/704) /content/Sri-Lankan_road-traffic-1/video1.mp4: 384x640 2 Motorcycles, 1 Threewheel, 3 cars, 10.7ms\n",
            "video 1/1 (frame 112/704) /content/Sri-Lankan_road-traffic-1/video1.mp4: 384x640 1 Motorcycle, 1 Threewheel, 3 cars, 1 person, 10.2ms\n",
            "video 1/1 (frame 113/704) /content/Sri-Lankan_road-traffic-1/video1.mp4: 384x640 2 Threewheels, 3 cars, 1 person, 10.9ms\n",
            "video 1/1 (frame 114/704) /content/Sri-Lankan_road-traffic-1/video1.mp4: 384x640 2 Threewheels, 3 cars, 1 person, 16.0ms\n",
            "video 1/1 (frame 115/704) /content/Sri-Lankan_road-traffic-1/video1.mp4: 384x640 1 Threewheel, 3 cars, 1 person, 10.7ms\n",
            "video 1/1 (frame 116/704) /content/Sri-Lankan_road-traffic-1/video1.mp4: 384x640 1 Motorcycle, 1 Threewheel, 3 cars, 1 person, 10.6ms\n",
            "video 1/1 (frame 117/704) /content/Sri-Lankan_road-traffic-1/video1.mp4: 384x640 1 Threewheel, 3 cars, 1 person, 14.1ms\n",
            "video 1/1 (frame 118/704) /content/Sri-Lankan_road-traffic-1/video1.mp4: 384x640 1 Threewheel, 2 cars, 10.6ms\n",
            "video 1/1 (frame 119/704) /content/Sri-Lankan_road-traffic-1/video1.mp4: 384x640 1 Motorcycle, 1 Threewheel, 2 cars, 11.7ms\n",
            "video 1/1 (frame 120/704) /content/Sri-Lankan_road-traffic-1/video1.mp4: 384x640 1 Motorcycle, 1 Threewheel, 3 cars, 10.9ms\n",
            "video 1/1 (frame 121/704) /content/Sri-Lankan_road-traffic-1/video1.mp4: 384x640 1 Motorcycle, 1 Threewheel, 3 cars, 10.9ms\n",
            "video 1/1 (frame 122/704) /content/Sri-Lankan_road-traffic-1/video1.mp4: 384x640 1 Motorcycle, 3 cars, 10.8ms\n",
            "video 1/1 (frame 123/704) /content/Sri-Lankan_road-traffic-1/video1.mp4: 384x640 1 Motorcycle, 3 cars, 1 person, 10.2ms\n",
            "video 1/1 (frame 124/704) /content/Sri-Lankan_road-traffic-1/video1.mp4: 384x640 1 Threewheel, 3 cars, 1 person, 11.4ms\n",
            "video 1/1 (frame 125/704) /content/Sri-Lankan_road-traffic-1/video1.mp4: 384x640 1 Motorcycle, 3 cars, 2 persons, 17.8ms\n",
            "video 1/1 (frame 126/704) /content/Sri-Lankan_road-traffic-1/video1.mp4: 384x640 1 Motorcycle, 1 Threewheel, 3 cars, 1 person, 14.1ms\n",
            "video 1/1 (frame 127/704) /content/Sri-Lankan_road-traffic-1/video1.mp4: 384x640 1 Threewheel, 3 cars, 12.8ms\n",
            "video 1/1 (frame 128/704) /content/Sri-Lankan_road-traffic-1/video1.mp4: 384x640 2 Motorcycles, 3 cars, 20.5ms\n",
            "video 1/1 (frame 129/704) /content/Sri-Lankan_road-traffic-1/video1.mp4: 384x640 3 Motorcycles, 3 cars, 10.5ms\n",
            "video 1/1 (frame 130/704) /content/Sri-Lankan_road-traffic-1/video1.mp4: 384x640 3 Motorcycles, 3 cars, 19.9ms\n",
            "video 1/1 (frame 131/704) /content/Sri-Lankan_road-traffic-1/video1.mp4: 384x640 3 Motorcycles, 3 cars, 10.9ms\n",
            "video 1/1 (frame 132/704) /content/Sri-Lankan_road-traffic-1/video1.mp4: 384x640 3 Motorcycles, 3 cars, 13.7ms\n",
            "video 1/1 (frame 133/704) /content/Sri-Lankan_road-traffic-1/video1.mp4: 384x640 3 Motorcycles, 3 cars, 16.2ms\n",
            "video 1/1 (frame 134/704) /content/Sri-Lankan_road-traffic-1/video1.mp4: 384x640 3 Motorcycles, 3 cars, 15.2ms\n",
            "video 1/1 (frame 135/704) /content/Sri-Lankan_road-traffic-1/video1.mp4: 384x640 3 Motorcycles, 3 cars, 10.3ms\n",
            "video 1/1 (frame 136/704) /content/Sri-Lankan_road-traffic-1/video1.mp4: 384x640 3 Motorcycles, 3 cars, 11.9ms\n",
            "video 1/1 (frame 137/704) /content/Sri-Lankan_road-traffic-1/video1.mp4: 384x640 1 Motorcycle, 3 cars, 24.6ms\n",
            "video 1/1 (frame 138/704) /content/Sri-Lankan_road-traffic-1/video1.mp4: 384x640 2 Motorcycles, 1 Threewheel, 3 cars, 17.3ms\n",
            "video 1/1 (frame 139/704) /content/Sri-Lankan_road-traffic-1/video1.mp4: 384x640 2 Motorcycles, 1 Threewheel, 3 cars, 18.0ms\n",
            "video 1/1 (frame 140/704) /content/Sri-Lankan_road-traffic-1/video1.mp4: 384x640 1 Motorcycle, 1 Threewheel, 3 cars, 25.9ms\n",
            "video 1/1 (frame 141/704) /content/Sri-Lankan_road-traffic-1/video1.mp4: 384x640 1 Motorcycle, 3 cars, 20.3ms\n",
            "video 1/1 (frame 142/704) /content/Sri-Lankan_road-traffic-1/video1.mp4: 384x640 1 Motorcycle, 3 cars, 12.3ms\n",
            "video 1/1 (frame 143/704) /content/Sri-Lankan_road-traffic-1/video1.mp4: 384x640 1 Motorcycle, 3 cars, 17.4ms\n",
            "video 1/1 (frame 144/704) /content/Sri-Lankan_road-traffic-1/video1.mp4: 384x640 1 Motorcycle, 3 cars, 1 person, 25.3ms\n",
            "video 1/1 (frame 145/704) /content/Sri-Lankan_road-traffic-1/video1.mp4: 384x640 1 Motorcycle, 3 cars, 27.3ms\n",
            "video 1/1 (frame 146/704) /content/Sri-Lankan_road-traffic-1/video1.mp4: 384x640 3 cars, 16.3ms\n",
            "video 1/1 (frame 147/704) /content/Sri-Lankan_road-traffic-1/video1.mp4: 384x640 3 cars, 22.6ms\n",
            "video 1/1 (frame 148/704) /content/Sri-Lankan_road-traffic-1/video1.mp4: 384x640 2 cars, 14.0ms\n",
            "video 1/1 (frame 149/704) /content/Sri-Lankan_road-traffic-1/video1.mp4: 384x640 2 cars, 11.6ms\n",
            "video 1/1 (frame 150/704) /content/Sri-Lankan_road-traffic-1/video1.mp4: 384x640 2 cars, 28.0ms\n",
            "video 1/1 (frame 151/704) /content/Sri-Lankan_road-traffic-1/video1.mp4: 384x640 2 cars, 1 person, 31.2ms\n",
            "video 1/1 (frame 152/704) /content/Sri-Lankan_road-traffic-1/video1.mp4: 384x640 2 cars, 12.4ms\n",
            "video 1/1 (frame 153/704) /content/Sri-Lankan_road-traffic-1/video1.mp4: 384x640 2 cars, 10.9ms\n",
            "video 1/1 (frame 154/704) /content/Sri-Lankan_road-traffic-1/video1.mp4: 384x640 1 Threewheel, 2 cars, 12.3ms\n",
            "video 1/1 (frame 155/704) /content/Sri-Lankan_road-traffic-1/video1.mp4: 384x640 2 cars, 11.9ms\n",
            "video 1/1 (frame 156/704) /content/Sri-Lankan_road-traffic-1/video1.mp4: 384x640 1 Motorcycle, 2 cars, 11.5ms\n",
            "video 1/1 (frame 157/704) /content/Sri-Lankan_road-traffic-1/video1.mp4: 384x640 2 cars, 10.8ms\n",
            "video 1/1 (frame 158/704) /content/Sri-Lankan_road-traffic-1/video1.mp4: 384x640 1 Motorcycle, 2 cars, 10.5ms\n",
            "video 1/1 (frame 159/704) /content/Sri-Lankan_road-traffic-1/video1.mp4: 384x640 1 Motorcycle, 3 cars, 10.3ms\n",
            "video 1/1 (frame 160/704) /content/Sri-Lankan_road-traffic-1/video1.mp4: 384x640 1 Motorcycle, 3 cars, 10.7ms\n",
            "video 1/1 (frame 161/704) /content/Sri-Lankan_road-traffic-1/video1.mp4: 384x640 1 Motorcycle, 2 cars, 11.4ms\n",
            "video 1/1 (frame 162/704) /content/Sri-Lankan_road-traffic-1/video1.mp4: 384x640 1 Motorcycle, 2 cars, 12.3ms\n",
            "video 1/1 (frame 163/704) /content/Sri-Lankan_road-traffic-1/video1.mp4: 384x640 2 cars, 13.8ms\n",
            "video 1/1 (frame 164/704) /content/Sri-Lankan_road-traffic-1/video1.mp4: 384x640 1 Motorcycle, 2 cars, 11.1ms\n",
            "video 1/1 (frame 165/704) /content/Sri-Lankan_road-traffic-1/video1.mp4: 384x640 1 Motorcycle, 2 cars, 10.6ms\n",
            "video 1/1 (frame 166/704) /content/Sri-Lankan_road-traffic-1/video1.mp4: 384x640 1 Motorcycle, 2 cars, 11.0ms\n",
            "video 1/1 (frame 167/704) /content/Sri-Lankan_road-traffic-1/video1.mp4: 384x640 1 Motorcycle, 2 cars, 14.7ms\n",
            "video 1/1 (frame 168/704) /content/Sri-Lankan_road-traffic-1/video1.mp4: 384x640 3 cars, 12.7ms\n",
            "video 1/1 (frame 169/704) /content/Sri-Lankan_road-traffic-1/video1.mp4: 384x640 2 cars, 10.4ms\n",
            "video 1/1 (frame 170/704) /content/Sri-Lankan_road-traffic-1/video1.mp4: 384x640 1 Motorcycle, 2 cars, 10.4ms\n",
            "video 1/1 (frame 171/704) /content/Sri-Lankan_road-traffic-1/video1.mp4: 384x640 1 Motorcycle, 3 cars, 12.2ms\n",
            "video 1/1 (frame 172/704) /content/Sri-Lankan_road-traffic-1/video1.mp4: 384x640 1 Motorcycle, 3 cars, 10.4ms\n",
            "video 1/1 (frame 173/704) /content/Sri-Lankan_road-traffic-1/video1.mp4: 384x640 2 cars, 14.7ms\n",
            "video 1/1 (frame 174/704) /content/Sri-Lankan_road-traffic-1/video1.mp4: 384x640 3 cars, 13.8ms\n",
            "video 1/1 (frame 175/704) /content/Sri-Lankan_road-traffic-1/video1.mp4: 384x640 3 cars, 12.9ms\n",
            "video 1/1 (frame 176/704) /content/Sri-Lankan_road-traffic-1/video1.mp4: 384x640 2 Motorcycles, 3 cars, 10.5ms\n",
            "video 1/1 (frame 177/704) /content/Sri-Lankan_road-traffic-1/video1.mp4: 384x640 1 Threewheel, 3 cars, 11.0ms\n",
            "video 1/1 (frame 178/704) /content/Sri-Lankan_road-traffic-1/video1.mp4: 384x640 1 Motorcycle, 3 cars, 10.3ms\n",
            "video 1/1 (frame 179/704) /content/Sri-Lankan_road-traffic-1/video1.mp4: 384x640 3 cars, 11.0ms\n",
            "video 1/1 (frame 180/704) /content/Sri-Lankan_road-traffic-1/video1.mp4: 384x640 1 Threewheel, 3 cars, 13.5ms\n",
            "video 1/1 (frame 181/704) /content/Sri-Lankan_road-traffic-1/video1.mp4: 384x640 1 Threewheel, 3 cars, 12.7ms\n",
            "video 1/1 (frame 182/704) /content/Sri-Lankan_road-traffic-1/video1.mp4: 384x640 2 cars, 14.7ms\n",
            "video 1/1 (frame 183/704) /content/Sri-Lankan_road-traffic-1/video1.mp4: 384x640 1 Motorcycle, 3 cars, 21.7ms\n",
            "video 1/1 (frame 184/704) /content/Sri-Lankan_road-traffic-1/video1.mp4: 384x640 2 cars, 10.8ms\n",
            "video 1/1 (frame 185/704) /content/Sri-Lankan_road-traffic-1/video1.mp4: 384x640 2 cars, 10.6ms\n",
            "video 1/1 (frame 186/704) /content/Sri-Lankan_road-traffic-1/video1.mp4: 384x640 2 cars, 10.8ms\n",
            "video 1/1 (frame 187/704) /content/Sri-Lankan_road-traffic-1/video1.mp4: 384x640 2 cars, 10.5ms\n",
            "video 1/1 (frame 188/704) /content/Sri-Lankan_road-traffic-1/video1.mp4: 384x640 2 cars, 10.6ms\n",
            "video 1/1 (frame 189/704) /content/Sri-Lankan_road-traffic-1/video1.mp4: 384x640 1 Motorcycle, 2 cars, 10.4ms\n",
            "video 1/1 (frame 190/704) /content/Sri-Lankan_road-traffic-1/video1.mp4: 384x640 1 Motorcycle, 2 cars, 10.8ms\n",
            "video 1/1 (frame 191/704) /content/Sri-Lankan_road-traffic-1/video1.mp4: 384x640 1 Motorcycle, 2 cars, 12.9ms\n",
            "video 1/1 (frame 192/704) /content/Sri-Lankan_road-traffic-1/video1.mp4: 384x640 1 Motorcycle, 2 cars, 14.1ms\n",
            "video 1/1 (frame 193/704) /content/Sri-Lankan_road-traffic-1/video1.mp4: 384x640 1 Motorcycle, 2 cars, 10.4ms\n",
            "video 1/1 (frame 194/704) /content/Sri-Lankan_road-traffic-1/video1.mp4: 384x640 1 Motorcycle, 2 cars, 10.5ms\n",
            "video 1/1 (frame 195/704) /content/Sri-Lankan_road-traffic-1/video1.mp4: 384x640 1 Motorcycle, 1 Threewheel, 2 cars, 10.5ms\n",
            "video 1/1 (frame 196/704) /content/Sri-Lankan_road-traffic-1/video1.mp4: 384x640 2 cars, 10.4ms\n",
            "video 1/1 (frame 197/704) /content/Sri-Lankan_road-traffic-1/video1.mp4: 384x640 2 cars, 11.0ms\n",
            "video 1/1 (frame 198/704) /content/Sri-Lankan_road-traffic-1/video1.mp4: 384x640 2 cars, 12.3ms\n",
            "video 1/1 (frame 199/704) /content/Sri-Lankan_road-traffic-1/video1.mp4: 384x640 1 Motorcycle, 2 cars, 11.3ms\n",
            "video 1/1 (frame 200/704) /content/Sri-Lankan_road-traffic-1/video1.mp4: 384x640 2 cars, 10.2ms\n",
            "video 1/1 (frame 201/704) /content/Sri-Lankan_road-traffic-1/video1.mp4: 384x640 2 cars, 11.2ms\n",
            "video 1/1 (frame 202/704) /content/Sri-Lankan_road-traffic-1/video1.mp4: 384x640 1 Motorcycle, 2 cars, 11.0ms\n",
            "video 1/1 (frame 203/704) /content/Sri-Lankan_road-traffic-1/video1.mp4: 384x640 2 cars, 10.2ms\n",
            "video 1/1 (frame 204/704) /content/Sri-Lankan_road-traffic-1/video1.mp4: 384x640 2 cars, 1 person, 10.5ms\n",
            "video 1/1 (frame 205/704) /content/Sri-Lankan_road-traffic-1/video1.mp4: 384x640 1 Motorcycle, 2 cars, 17.7ms\n",
            "video 1/1 (frame 206/704) /content/Sri-Lankan_road-traffic-1/video1.mp4: 384x640 2 cars, 1 person, 10.9ms\n",
            "video 1/1 (frame 207/704) /content/Sri-Lankan_road-traffic-1/video1.mp4: 384x640 1 Motorcycle, 2 cars, 10.7ms\n",
            "video 1/1 (frame 208/704) /content/Sri-Lankan_road-traffic-1/video1.mp4: 384x640 1 Motorcycle, 2 cars, 12.3ms\n",
            "video 1/1 (frame 209/704) /content/Sri-Lankan_road-traffic-1/video1.mp4: 384x640 1 Motorcycle, 2 cars, 10.4ms\n",
            "video 1/1 (frame 210/704) /content/Sri-Lankan_road-traffic-1/video1.mp4: 384x640 1 Motorcycle, 2 cars, 13.3ms\n",
            "video 1/1 (frame 211/704) /content/Sri-Lankan_road-traffic-1/video1.mp4: 384x640 1 Motorcycle, 2 cars, 10.2ms\n",
            "video 1/1 (frame 212/704) /content/Sri-Lankan_road-traffic-1/video1.mp4: 384x640 2 cars, 10.5ms\n",
            "video 1/1 (frame 213/704) /content/Sri-Lankan_road-traffic-1/video1.mp4: 384x640 1 Motorcycle, 1 car, 10.5ms\n",
            "video 1/1 (frame 214/704) /content/Sri-Lankan_road-traffic-1/video1.mp4: 384x640 1 Motorcycle, 2 cars, 10.9ms\n",
            "video 1/1 (frame 215/704) /content/Sri-Lankan_road-traffic-1/video1.mp4: 384x640 1 Motorcycle, 1 car, 11.6ms\n",
            "video 1/1 (frame 216/704) /content/Sri-Lankan_road-traffic-1/video1.mp4: 384x640 1 Motorcycle, 2 cars, 9.3ms\n",
            "video 1/1 (frame 217/704) /content/Sri-Lankan_road-traffic-1/video1.mp4: 384x640 1 Motorcycle, 2 cars, 17.6ms\n",
            "video 1/1 (frame 218/704) /content/Sri-Lankan_road-traffic-1/video1.mp4: 384x640 1 Motorcycle, 2 cars, 16.0ms\n",
            "video 1/1 (frame 219/704) /content/Sri-Lankan_road-traffic-1/video1.mp4: 384x640 1 Motorcycle, 2 cars, 48.4ms\n",
            "video 1/1 (frame 220/704) /content/Sri-Lankan_road-traffic-1/video1.mp4: 384x640 1 Motorcycle, 2 cars, 11.1ms\n",
            "video 1/1 (frame 221/704) /content/Sri-Lankan_road-traffic-1/video1.mp4: 384x640 2 cars, 23.5ms\n",
            "video 1/1 (frame 222/704) /content/Sri-Lankan_road-traffic-1/video1.mp4: 384x640 2 cars, 10.3ms\n",
            "video 1/1 (frame 223/704) /content/Sri-Lankan_road-traffic-1/video1.mp4: 384x640 1 Motorcycle, 2 cars, 9.5ms\n",
            "video 1/1 (frame 224/704) /content/Sri-Lankan_road-traffic-1/video1.mp4: 384x640 2 cars, 15.4ms\n",
            "video 1/1 (frame 225/704) /content/Sri-Lankan_road-traffic-1/video1.mp4: 384x640 2 cars, 33.6ms\n",
            "video 1/1 (frame 226/704) /content/Sri-Lankan_road-traffic-1/video1.mp4: 384x640 2 cars, 13.3ms\n",
            "video 1/1 (frame 227/704) /content/Sri-Lankan_road-traffic-1/video1.mp4: 384x640 2 cars, 22.7ms\n",
            "video 1/1 (frame 228/704) /content/Sri-Lankan_road-traffic-1/video1.mp4: 384x640 2 cars, 14.3ms\n",
            "video 1/1 (frame 229/704) /content/Sri-Lankan_road-traffic-1/video1.mp4: 384x640 2 cars, 9.9ms\n",
            "video 1/1 (frame 230/704) /content/Sri-Lankan_road-traffic-1/video1.mp4: 384x640 2 cars, 16.6ms\n",
            "video 1/1 (frame 231/704) /content/Sri-Lankan_road-traffic-1/video1.mp4: 384x640 2 cars, 10.1ms\n",
            "video 1/1 (frame 232/704) /content/Sri-Lankan_road-traffic-1/video1.mp4: 384x640 3 cars, 11.0ms\n",
            "video 1/1 (frame 233/704) /content/Sri-Lankan_road-traffic-1/video1.mp4: 384x640 2 Motorcycles, 2 cars, 10.9ms\n",
            "video 1/1 (frame 234/704) /content/Sri-Lankan_road-traffic-1/video1.mp4: 384x640 1 Motorcycle, 2 cars, 10.6ms\n",
            "video 1/1 (frame 235/704) /content/Sri-Lankan_road-traffic-1/video1.mp4: 384x640 1 Motorcycle, 3 cars, 10.8ms\n",
            "video 1/1 (frame 236/704) /content/Sri-Lankan_road-traffic-1/video1.mp4: 384x640 3 cars, 10.7ms\n",
            "video 1/1 (frame 237/704) /content/Sri-Lankan_road-traffic-1/video1.mp4: 384x640 3 cars, 13.1ms\n",
            "video 1/1 (frame 238/704) /content/Sri-Lankan_road-traffic-1/video1.mp4: 384x640 3 cars, 11.2ms\n",
            "video 1/1 (frame 239/704) /content/Sri-Lankan_road-traffic-1/video1.mp4: 384x640 1 Motorcycle, 3 cars, 11.5ms\n",
            "video 1/1 (frame 240/704) /content/Sri-Lankan_road-traffic-1/video1.mp4: 384x640 3 cars, 10.4ms\n",
            "video 1/1 (frame 241/704) /content/Sri-Lankan_road-traffic-1/video1.mp4: 384x640 3 cars, 10.3ms\n",
            "video 1/1 (frame 242/704) /content/Sri-Lankan_road-traffic-1/video1.mp4: 384x640 1 Motorcycle, 3 cars, 10.8ms\n",
            "video 1/1 (frame 243/704) /content/Sri-Lankan_road-traffic-1/video1.mp4: 384x640 1 Motorcycle, 3 cars, 10.6ms\n",
            "video 1/1 (frame 244/704) /content/Sri-Lankan_road-traffic-1/video1.mp4: 384x640 1 Motorcycle, 3 cars, 10.4ms\n",
            "video 1/1 (frame 245/704) /content/Sri-Lankan_road-traffic-1/video1.mp4: 384x640 3 cars, 10.7ms\n",
            "video 1/1 (frame 246/704) /content/Sri-Lankan_road-traffic-1/video1.mp4: 384x640 3 cars, 11.6ms\n",
            "video 1/1 (frame 247/704) /content/Sri-Lankan_road-traffic-1/video1.mp4: 384x640 3 cars, 10.3ms\n",
            "video 1/1 (frame 248/704) /content/Sri-Lankan_road-traffic-1/video1.mp4: 384x640 3 cars, 14.4ms\n",
            "video 1/1 (frame 249/704) /content/Sri-Lankan_road-traffic-1/video1.mp4: 384x640 2 cars, 11.1ms\n",
            "video 1/1 (frame 250/704) /content/Sri-Lankan_road-traffic-1/video1.mp4: 384x640 2 cars, 10.5ms\n",
            "video 1/1 (frame 251/704) /content/Sri-Lankan_road-traffic-1/video1.mp4: 384x640 2 cars, 1 person, 11.8ms\n",
            "video 1/1 (frame 252/704) /content/Sri-Lankan_road-traffic-1/video1.mp4: 384x640 2 cars, 1 person, 10.6ms\n",
            "video 1/1 (frame 253/704) /content/Sri-Lankan_road-traffic-1/video1.mp4: 384x640 2 cars, 11.3ms\n",
            "video 1/1 (frame 254/704) /content/Sri-Lankan_road-traffic-1/video1.mp4: 384x640 2 cars, 11.8ms\n",
            "video 1/1 (frame 255/704) /content/Sri-Lankan_road-traffic-1/video1.mp4: 384x640 2 cars, 1 person, 11.2ms\n",
            "video 1/1 (frame 256/704) /content/Sri-Lankan_road-traffic-1/video1.mp4: 384x640 2 cars, 11.0ms\n",
            "video 1/1 (frame 257/704) /content/Sri-Lankan_road-traffic-1/video1.mp4: 384x640 2 cars, 12.5ms\n",
            "video 1/1 (frame 258/704) /content/Sri-Lankan_road-traffic-1/video1.mp4: 384x640 2 cars, 10.9ms\n",
            "video 1/1 (frame 259/704) /content/Sri-Lankan_road-traffic-1/video1.mp4: 384x640 2 cars, 10.8ms\n",
            "video 1/1 (frame 260/704) /content/Sri-Lankan_road-traffic-1/video1.mp4: 384x640 2 cars, 10.4ms\n",
            "video 1/1 (frame 261/704) /content/Sri-Lankan_road-traffic-1/video1.mp4: 384x640 2 cars, 10.4ms\n",
            "video 1/1 (frame 262/704) /content/Sri-Lankan_road-traffic-1/video1.mp4: 384x640 2 cars, 10.7ms\n",
            "video 1/1 (frame 263/704) /content/Sri-Lankan_road-traffic-1/video1.mp4: 384x640 2 cars, 10.7ms\n",
            "video 1/1 (frame 264/704) /content/Sri-Lankan_road-traffic-1/video1.mp4: 384x640 2 cars, 10.7ms\n",
            "video 1/1 (frame 265/704) /content/Sri-Lankan_road-traffic-1/video1.mp4: 384x640 2 cars, 10.7ms\n",
            "video 1/1 (frame 266/704) /content/Sri-Lankan_road-traffic-1/video1.mp4: 384x640 1 Motorcycle, 2 cars, 11.3ms\n",
            "video 1/1 (frame 267/704) /content/Sri-Lankan_road-traffic-1/video1.mp4: 384x640 1 Motorcycle, 2 cars, 11.4ms\n",
            "video 1/1 (frame 268/704) /content/Sri-Lankan_road-traffic-1/video1.mp4: 384x640 2 cars, 10.0ms\n",
            "video 1/1 (frame 269/704) /content/Sri-Lankan_road-traffic-1/video1.mp4: 384x640 2 cars, 13.4ms\n",
            "video 1/1 (frame 270/704) /content/Sri-Lankan_road-traffic-1/video1.mp4: 384x640 2 cars, 1 person, 11.1ms\n",
            "video 1/1 (frame 271/704) /content/Sri-Lankan_road-traffic-1/video1.mp4: 384x640 2 cars, 11.1ms\n",
            "video 1/1 (frame 272/704) /content/Sri-Lankan_road-traffic-1/video1.mp4: 384x640 2 cars, 1 person, 10.5ms\n",
            "video 1/1 (frame 273/704) /content/Sri-Lankan_road-traffic-1/video1.mp4: 384x640 2 cars, 10.1ms\n",
            "video 1/1 (frame 274/704) /content/Sri-Lankan_road-traffic-1/video1.mp4: 384x640 2 cars, 10.6ms\n",
            "video 1/1 (frame 275/704) /content/Sri-Lankan_road-traffic-1/video1.mp4: 384x640 1 Lorry, 2 cars, 10.4ms\n",
            "video 1/1 (frame 276/704) /content/Sri-Lankan_road-traffic-1/video1.mp4: 384x640 2 cars, 11.5ms\n",
            "video 1/1 (frame 277/704) /content/Sri-Lankan_road-traffic-1/video1.mp4: 384x640 2 cars, 10.2ms\n",
            "video 1/1 (frame 278/704) /content/Sri-Lankan_road-traffic-1/video1.mp4: 384x640 2 cars, 10.1ms\n",
            "video 1/1 (frame 279/704) /content/Sri-Lankan_road-traffic-1/video1.mp4: 384x640 2 cars, 9.8ms\n",
            "video 1/1 (frame 280/704) /content/Sri-Lankan_road-traffic-1/video1.mp4: 384x640 1 Motorcycle, 2 cars, 10.1ms\n",
            "video 1/1 (frame 281/704) /content/Sri-Lankan_road-traffic-1/video1.mp4: 384x640 2 cars, 10.1ms\n",
            "video 1/1 (frame 282/704) /content/Sri-Lankan_road-traffic-1/video1.mp4: 384x640 1 Motorcycle, 2 cars, 1 person, 10.5ms\n",
            "video 1/1 (frame 283/704) /content/Sri-Lankan_road-traffic-1/video1.mp4: 384x640 1 Motorcycle, 2 cars, 10.6ms\n",
            "video 1/1 (frame 284/704) /content/Sri-Lankan_road-traffic-1/video1.mp4: 384x640 1 Motorcycle, 2 cars, 10.4ms\n",
            "video 1/1 (frame 285/704) /content/Sri-Lankan_road-traffic-1/video1.mp4: 384x640 1 Motorcycle, 2 cars, 10.9ms\n",
            "video 1/1 (frame 286/704) /content/Sri-Lankan_road-traffic-1/video1.mp4: 384x640 1 Motorcycle, 2 cars, 10.6ms\n",
            "video 1/1 (frame 287/704) /content/Sri-Lankan_road-traffic-1/video1.mp4: 384x640 1 Motorcycle, 2 cars, 10.5ms\n",
            "video 1/1 (frame 288/704) /content/Sri-Lankan_road-traffic-1/video1.mp4: 384x640 2 cars, 10.0ms\n",
            "video 1/1 (frame 289/704) /content/Sri-Lankan_road-traffic-1/video1.mp4: 384x640 1 Motorcycle, 2 cars, 10.4ms\n",
            "video 1/1 (frame 290/704) /content/Sri-Lankan_road-traffic-1/video1.mp4: 384x640 1 Motorcycle, 2 cars, 10.9ms\n",
            "video 1/1 (frame 291/704) /content/Sri-Lankan_road-traffic-1/video1.mp4: 384x640 1 Motorcycle, 2 cars, 10.7ms\n",
            "video 1/1 (frame 292/704) /content/Sri-Lankan_road-traffic-1/video1.mp4: 384x640 2 cars, 13.3ms\n",
            "video 1/1 (frame 293/704) /content/Sri-Lankan_road-traffic-1/video1.mp4: 384x640 1 Motorcycle, 3 cars, 11.7ms\n",
            "video 1/1 (frame 294/704) /content/Sri-Lankan_road-traffic-1/video1.mp4: 384x640 1 Motorcycle, 2 cars, 11.8ms\n",
            "video 1/1 (frame 295/704) /content/Sri-Lankan_road-traffic-1/video1.mp4: 384x640 1 Motorcycle, 3 cars, 1 person, 12.0ms\n",
            "video 1/1 (frame 296/704) /content/Sri-Lankan_road-traffic-1/video1.mp4: 384x640 1 Motorcycle, 3 cars, 1 person, 15.8ms\n",
            "video 1/1 (frame 297/704) /content/Sri-Lankan_road-traffic-1/video1.mp4: 384x640 2 cars, 2 persons, 22.0ms\n",
            "video 1/1 (frame 298/704) /content/Sri-Lankan_road-traffic-1/video1.mp4: 384x640 1 Motorcycle, 2 cars, 11.4ms\n",
            "video 1/1 (frame 299/704) /content/Sri-Lankan_road-traffic-1/video1.mp4: 384x640 1 Motorcycle, 2 cars, 24.4ms\n",
            "video 1/1 (frame 300/704) /content/Sri-Lankan_road-traffic-1/video1.mp4: 384x640 1 Motorcycle, 2 cars, 15.0ms\n",
            "video 1/1 (frame 301/704) /content/Sri-Lankan_road-traffic-1/video1.mp4: 384x640 3 cars, 13.7ms\n",
            "video 1/1 (frame 302/704) /content/Sri-Lankan_road-traffic-1/video1.mp4: 384x640 1 Motorcycle, 2 cars, 20.0ms\n",
            "video 1/1 (frame 303/704) /content/Sri-Lankan_road-traffic-1/video1.mp4: 384x640 3 cars, 10.5ms\n",
            "video 1/1 (frame 304/704) /content/Sri-Lankan_road-traffic-1/video1.mp4: 384x640 1 Motorcycle, 3 cars, 9.5ms\n",
            "video 1/1 (frame 305/704) /content/Sri-Lankan_road-traffic-1/video1.mp4: 384x640 1 Motorcycle, 3 cars, 12.2ms\n",
            "video 1/1 (frame 306/704) /content/Sri-Lankan_road-traffic-1/video1.mp4: 384x640 3 Motorcycles, 2 cars, 12.7ms\n",
            "video 1/1 (frame 307/704) /content/Sri-Lankan_road-traffic-1/video1.mp4: 384x640 2 Motorcycles, 2 cars, 1 person, 16.2ms\n",
            "video 1/1 (frame 308/704) /content/Sri-Lankan_road-traffic-1/video1.mp4: 384x640 2 Motorcycles, 3 cars, 12.0ms\n",
            "video 1/1 (frame 309/704) /content/Sri-Lankan_road-traffic-1/video1.mp4: 384x640 2 Motorcycles, 3 cars, 10.8ms\n",
            "video 1/1 (frame 310/704) /content/Sri-Lankan_road-traffic-1/video1.mp4: 384x640 2 Motorcycles, 3 cars, 10.5ms\n",
            "video 1/1 (frame 311/704) /content/Sri-Lankan_road-traffic-1/video1.mp4: 384x640 1 Motorcycle, 1 Threewheel, 3 cars, 10.4ms\n",
            "video 1/1 (frame 312/704) /content/Sri-Lankan_road-traffic-1/video1.mp4: 384x640 1 Motorcycle, 3 cars, 15.8ms\n",
            "video 1/1 (frame 313/704) /content/Sri-Lankan_road-traffic-1/video1.mp4: 384x640 1 Motorcycle, 3 cars, 1 person, 12.6ms\n",
            "video 1/1 (frame 314/704) /content/Sri-Lankan_road-traffic-1/video1.mp4: 384x640 2 cars, 1 person, 14.7ms\n",
            "video 1/1 (frame 315/704) /content/Sri-Lankan_road-traffic-1/video1.mp4: 384x640 1 Motorcycle, 2 cars, 10.4ms\n",
            "video 1/1 (frame 316/704) /content/Sri-Lankan_road-traffic-1/video1.mp4: 384x640 1 Motorcycle, 2 cars, 13.4ms\n",
            "video 1/1 (frame 317/704) /content/Sri-Lankan_road-traffic-1/video1.mp4: 384x640 1 Motorcycle, 1 car, 10.5ms\n",
            "video 1/1 (frame 318/704) /content/Sri-Lankan_road-traffic-1/video1.mp4: 384x640 1 Lorry, 2 cars, 10.5ms\n",
            "video 1/1 (frame 319/704) /content/Sri-Lankan_road-traffic-1/video1.mp4: 384x640 2 cars, 10.2ms\n",
            "video 1/1 (frame 320/704) /content/Sri-Lankan_road-traffic-1/video1.mp4: 384x640 2 Motorcycles, 1 car, 10.1ms\n",
            "video 1/1 (frame 321/704) /content/Sri-Lankan_road-traffic-1/video1.mp4: 384x640 1 Motorcycle, 2 cars, 10.5ms\n",
            "video 1/1 (frame 322/704) /content/Sri-Lankan_road-traffic-1/video1.mp4: 384x640 1 Lorry, 2 cars, 10.4ms\n",
            "video 1/1 (frame 323/704) /content/Sri-Lankan_road-traffic-1/video1.mp4: 384x640 1 car, 10.6ms\n",
            "video 1/1 (frame 324/704) /content/Sri-Lankan_road-traffic-1/video1.mp4: 384x640 1 Lorry, 2 cars, 16.1ms\n",
            "video 1/1 (frame 325/704) /content/Sri-Lankan_road-traffic-1/video1.mp4: 384x640 1 Lorry, 2 cars, 11.6ms\n",
            "video 1/1 (frame 326/704) /content/Sri-Lankan_road-traffic-1/video1.mp4: 384x640 1 Lorry, 2 Motorcycles, 2 cars, 10.5ms\n",
            "video 1/1 (frame 327/704) /content/Sri-Lankan_road-traffic-1/video1.mp4: 384x640 1 Motorcycle, 2 cars, 10.7ms\n",
            "video 1/1 (frame 328/704) /content/Sri-Lankan_road-traffic-1/video1.mp4: 384x640 1 Motorcycle, 2 cars, 10.6ms\n",
            "video 1/1 (frame 329/704) /content/Sri-Lankan_road-traffic-1/video1.mp4: 384x640 1 Motorcycle, 2 cars, 1 person, 13.5ms\n",
            "video 1/1 (frame 330/704) /content/Sri-Lankan_road-traffic-1/video1.mp4: 384x640 1 Motorcycle, 2 cars, 10.7ms\n",
            "video 1/1 (frame 331/704) /content/Sri-Lankan_road-traffic-1/video1.mp4: 384x640 1 Motorcycle, 1 Threewheel, 2 cars, 1 person, 11.2ms\n",
            "video 1/1 (frame 332/704) /content/Sri-Lankan_road-traffic-1/video1.mp4: 384x640 1 Motorcycle, 2 cars, 10.4ms\n",
            "video 1/1 (frame 333/704) /content/Sri-Lankan_road-traffic-1/video1.mp4: 384x640 1 Lorry, 2 Motorcycles, 1 car, 12.7ms\n",
            "video 1/1 (frame 334/704) /content/Sri-Lankan_road-traffic-1/video1.mp4: 384x640 1 Lorry, 1 Motorcycle, 2 cars, 11.0ms\n",
            "video 1/1 (frame 335/704) /content/Sri-Lankan_road-traffic-1/video1.mp4: 384x640 2 Motorcycles, 2 cars, 10.6ms\n",
            "video 1/1 (frame 336/704) /content/Sri-Lankan_road-traffic-1/video1.mp4: 384x640 1 Motorcycle, 2 cars, 10.3ms\n",
            "video 1/1 (frame 337/704) /content/Sri-Lankan_road-traffic-1/video1.mp4: 384x640 1 Motorcycle, 2 cars, 12.0ms\n",
            "video 1/1 (frame 338/704) /content/Sri-Lankan_road-traffic-1/video1.mp4: 384x640 1 Motorcycle, 2 cars, 10.2ms\n",
            "video 1/1 (frame 339/704) /content/Sri-Lankan_road-traffic-1/video1.mp4: 384x640 2 cars, 10.2ms\n",
            "video 1/1 (frame 340/704) /content/Sri-Lankan_road-traffic-1/video1.mp4: 384x640 1 Motorcycle, 2 cars, 1 person, 10.2ms\n",
            "video 1/1 (frame 341/704) /content/Sri-Lankan_road-traffic-1/video1.mp4: 384x640 1 Threewheel, 2 cars, 10.9ms\n",
            "video 1/1 (frame 342/704) /content/Sri-Lankan_road-traffic-1/video1.mp4: 384x640 2 cars, 1 person, 10.5ms\n",
            "video 1/1 (frame 343/704) /content/Sri-Lankan_road-traffic-1/video1.mp4: 384x640 2 Motorcycles, 2 cars, 1 person, 11.1ms\n",
            "video 1/1 (frame 344/704) /content/Sri-Lankan_road-traffic-1/video1.mp4: 384x640 1 Motorcycle, 3 cars, 10.2ms\n",
            "video 1/1 (frame 345/704) /content/Sri-Lankan_road-traffic-1/video1.mp4: 384x640 1 Motorcycle, 2 cars, 13.0ms\n",
            "video 1/1 (frame 346/704) /content/Sri-Lankan_road-traffic-1/video1.mp4: 384x640 1 Motorcycle, 3 cars, 12.5ms\n",
            "video 1/1 (frame 347/704) /content/Sri-Lankan_road-traffic-1/video1.mp4: 384x640 1 Motorcycle, 3 cars, 13.0ms\n",
            "video 1/1 (frame 348/704) /content/Sri-Lankan_road-traffic-1/video1.mp4: 384x640 3 cars, 10.9ms\n",
            "video 1/1 (frame 349/704) /content/Sri-Lankan_road-traffic-1/video1.mp4: 384x640 3 cars, 10.2ms\n",
            "video 1/1 (frame 350/704) /content/Sri-Lankan_road-traffic-1/video1.mp4: 384x640 2 cars, 10.2ms\n",
            "video 1/1 (frame 351/704) /content/Sri-Lankan_road-traffic-1/video1.mp4: 384x640 2 cars, 10.2ms\n",
            "video 1/1 (frame 352/704) /content/Sri-Lankan_road-traffic-1/video1.mp4: 384x640 1 Motorcycle, 2 cars, 10.6ms\n",
            "video 1/1 (frame 353/704) /content/Sri-Lankan_road-traffic-1/video1.mp4: 384x640 1 Motorcycle, 2 cars, 10.4ms\n",
            "video 1/1 (frame 354/704) /content/Sri-Lankan_road-traffic-1/video1.mp4: 384x640 1 Motorcycle, 2 cars, 22.7ms\n",
            "video 1/1 (frame 355/704) /content/Sri-Lankan_road-traffic-1/video1.mp4: 384x640 1 Motorcycle, 1 car, 17.6ms\n",
            "video 1/1 (frame 356/704) /content/Sri-Lankan_road-traffic-1/video1.mp4: 384x640 1 Motorcycle, 2 cars, 13.5ms\n",
            "video 1/1 (frame 357/704) /content/Sri-Lankan_road-traffic-1/video1.mp4: 384x640 1 Motorcycle, 2 cars, 10.3ms\n",
            "video 1/1 (frame 358/704) /content/Sri-Lankan_road-traffic-1/video1.mp4: 384x640 1 Motorcycle, 1 Threewheel, 2 cars, 10.0ms\n",
            "video 1/1 (frame 359/704) /content/Sri-Lankan_road-traffic-1/video1.mp4: 384x640 1 Motorcycle, 1 Threewheel, 2 cars, 11.3ms\n",
            "video 1/1 (frame 360/704) /content/Sri-Lankan_road-traffic-1/video1.mp4: 384x640 1 Motorcycle, 2 Threewheels, 1 car, 16.2ms\n",
            "video 1/1 (frame 361/704) /content/Sri-Lankan_road-traffic-1/video1.mp4: 384x640 2 Motorcycles, 1 Threewheel, 2 cars, 12.1ms\n",
            "video 1/1 (frame 362/704) /content/Sri-Lankan_road-traffic-1/video1.mp4: 384x640 2 Motorcycles, 2 cars, 10.4ms\n",
            "video 1/1 (frame 363/704) /content/Sri-Lankan_road-traffic-1/video1.mp4: 384x640 2 Motorcycles, 2 cars, 10.1ms\n",
            "video 1/1 (frame 364/704) /content/Sri-Lankan_road-traffic-1/video1.mp4: 384x640 2 Motorcycles, 2 cars, 18.4ms\n",
            "video 1/1 (frame 365/704) /content/Sri-Lankan_road-traffic-1/video1.mp4: 384x640 1 Motorcycle, 2 cars, 19.2ms\n",
            "video 1/1 (frame 366/704) /content/Sri-Lankan_road-traffic-1/video1.mp4: 384x640 1 Motorcycle, 2 cars, 17.3ms\n",
            "video 1/1 (frame 367/704) /content/Sri-Lankan_road-traffic-1/video1.mp4: 384x640 2 Motorcycles, 1 car, 19.4ms\n",
            "video 1/1 (frame 368/704) /content/Sri-Lankan_road-traffic-1/video1.mp4: 384x640 2 Motorcycles, 1 car, 1 person, 26.2ms\n",
            "video 1/1 (frame 369/704) /content/Sri-Lankan_road-traffic-1/video1.mp4: 384x640 3 Motorcycles, 1 car, 26.1ms\n",
            "video 1/1 (frame 370/704) /content/Sri-Lankan_road-traffic-1/video1.mp4: 384x640 4 Motorcycles, 1 car, 1 person, 18.4ms\n",
            "video 1/1 (frame 371/704) /content/Sri-Lankan_road-traffic-1/video1.mp4: 384x640 3 Motorcycles, 1 car, 1 person, 16.4ms\n",
            "video 1/1 (frame 372/704) /content/Sri-Lankan_road-traffic-1/video1.mp4: 384x640 2 Motorcycles, 1 car, 2 persons, 10.6ms\n",
            "video 1/1 (frame 373/704) /content/Sri-Lankan_road-traffic-1/video1.mp4: 384x640 1 Motorcycle, 1 car, 1 person, 26.3ms\n",
            "video 1/1 (frame 374/704) /content/Sri-Lankan_road-traffic-1/video1.mp4: 384x640 2 Motorcycles, 1 car, 16.4ms\n",
            "video 1/1 (frame 375/704) /content/Sri-Lankan_road-traffic-1/video1.mp4: 384x640 1 Motorcycle, 1 car, 2 persons, 19.8ms\n",
            "video 1/1 (frame 376/704) /content/Sri-Lankan_road-traffic-1/video1.mp4: 384x640 1 Motorcycle, 1 car, 1 person, 11.6ms\n",
            "video 1/1 (frame 377/704) /content/Sri-Lankan_road-traffic-1/video1.mp4: 384x640 1 Motorcycle, 1 car, 22.8ms\n",
            "video 1/1 (frame 378/704) /content/Sri-Lankan_road-traffic-1/video1.mp4: 384x640 2 Motorcycles, 1 car, 10.3ms\n",
            "video 1/1 (frame 379/704) /content/Sri-Lankan_road-traffic-1/video1.mp4: 384x640 2 Motorcycles, 1 car, 1 person, 11.8ms\n",
            "video 1/1 (frame 380/704) /content/Sri-Lankan_road-traffic-1/video1.mp4: 384x640 2 Motorcycles, 1 car, 1 person, 13.5ms\n",
            "video 1/1 (frame 381/704) /content/Sri-Lankan_road-traffic-1/video1.mp4: 384x640 1 car, 2 persons, 11.5ms\n",
            "video 1/1 (frame 382/704) /content/Sri-Lankan_road-traffic-1/video1.mp4: 384x640 1 Motorcycle, 1 car, 10.4ms\n",
            "video 1/1 (frame 383/704) /content/Sri-Lankan_road-traffic-1/video1.mp4: 384x640 2 Motorcycles, 1 car, 1 person, 11.0ms\n",
            "video 1/1 (frame 384/704) /content/Sri-Lankan_road-traffic-1/video1.mp4: 384x640 3 Motorcycles, 1 car, 1 person, 10.7ms\n",
            "video 1/1 (frame 385/704) /content/Sri-Lankan_road-traffic-1/video1.mp4: 384x640 1 Motorcycle, 1 car, 1 person, 10.5ms\n",
            "video 1/1 (frame 386/704) /content/Sri-Lankan_road-traffic-1/video1.mp4: 384x640 1 Motorcycle, 1 car, 1 person, 10.6ms\n",
            "video 1/1 (frame 387/704) /content/Sri-Lankan_road-traffic-1/video1.mp4: 384x640 1 Motorcycle, 1 car, 3 persons, 11.2ms\n",
            "video 1/1 (frame 388/704) /content/Sri-Lankan_road-traffic-1/video1.mp4: 384x640 2 Motorcycles, 1 car, 10.5ms\n",
            "video 1/1 (frame 389/704) /content/Sri-Lankan_road-traffic-1/video1.mp4: 384x640 3 Motorcycles, 1 car, 1 person, 10.4ms\n",
            "video 1/1 (frame 390/704) /content/Sri-Lankan_road-traffic-1/video1.mp4: 384x640 2 Motorcycles, 1 car, 2 persons, 13.5ms\n",
            "video 1/1 (frame 391/704) /content/Sri-Lankan_road-traffic-1/video1.mp4: 384x640 1 Motorcycle, 1 car, 1 person, 13.1ms\n",
            "video 1/1 (frame 392/704) /content/Sri-Lankan_road-traffic-1/video1.mp4: 384x640 2 Motorcycles, 1 car, 1 person, 11.5ms\n",
            "video 1/1 (frame 393/704) /content/Sri-Lankan_road-traffic-1/video1.mp4: 384x640 1 Motorcycle, 1 car, 2 persons, 10.2ms\n",
            "video 1/1 (frame 394/704) /content/Sri-Lankan_road-traffic-1/video1.mp4: 384x640 3 Motorcycles, 1 car, 1 person, 10.4ms\n",
            "video 1/1 (frame 395/704) /content/Sri-Lankan_road-traffic-1/video1.mp4: 384x640 2 Motorcycles, 1 car, 10.4ms\n",
            "video 1/1 (frame 396/704) /content/Sri-Lankan_road-traffic-1/video1.mp4: 384x640 4 Motorcycles, 1 car, 3 persons, 19.1ms\n",
            "video 1/1 (frame 397/704) /content/Sri-Lankan_road-traffic-1/video1.mp4: 384x640 4 Motorcycles, 1 car, 1 person, 14.9ms\n",
            "video 1/1 (frame 398/704) /content/Sri-Lankan_road-traffic-1/video1.mp4: 384x640 4 Motorcycles, 1 car, 1 person, 11.7ms\n",
            "video 1/1 (frame 399/704) /content/Sri-Lankan_road-traffic-1/video1.mp4: 384x640 3 Motorcycles, 1 car, 1 person, 13.1ms\n",
            "video 1/1 (frame 400/704) /content/Sri-Lankan_road-traffic-1/video1.mp4: 384x640 4 Motorcycles, 1 car, 1 person, 15.4ms\n",
            "video 1/1 (frame 401/704) /content/Sri-Lankan_road-traffic-1/video1.mp4: 384x640 4 Motorcycles, 1 car, 2 persons, 10.3ms\n",
            "video 1/1 (frame 402/704) /content/Sri-Lankan_road-traffic-1/video1.mp4: 384x640 3 Motorcycles, 1 car, 2 persons, 10.9ms\n",
            "video 1/1 (frame 403/704) /content/Sri-Lankan_road-traffic-1/video1.mp4: 384x640 4 Motorcycles, 1 car, 2 persons, 10.3ms\n",
            "video 1/1 (frame 404/704) /content/Sri-Lankan_road-traffic-1/video1.mp4: 384x640 3 Motorcycles, 1 car, 1 person, 13.0ms\n",
            "video 1/1 (frame 405/704) /content/Sri-Lankan_road-traffic-1/video1.mp4: 384x640 2 Motorcycles, 1 Threewheel, 1 car, 1 person, 10.3ms\n",
            "video 1/1 (frame 406/704) /content/Sri-Lankan_road-traffic-1/video1.mp4: 384x640 2 Motorcycles, 1 Threewheel, 1 car, 2 persons, 11.0ms\n",
            "video 1/1 (frame 407/704) /content/Sri-Lankan_road-traffic-1/video1.mp4: 384x640 3 Motorcycles, 1 Threewheel, 2 persons, 10.5ms\n",
            "video 1/1 (frame 408/704) /content/Sri-Lankan_road-traffic-1/video1.mp4: 384x640 4 Motorcycles, 1 Threewheel, 1 person, 10.6ms\n",
            "video 1/1 (frame 409/704) /content/Sri-Lankan_road-traffic-1/video1.mp4: 384x640 4 Motorcycles, 1 Threewheel, 1 car, 2 persons, 3223.3ms\n",
            "video 1/1 (frame 410/704) /content/Sri-Lankan_road-traffic-1/video1.mp4: 384x640 3 Motorcycles, 1 car, 222.9ms\n",
            "video 1/1 (frame 411/704) /content/Sri-Lankan_road-traffic-1/video1.mp4: 384x640 3 Motorcycles, 1 car, 1 person, 10.5ms\n",
            "video 1/1 (frame 412/704) /content/Sri-Lankan_road-traffic-1/video1.mp4: 384x640 1 Motorcycle, 1 car, 1 person, 14.2ms\n",
            "video 1/1 (frame 413/704) /content/Sri-Lankan_road-traffic-1/video1.mp4: 384x640 3 Motorcycles, 1 car, 1 person, 10.3ms\n",
            "video 1/1 (frame 414/704) /content/Sri-Lankan_road-traffic-1/video1.mp4: 384x640 3 Motorcycles, 1 Threewheel, 2 persons, 11.0ms\n",
            "video 1/1 (frame 415/704) /content/Sri-Lankan_road-traffic-1/video1.mp4: 384x640 3 Motorcycles, 1 Threewheel, 1 person, 11.3ms\n",
            "video 1/1 (frame 416/704) /content/Sri-Lankan_road-traffic-1/video1.mp4: 384x640 3 Motorcycles, 2 Threewheels, 11.4ms\n",
            "video 1/1 (frame 417/704) /content/Sri-Lankan_road-traffic-1/video1.mp4: 384x640 2 Motorcycles, 2 Threewheels, 10.8ms\n",
            "video 1/1 (frame 418/704) /content/Sri-Lankan_road-traffic-1/video1.mp4: 384x640 2 Motorcycles, 1 Threewheel, 1 car, 1 person, 13.1ms\n",
            "video 1/1 (frame 419/704) /content/Sri-Lankan_road-traffic-1/video1.mp4: 384x640 3 Motorcycles, 1 Threewheel, 10.5ms\n",
            "video 1/1 (frame 420/704) /content/Sri-Lankan_road-traffic-1/video1.mp4: 384x640 4 Motorcycles, 1 Threewheel, 1 car, 10.9ms\n",
            "video 1/1 (frame 421/704) /content/Sri-Lankan_road-traffic-1/video1.mp4: 384x640 3 Motorcycles, 1 Threewheel, 1 car, 2 persons, 11.4ms\n",
            "video 1/1 (frame 422/704) /content/Sri-Lankan_road-traffic-1/video1.mp4: 384x640 3 Motorcycles, 1 car, 1 person, 10.4ms\n",
            "video 1/1 (frame 423/704) /content/Sri-Lankan_road-traffic-1/video1.mp4: 384x640 2 Motorcycles, 1 Threewheel, 1 car, 15.1ms\n",
            "video 1/1 (frame 424/704) /content/Sri-Lankan_road-traffic-1/video1.mp4: 384x640 2 Motorcycles, 1 Threewheel, 10.7ms\n",
            "video 1/1 (frame 425/704) /content/Sri-Lankan_road-traffic-1/video1.mp4: 384x640 2 Motorcycles, 1 Threewheel, 1 car, 1 person, 11.0ms\n"
          ]
        }
      ],
      "source": [
        "# find correct path to uploaded video in /content\n",
        "# replace it as source\n",
        "\n",
        "results = model.predict(source=\"PATH_TO_INPUT_VIDEO\",\n",
        "                        save=True,\n",
        "                        conf=0.4,\n",
        "                        iou=0.5)  # Adjust this according to your model's API"
      ]
    },
    {
      "cell_type": "markdown",
      "metadata": {
        "id": "MGYK-nqormw7"
      },
      "source": [
        "# Convert the AVI File to MP4 and download"
      ]
    },
    {
      "cell_type": "code",
      "execution_count": 4,
      "metadata": {
        "colab": {
          "base_uri": "https://localhost:8080/",
          "height": 52
        },
        "id": "98-V_FhPkoRo",
        "outputId": "aa6149ce-7651-4b81-8915-6c17ca8c1428"
      },
      "outputs": [
        {
          "name": "stdout",
          "output_type": "stream",
          "text": [
            "Converted /content/runs/detect/predict3/video1.avi to /content/runs/detect/predict3/video1.mp4\n"
          ]
        },
        {
          "data": {
            "application/javascript": "\n    async function download(id, filename, size) {\n      if (!google.colab.kernel.accessAllowed) {\n        return;\n      }\n      const div = document.createElement('div');\n      const label = document.createElement('label');\n      label.textContent = `Downloading \"${filename}\": `;\n      div.appendChild(label);\n      const progress = document.createElement('progress');\n      progress.max = size;\n      div.appendChild(progress);\n      document.body.appendChild(div);\n\n      const buffers = [];\n      let downloaded = 0;\n\n      const channel = await google.colab.kernel.comms.open(id);\n      // Send a message to notify the kernel that we're ready.\n      channel.send({})\n\n      for await (const message of channel.messages) {\n        // Send a message to notify the kernel that we're ready.\n        channel.send({})\n        if (message.buffers) {\n          for (const buffer of message.buffers) {\n            buffers.push(buffer);\n            downloaded += buffer.byteLength;\n            progress.value = downloaded;\n          }\n        }\n      }\n      const blob = new Blob(buffers, {type: 'application/binary'});\n      const a = document.createElement('a');\n      a.href = window.URL.createObjectURL(blob);\n      a.download = filename;\n      div.appendChild(a);\n      a.click();\n      div.remove();\n    }\n  ",
            "text/plain": [
              "<IPython.core.display.Javascript object>"
            ]
          },
          "metadata": {},
          "output_type": "display_data"
        },
        {
          "data": {
            "application/javascript": "download(\"download_dbe351d4-7a48-46e1-bde6-bbbed90b2b6c\", \"video1.mp4\", 54109115)",
            "text/plain": [
              "<IPython.core.display.Javascript object>"
            ]
          },
          "metadata": {},
          "output_type": "display_data"
        },
        {
          "name": "stdout",
          "output_type": "stream",
          "text": [
            "Downloaded  /content/runs/detect/predict3/video1.mp4 successfully\n"
          ]
        }
      ],
      "source": [
        "import cv2\n",
        "from google.colab import files\n",
        "\n",
        "# Step 1: Convert AVI to MP4\n",
        "input_video_path = 'PATH_TO_OUTPUT_VIDEO_.avi_FORMAT'\n",
        "output_video_path = 'PATH_TO_OUTPUT_VIDEO_.mp4_FORMAT'\n",
        "\n",
        "# input_video_path = '/content/runs/detect/predict3/video1.avi'\n",
        "# output_video_path = '/content/runs/detect/predict3/video1.mp4'\n",
        "\n",
        "# Open the input video\n",
        "cap = cv2.VideoCapture(input_video_path)\n",
        "\n",
        "# Get the video parameters\n",
        "fourcc = cv2.VideoWriter_fourcc(*'mp4v')  # Codec for mp4\n",
        "fps = cap.get(cv2.CAP_PROP_FPS)  # Frames per second\n",
        "width = int(cap.get(cv2.CAP_PROP_FRAME_WIDTH))  # Width of the video\n",
        "height = int(cap.get(cv2.CAP_PROP_FRAME_HEIGHT))  # Height of the video\n",
        "\n",
        "# Create a VideoWriter object to write the output video\n",
        "out = cv2.VideoWriter(output_video_path, fourcc, fps, (width, height))\n",
        "\n",
        "# Read and write frames from the input video to the output video\n",
        "while cap.isOpened():\n",
        "    ret, frame = cap.read()\n",
        "    if not ret:\n",
        "        break\n",
        "    out.write(frame)\n",
        "\n",
        "# Release the video objects\n",
        "cap.release()\n",
        "out.release()\n",
        "\n",
        "print(f\"Converted {input_video_path} to {output_video_path}\")\n",
        "\n",
        "# Step 2: Download the output MP4 video\n",
        "files.download(output_video_path)\n",
        "print(f\"Downloaded  {output_video_path} successfully\")"
      ]
    }
  ],
  "metadata": {
    "accelerator": "GPU",
    "colab": {
      "gpuType": "T4",
      "provenance": []
    },
    "kernelspec": {
      "display_name": "Python 3",
      "name": "python3"
    },
    "language_info": {
      "name": "python"
    }
  },
  "nbformat": 4,
  "nbformat_minor": 0
}
