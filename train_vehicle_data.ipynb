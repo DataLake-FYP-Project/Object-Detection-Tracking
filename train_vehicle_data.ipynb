{
  "nbformat": 4,
  "nbformat_minor": 0,
  "metadata": {
    "colab": {
      "provenance": [],
      "gpuType": "T4",
      "authorship_tag": "ABX9TyMgXx5JrKT1Slth8sfji+8I",
      "include_colab_link": true
    },
    "kernelspec": {
      "name": "python3",
      "display_name": "Python 3"
    },
    "language_info": {
      "name": "python"
    },
    "accelerator": "GPU"
  },
  "cells": [
    {
      "cell_type": "markdown",
      "metadata": {
        "id": "view-in-github",
        "colab_type": "text"
      },
      "source": [
        "<a href=\"https://colab.research.google.com/github/DataLake-FYP-Project/Object-Detection-Tracking/blob/KAN-11-Vehicle-Geolocation/train_vehicle_data.ipynb\" target=\"_parent\"><img src=\"https://colab.research.google.com/assets/colab-badge.svg\" alt=\"Open In Colab\"/></a>"
      ]
    },
    {
      "cell_type": "code",
      "execution_count": 1,
      "metadata": {
        "colab": {
          "base_uri": "https://localhost:8080/"
        },
        "id": "2YNG6NvgWhtA",
        "outputId": "c9c2fa30-7cc8-43a7-8338-c172dee39efb"
      },
      "outputs": [
        {
          "output_type": "stream",
          "name": "stdout",
          "text": [
            "Thu Apr 24 15:29:24 2025       \n",
            "+-----------------------------------------------------------------------------------------+\n",
            "| NVIDIA-SMI 550.54.15              Driver Version: 550.54.15      CUDA Version: 12.4     |\n",
            "|-----------------------------------------+------------------------+----------------------+\n",
            "| GPU  Name                 Persistence-M | Bus-Id          Disp.A | Volatile Uncorr. ECC |\n",
            "| Fan  Temp   Perf          Pwr:Usage/Cap |           Memory-Usage | GPU-Util  Compute M. |\n",
            "|                                         |                        |               MIG M. |\n",
            "|=========================================+========================+======================|\n",
            "|   0  Tesla T4                       Off |   00000000:00:04.0 Off |                    0 |\n",
            "| N/A   61C    P8             10W /   70W |       0MiB /  15360MiB |      0%      Default |\n",
            "|                                         |                        |                  N/A |\n",
            "+-----------------------------------------+------------------------+----------------------+\n",
            "                                                                                         \n",
            "+-----------------------------------------------------------------------------------------+\n",
            "| Processes:                                                                              |\n",
            "|  GPU   GI   CI        PID   Type   Process name                              GPU Memory |\n",
            "|        ID   ID                                                               Usage      |\n",
            "|=========================================================================================|\n",
            "|  No running processes found                                                             |\n",
            "+-----------------------------------------------------------------------------------------+\n"
          ]
        }
      ],
      "source": [
        "!nvidia-smi"
      ]
    },
    {
      "cell_type": "code",
      "source": [
        "!pip install gdown"
      ],
      "metadata": {
        "id": "7y04K4yNbJok",
        "colab": {
          "base_uri": "https://localhost:8080/"
        },
        "outputId": "f9b99b99-4411-45a2-b12c-7bc83aeafe8d"
      },
      "execution_count": 2,
      "outputs": [
        {
          "output_type": "stream",
          "name": "stdout",
          "text": [
            "Requirement already satisfied: gdown in /usr/local/lib/python3.11/dist-packages (5.2.0)\n",
            "Requirement already satisfied: beautifulsoup4 in /usr/local/lib/python3.11/dist-packages (from gdown) (4.13.4)\n",
            "Requirement already satisfied: filelock in /usr/local/lib/python3.11/dist-packages (from gdown) (3.18.0)\n",
            "Requirement already satisfied: requests[socks] in /usr/local/lib/python3.11/dist-packages (from gdown) (2.32.3)\n",
            "Requirement already satisfied: tqdm in /usr/local/lib/python3.11/dist-packages (from gdown) (4.67.1)\n",
            "Requirement already satisfied: soupsieve>1.2 in /usr/local/lib/python3.11/dist-packages (from beautifulsoup4->gdown) (2.6)\n",
            "Requirement already satisfied: typing-extensions>=4.0.0 in /usr/local/lib/python3.11/dist-packages (from beautifulsoup4->gdown) (4.13.2)\n",
            "Requirement already satisfied: charset-normalizer<4,>=2 in /usr/local/lib/python3.11/dist-packages (from requests[socks]->gdown) (3.4.1)\n",
            "Requirement already satisfied: idna<4,>=2.5 in /usr/local/lib/python3.11/dist-packages (from requests[socks]->gdown) (3.10)\n",
            "Requirement already satisfied: urllib3<3,>=1.21.1 in /usr/local/lib/python3.11/dist-packages (from requests[socks]->gdown) (2.3.0)\n",
            "Requirement already satisfied: certifi>=2017.4.17 in /usr/local/lib/python3.11/dist-packages (from requests[socks]->gdown) (2025.1.31)\n",
            "Requirement already satisfied: PySocks!=1.5.7,>=1.5.6 in /usr/local/lib/python3.11/dist-packages (from requests[socks]->gdown) (1.7.1)\n"
          ]
        }
      ]
    },
    {
      "cell_type": "code",
      "source": [
        "import gdown\n",
        "from google.colab import drive\n",
        "drive.mount('/content/drive')\n",
        "# Update with your foldeer's specific ID\n",
        "folder_id = \"1-eTp-jquA3ZaIIczrun_EweynXit-_WQ\"\n",
        "output = \"dataset_corrected.zip\"\n",
        "url = f\"https://drive.google.com/drive/folders/{folder_id}\"\n",
        "gdown.download(url, output, quiet=False)"
      ],
      "metadata": {
        "colab": {
          "base_uri": "https://localhost:8080/",
          "height": 177
        },
        "id": "X3mTaYklt2f4",
        "outputId": "a685783d-1224-4318-fad5-72b139716abc"
      },
      "execution_count": 5,
      "outputs": [
        {
          "output_type": "stream",
          "name": "stdout",
          "text": [
            "Mounted at /content/drive\n"
          ]
        },
        {
          "output_type": "stream",
          "name": "stderr",
          "text": [
            "/usr/local/lib/python3.11/dist-packages/gdown/parse_url.py:48: UserWarning: You specified a Google Drive link that is not the correct link to download a file. You might want to try `--fuzzy` option or the following url: https://drive.google.com/uc?id=None\n",
            "  warnings.warn(\n",
            "Downloading...\n",
            "From: https://drive.google.com/drive/folders/1-eTp-jquA3ZaIIczrun_EweynXit-_WQ\n",
            "To: /content/dataset_corrected.zip\n",
            "1.24MB [00:00, 7.99MB/s]\n"
          ]
        },
        {
          "output_type": "execute_result",
          "data": {
            "text/plain": [
              "'dataset_corrected.zip'"
            ],
            "application/vnd.google.colaboratory.intrinsic+json": {
              "type": "string"
            }
          },
          "metadata": {},
          "execution_count": 5
        }
      ]
    },
    {
      "cell_type": "code",
      "source": [
        "!pip install ultralytics"
      ],
      "metadata": {
        "colab": {
          "base_uri": "https://localhost:8080/"
        },
        "id": "zHJerHxPw0pB",
        "outputId": "e3710a37-c56b-4b4e-b79b-dacd24fb624a"
      },
      "execution_count": 3,
      "outputs": [
        {
          "output_type": "stream",
          "name": "stdout",
          "text": [
            "Collecting ultralytics\n",
            "  Downloading ultralytics-8.3.115-py3-none-any.whl.metadata (37 kB)\n",
            "Requirement already satisfied: numpy<=2.1.1,>=1.23.0 in /usr/local/lib/python3.11/dist-packages (from ultralytics) (2.0.2)\n",
            "Requirement already satisfied: matplotlib>=3.3.0 in /usr/local/lib/python3.11/dist-packages (from ultralytics) (3.10.0)\n",
            "Requirement already satisfied: opencv-python>=4.6.0 in /usr/local/lib/python3.11/dist-packages (from ultralytics) (4.11.0.86)\n",
            "Requirement already satisfied: pillow>=7.1.2 in /usr/local/lib/python3.11/dist-packages (from ultralytics) (11.1.0)\n",
            "Requirement already satisfied: pyyaml>=5.3.1 in /usr/local/lib/python3.11/dist-packages (from ultralytics) (6.0.2)\n",
            "Requirement already satisfied: requests>=2.23.0 in /usr/local/lib/python3.11/dist-packages (from ultralytics) (2.32.3)\n",
            "Requirement already satisfied: scipy>=1.4.1 in /usr/local/lib/python3.11/dist-packages (from ultralytics) (1.14.1)\n",
            "Requirement already satisfied: torch>=1.8.0 in /usr/local/lib/python3.11/dist-packages (from ultralytics) (2.6.0+cu124)\n",
            "Requirement already satisfied: torchvision>=0.9.0 in /usr/local/lib/python3.11/dist-packages (from ultralytics) (0.21.0+cu124)\n",
            "Requirement already satisfied: tqdm>=4.64.0 in /usr/local/lib/python3.11/dist-packages (from ultralytics) (4.67.1)\n",
            "Requirement already satisfied: psutil in /usr/local/lib/python3.11/dist-packages (from ultralytics) (5.9.5)\n",
            "Requirement already satisfied: py-cpuinfo in /usr/local/lib/python3.11/dist-packages (from ultralytics) (9.0.0)\n",
            "Requirement already satisfied: pandas>=1.1.4 in /usr/local/lib/python3.11/dist-packages (from ultralytics) (2.2.2)\n",
            "Requirement already satisfied: seaborn>=0.11.0 in /usr/local/lib/python3.11/dist-packages (from ultralytics) (0.13.2)\n",
            "Collecting ultralytics-thop>=2.0.0 (from ultralytics)\n",
            "  Downloading ultralytics_thop-2.0.14-py3-none-any.whl.metadata (9.4 kB)\n",
            "Requirement already satisfied: contourpy>=1.0.1 in /usr/local/lib/python3.11/dist-packages (from matplotlib>=3.3.0->ultralytics) (1.3.2)\n",
            "Requirement already satisfied: cycler>=0.10 in /usr/local/lib/python3.11/dist-packages (from matplotlib>=3.3.0->ultralytics) (0.12.1)\n",
            "Requirement already satisfied: fonttools>=4.22.0 in /usr/local/lib/python3.11/dist-packages (from matplotlib>=3.3.0->ultralytics) (4.57.0)\n",
            "Requirement already satisfied: kiwisolver>=1.3.1 in /usr/local/lib/python3.11/dist-packages (from matplotlib>=3.3.0->ultralytics) (1.4.8)\n",
            "Requirement already satisfied: packaging>=20.0 in /usr/local/lib/python3.11/dist-packages (from matplotlib>=3.3.0->ultralytics) (24.2)\n",
            "Requirement already satisfied: pyparsing>=2.3.1 in /usr/local/lib/python3.11/dist-packages (from matplotlib>=3.3.0->ultralytics) (3.2.3)\n",
            "Requirement already satisfied: python-dateutil>=2.7 in /usr/local/lib/python3.11/dist-packages (from matplotlib>=3.3.0->ultralytics) (2.8.2)\n",
            "Requirement already satisfied: pytz>=2020.1 in /usr/local/lib/python3.11/dist-packages (from pandas>=1.1.4->ultralytics) (2025.2)\n",
            "Requirement already satisfied: tzdata>=2022.7 in /usr/local/lib/python3.11/dist-packages (from pandas>=1.1.4->ultralytics) (2025.2)\n",
            "Requirement already satisfied: charset-normalizer<4,>=2 in /usr/local/lib/python3.11/dist-packages (from requests>=2.23.0->ultralytics) (3.4.1)\n",
            "Requirement already satisfied: idna<4,>=2.5 in /usr/local/lib/python3.11/dist-packages (from requests>=2.23.0->ultralytics) (3.10)\n",
            "Requirement already satisfied: urllib3<3,>=1.21.1 in /usr/local/lib/python3.11/dist-packages (from requests>=2.23.0->ultralytics) (2.3.0)\n",
            "Requirement already satisfied: certifi>=2017.4.17 in /usr/local/lib/python3.11/dist-packages (from requests>=2.23.0->ultralytics) (2025.1.31)\n",
            "Requirement already satisfied: filelock in /usr/local/lib/python3.11/dist-packages (from torch>=1.8.0->ultralytics) (3.18.0)\n",
            "Requirement already satisfied: typing-extensions>=4.10.0 in /usr/local/lib/python3.11/dist-packages (from torch>=1.8.0->ultralytics) (4.13.2)\n",
            "Requirement already satisfied: networkx in /usr/local/lib/python3.11/dist-packages (from torch>=1.8.0->ultralytics) (3.4.2)\n",
            "Requirement already satisfied: jinja2 in /usr/local/lib/python3.11/dist-packages (from torch>=1.8.0->ultralytics) (3.1.6)\n",
            "Requirement already satisfied: fsspec in /usr/local/lib/python3.11/dist-packages (from torch>=1.8.0->ultralytics) (2025.3.2)\n",
            "Collecting nvidia-cuda-nvrtc-cu12==12.4.127 (from torch>=1.8.0->ultralytics)\n",
            "  Downloading nvidia_cuda_nvrtc_cu12-12.4.127-py3-none-manylinux2014_x86_64.whl.metadata (1.5 kB)\n",
            "Collecting nvidia-cuda-runtime-cu12==12.4.127 (from torch>=1.8.0->ultralytics)\n",
            "  Downloading nvidia_cuda_runtime_cu12-12.4.127-py3-none-manylinux2014_x86_64.whl.metadata (1.5 kB)\n",
            "Collecting nvidia-cuda-cupti-cu12==12.4.127 (from torch>=1.8.0->ultralytics)\n",
            "  Downloading nvidia_cuda_cupti_cu12-12.4.127-py3-none-manylinux2014_x86_64.whl.metadata (1.6 kB)\n",
            "Collecting nvidia-cudnn-cu12==9.1.0.70 (from torch>=1.8.0->ultralytics)\n",
            "  Downloading nvidia_cudnn_cu12-9.1.0.70-py3-none-manylinux2014_x86_64.whl.metadata (1.6 kB)\n",
            "Collecting nvidia-cublas-cu12==12.4.5.8 (from torch>=1.8.0->ultralytics)\n",
            "  Downloading nvidia_cublas_cu12-12.4.5.8-py3-none-manylinux2014_x86_64.whl.metadata (1.5 kB)\n",
            "Collecting nvidia-cufft-cu12==11.2.1.3 (from torch>=1.8.0->ultralytics)\n",
            "  Downloading nvidia_cufft_cu12-11.2.1.3-py3-none-manylinux2014_x86_64.whl.metadata (1.5 kB)\n",
            "Collecting nvidia-curand-cu12==10.3.5.147 (from torch>=1.8.0->ultralytics)\n",
            "  Downloading nvidia_curand_cu12-10.3.5.147-py3-none-manylinux2014_x86_64.whl.metadata (1.5 kB)\n",
            "Collecting nvidia-cusolver-cu12==11.6.1.9 (from torch>=1.8.0->ultralytics)\n",
            "  Downloading nvidia_cusolver_cu12-11.6.1.9-py3-none-manylinux2014_x86_64.whl.metadata (1.6 kB)\n",
            "Collecting nvidia-cusparse-cu12==12.3.1.170 (from torch>=1.8.0->ultralytics)\n",
            "  Downloading nvidia_cusparse_cu12-12.3.1.170-py3-none-manylinux2014_x86_64.whl.metadata (1.6 kB)\n",
            "Requirement already satisfied: nvidia-cusparselt-cu12==0.6.2 in /usr/local/lib/python3.11/dist-packages (from torch>=1.8.0->ultralytics) (0.6.2)\n",
            "Requirement already satisfied: nvidia-nccl-cu12==2.21.5 in /usr/local/lib/python3.11/dist-packages (from torch>=1.8.0->ultralytics) (2.21.5)\n",
            "Requirement already satisfied: nvidia-nvtx-cu12==12.4.127 in /usr/local/lib/python3.11/dist-packages (from torch>=1.8.0->ultralytics) (12.4.127)\n",
            "Collecting nvidia-nvjitlink-cu12==12.4.127 (from torch>=1.8.0->ultralytics)\n",
            "  Downloading nvidia_nvjitlink_cu12-12.4.127-py3-none-manylinux2014_x86_64.whl.metadata (1.5 kB)\n",
            "Requirement already satisfied: triton==3.2.0 in /usr/local/lib/python3.11/dist-packages (from torch>=1.8.0->ultralytics) (3.2.0)\n",
            "Requirement already satisfied: sympy==1.13.1 in /usr/local/lib/python3.11/dist-packages (from torch>=1.8.0->ultralytics) (1.13.1)\n",
            "Requirement already satisfied: mpmath<1.4,>=1.1.0 in /usr/local/lib/python3.11/dist-packages (from sympy==1.13.1->torch>=1.8.0->ultralytics) (1.3.0)\n",
            "Requirement already satisfied: six>=1.5 in /usr/local/lib/python3.11/dist-packages (from python-dateutil>=2.7->matplotlib>=3.3.0->ultralytics) (1.17.0)\n",
            "Requirement already satisfied: MarkupSafe>=2.0 in /usr/local/lib/python3.11/dist-packages (from jinja2->torch>=1.8.0->ultralytics) (3.0.2)\n",
            "Downloading ultralytics-8.3.115-py3-none-any.whl (983 kB)\n",
            "\u001b[2K   \u001b[90m━━━━━━━━━━━━━━━━━━━━━━━━━━━━━━━━━━━━━━━━\u001b[0m \u001b[32m983.5/983.5 kB\u001b[0m \u001b[31m31.6 MB/s\u001b[0m eta \u001b[36m0:00:00\u001b[0m\n",
            "\u001b[?25hDownloading nvidia_cublas_cu12-12.4.5.8-py3-none-manylinux2014_x86_64.whl (363.4 MB)\n",
            "\u001b[2K   \u001b[90m━━━━━━━━━━━━━━━━━━━━━━━━━━━━━━━━━━━━━━━━\u001b[0m \u001b[32m363.4/363.4 MB\u001b[0m \u001b[31m4.7 MB/s\u001b[0m eta \u001b[36m0:00:00\u001b[0m\n",
            "\u001b[?25hDownloading nvidia_cuda_cupti_cu12-12.4.127-py3-none-manylinux2014_x86_64.whl (13.8 MB)\n",
            "\u001b[2K   \u001b[90m━━━━━━━━━━━━━━━━━━━━━━━━━━━━━━━━━━━━━━━━\u001b[0m \u001b[32m13.8/13.8 MB\u001b[0m \u001b[31m127.0 MB/s\u001b[0m eta \u001b[36m0:00:00\u001b[0m\n",
            "\u001b[?25hDownloading nvidia_cuda_nvrtc_cu12-12.4.127-py3-none-manylinux2014_x86_64.whl (24.6 MB)\n",
            "\u001b[2K   \u001b[90m━━━━━━━━━━━━━━━━━━━━━━━━━━━━━━━━━━━━━━━━\u001b[0m \u001b[32m24.6/24.6 MB\u001b[0m \u001b[31m100.5 MB/s\u001b[0m eta \u001b[36m0:00:00\u001b[0m\n",
            "\u001b[?25hDownloading nvidia_cuda_runtime_cu12-12.4.127-py3-none-manylinux2014_x86_64.whl (883 kB)\n",
            "\u001b[2K   \u001b[90m━━━━━━━━━━━━━━━━━━━━━━━━━━━━━━━━━━━━━━━━\u001b[0m \u001b[32m883.7/883.7 kB\u001b[0m \u001b[31m64.9 MB/s\u001b[0m eta \u001b[36m0:00:00\u001b[0m\n",
            "\u001b[?25hDownloading nvidia_cudnn_cu12-9.1.0.70-py3-none-manylinux2014_x86_64.whl (664.8 MB)\n",
            "\u001b[2K   \u001b[90m━━━━━━━━━━━━━━━━━━━━━━━━━━━━━━━━━━━━━━━━\u001b[0m \u001b[32m664.8/664.8 MB\u001b[0m \u001b[31m2.7 MB/s\u001b[0m eta \u001b[36m0:00:00\u001b[0m\n",
            "\u001b[?25hDownloading nvidia_cufft_cu12-11.2.1.3-py3-none-manylinux2014_x86_64.whl (211.5 MB)\n",
            "\u001b[2K   \u001b[90m━━━━━━━━━━━━━━━━━━━━━━━━━━━━━━━━━━━━━━━━\u001b[0m \u001b[32m211.5/211.5 MB\u001b[0m \u001b[31m5.5 MB/s\u001b[0m eta \u001b[36m0:00:00\u001b[0m\n",
            "\u001b[?25hDownloading nvidia_curand_cu12-10.3.5.147-py3-none-manylinux2014_x86_64.whl (56.3 MB)\n",
            "\u001b[2K   \u001b[90m━━━━━━━━━━━━━━━━━━━━━━━━━━━━━━━━━━━━━━━━\u001b[0m \u001b[32m56.3/56.3 MB\u001b[0m \u001b[31m19.6 MB/s\u001b[0m eta \u001b[36m0:00:00\u001b[0m\n",
            "\u001b[?25hDownloading nvidia_cusolver_cu12-11.6.1.9-py3-none-manylinux2014_x86_64.whl (127.9 MB)\n",
            "\u001b[2K   \u001b[90m━━━━━━━━━━━━━━━━━━━━━━━━━━━━━━━━━━━━━━━━\u001b[0m \u001b[32m127.9/127.9 MB\u001b[0m \u001b[31m7.2 MB/s\u001b[0m eta \u001b[36m0:00:00\u001b[0m\n",
            "\u001b[?25hDownloading nvidia_cusparse_cu12-12.3.1.170-py3-none-manylinux2014_x86_64.whl (207.5 MB)\n",
            "\u001b[2K   \u001b[90m━━━━━━━━━━━━━━━━━━━━━━━━━━━━━━━━━━━━━━━━\u001b[0m \u001b[32m207.5/207.5 MB\u001b[0m \u001b[31m5.4 MB/s\u001b[0m eta \u001b[36m0:00:00\u001b[0m\n",
            "\u001b[?25hDownloading nvidia_nvjitlink_cu12-12.4.127-py3-none-manylinux2014_x86_64.whl (21.1 MB)\n",
            "\u001b[2K   \u001b[90m━━━━━━━━━━━━━━━━━━━━━━━━━━━━━━━━━━━━━━━━\u001b[0m \u001b[32m21.1/21.1 MB\u001b[0m \u001b[31m38.5 MB/s\u001b[0m eta \u001b[36m0:00:00\u001b[0m\n",
            "\u001b[?25hDownloading ultralytics_thop-2.0.14-py3-none-any.whl (26 kB)\n",
            "Installing collected packages: nvidia-nvjitlink-cu12, nvidia-curand-cu12, nvidia-cufft-cu12, nvidia-cuda-runtime-cu12, nvidia-cuda-nvrtc-cu12, nvidia-cuda-cupti-cu12, nvidia-cublas-cu12, nvidia-cusparse-cu12, nvidia-cudnn-cu12, nvidia-cusolver-cu12, ultralytics-thop, ultralytics\n",
            "  Attempting uninstall: nvidia-nvjitlink-cu12\n",
            "    Found existing installation: nvidia-nvjitlink-cu12 12.5.82\n",
            "    Uninstalling nvidia-nvjitlink-cu12-12.5.82:\n",
            "      Successfully uninstalled nvidia-nvjitlink-cu12-12.5.82\n",
            "  Attempting uninstall: nvidia-curand-cu12\n",
            "    Found existing installation: nvidia-curand-cu12 10.3.6.82\n",
            "    Uninstalling nvidia-curand-cu12-10.3.6.82:\n",
            "      Successfully uninstalled nvidia-curand-cu12-10.3.6.82\n",
            "  Attempting uninstall: nvidia-cufft-cu12\n",
            "    Found existing installation: nvidia-cufft-cu12 11.2.3.61\n",
            "    Uninstalling nvidia-cufft-cu12-11.2.3.61:\n",
            "      Successfully uninstalled nvidia-cufft-cu12-11.2.3.61\n",
            "  Attempting uninstall: nvidia-cuda-runtime-cu12\n",
            "    Found existing installation: nvidia-cuda-runtime-cu12 12.5.82\n",
            "    Uninstalling nvidia-cuda-runtime-cu12-12.5.82:\n",
            "      Successfully uninstalled nvidia-cuda-runtime-cu12-12.5.82\n",
            "  Attempting uninstall: nvidia-cuda-nvrtc-cu12\n",
            "    Found existing installation: nvidia-cuda-nvrtc-cu12 12.5.82\n",
            "    Uninstalling nvidia-cuda-nvrtc-cu12-12.5.82:\n",
            "      Successfully uninstalled nvidia-cuda-nvrtc-cu12-12.5.82\n",
            "  Attempting uninstall: nvidia-cuda-cupti-cu12\n",
            "    Found existing installation: nvidia-cuda-cupti-cu12 12.5.82\n",
            "    Uninstalling nvidia-cuda-cupti-cu12-12.5.82:\n",
            "      Successfully uninstalled nvidia-cuda-cupti-cu12-12.5.82\n",
            "  Attempting uninstall: nvidia-cublas-cu12\n",
            "    Found existing installation: nvidia-cublas-cu12 12.5.3.2\n",
            "    Uninstalling nvidia-cublas-cu12-12.5.3.2:\n",
            "      Successfully uninstalled nvidia-cublas-cu12-12.5.3.2\n",
            "  Attempting uninstall: nvidia-cusparse-cu12\n",
            "    Found existing installation: nvidia-cusparse-cu12 12.5.1.3\n",
            "    Uninstalling nvidia-cusparse-cu12-12.5.1.3:\n",
            "      Successfully uninstalled nvidia-cusparse-cu12-12.5.1.3\n",
            "  Attempting uninstall: nvidia-cudnn-cu12\n",
            "    Found existing installation: nvidia-cudnn-cu12 9.3.0.75\n",
            "    Uninstalling nvidia-cudnn-cu12-9.3.0.75:\n",
            "      Successfully uninstalled nvidia-cudnn-cu12-9.3.0.75\n",
            "  Attempting uninstall: nvidia-cusolver-cu12\n",
            "    Found existing installation: nvidia-cusolver-cu12 11.6.3.83\n",
            "    Uninstalling nvidia-cusolver-cu12-11.6.3.83:\n",
            "      Successfully uninstalled nvidia-cusolver-cu12-11.6.3.83\n",
            "Successfully installed nvidia-cublas-cu12-12.4.5.8 nvidia-cuda-cupti-cu12-12.4.127 nvidia-cuda-nvrtc-cu12-12.4.127 nvidia-cuda-runtime-cu12-12.4.127 nvidia-cudnn-cu12-9.1.0.70 nvidia-cufft-cu12-11.2.1.3 nvidia-curand-cu12-10.3.5.147 nvidia-cusolver-cu12-11.6.1.9 nvidia-cusparse-cu12-12.3.1.170 nvidia-nvjitlink-cu12-12.4.127 ultralytics-8.3.115 ultralytics-thop-2.0.14\n"
          ]
        }
      ]
    },
    {
      "cell_type": "code",
      "source": [
        "!rm -rf runs/"
      ],
      "metadata": {
        "id": "O9w7mOykBJz_"
      },
      "execution_count": null,
      "outputs": []
    },
    {
      "cell_type": "code",
      "source": [
        "from ultralytics import YOLO\n",
        "\n",
        "# Load model\n",
        "model = YOLO('yolov8s.pt')\n",
        "\n",
        "# Train\n",
        "model.train(\n",
        "    data='/content/drive/MyDrive/dataset_corrected/dataset/dataset.yaml',\n",
        "    epochs=20,\n",
        "    imgsz=1280,\n",
        "    batch=8,\n",
        "    name='yolov8_vehicle_localization',\n",
        "    iou=0.5,\n",
        "    conf=0.1,\n",
        "    augment=True,\n",
        "    scale=0.5,\n",
        "    mosaic=0.5\n",
        ")\n",
        "\n",
        "# Save trained model\n",
        "!cp runs/detect/yolov8_vehicle_localization/weights/best.pt /content/drive/MyDrive/dataset_corrected/yolov8_custom.pt"
      ],
      "metadata": {
        "colab": {
          "base_uri": "https://localhost:8080/"
        },
        "id": "f5D4q3New7ln",
        "outputId": "d3deafbe-f3eb-4daa-e8d1-22b679f95dc3"
      },
      "execution_count": null,
      "outputs": [
        {
          "output_type": "stream",
          "name": "stdout",
          "text": [
            "Ultralytics 8.3.113 🚀 Python-3.11.12 torch-2.6.0+cu124 CUDA:0 (Tesla T4, 15095MiB)\n",
            "\u001b[34m\u001b[1mengine/trainer: \u001b[0mtask=detect, mode=train, model=yolov8s.pt, data=/content/drive/MyDrive/dataset_corrected/dataset/dataset.yaml, epochs=20, time=None, patience=100, batch=8, imgsz=1280, save=True, save_period=-1, cache=False, device=None, workers=8, project=None, name=yolov8_vehicle_localization, exist_ok=False, pretrained=True, optimizer=auto, verbose=True, seed=0, deterministic=True, single_cls=False, rect=False, cos_lr=False, close_mosaic=10, resume=False, amp=True, fraction=1.0, profile=False, freeze=None, multi_scale=False, overlap_mask=True, mask_ratio=4, dropout=0.0, val=True, split=val, save_json=False, conf=0.1, iou=0.5, max_det=300, half=False, dnn=False, plots=True, source=None, vid_stride=1, stream_buffer=False, visualize=False, augment=True, agnostic_nms=False, classes=None, retina_masks=False, embed=None, show=False, save_frames=False, save_txt=False, save_conf=False, save_crop=False, show_labels=True, show_conf=True, show_boxes=True, line_width=None, format=torchscript, keras=False, optimize=False, int8=False, dynamic=False, simplify=True, opset=None, workspace=None, nms=False, lr0=0.01, lrf=0.01, momentum=0.937, weight_decay=0.0005, warmup_epochs=3.0, warmup_momentum=0.8, warmup_bias_lr=0.1, box=7.5, cls=0.5, dfl=1.5, pose=12.0, kobj=1.0, nbs=64, hsv_h=0.015, hsv_s=0.7, hsv_v=0.4, degrees=0.0, translate=0.1, scale=0.5, shear=0.0, perspective=0.0, flipud=0.0, fliplr=0.5, bgr=0.0, mosaic=0.5, mixup=0.0, copy_paste=0.0, copy_paste_mode=flip, auto_augment=randaugment, erasing=0.4, cfg=None, tracker=botsort.yaml, save_dir=runs/detect/yolov8_vehicle_localization\n",
            "Overriding model.yaml nc=80 with nc=7\n",
            "\n",
            "                   from  n    params  module                                       arguments                     \n",
            "  0                  -1  1       928  ultralytics.nn.modules.conv.Conv             [3, 32, 3, 2]                 \n",
            "  1                  -1  1     18560  ultralytics.nn.modules.conv.Conv             [32, 64, 3, 2]                \n",
            "  2                  -1  1     29056  ultralytics.nn.modules.block.C2f             [64, 64, 1, True]             \n",
            "  3                  -1  1     73984  ultralytics.nn.modules.conv.Conv             [64, 128, 3, 2]               \n",
            "  4                  -1  2    197632  ultralytics.nn.modules.block.C2f             [128, 128, 2, True]           \n",
            "  5                  -1  1    295424  ultralytics.nn.modules.conv.Conv             [128, 256, 3, 2]              \n",
            "  6                  -1  2    788480  ultralytics.nn.modules.block.C2f             [256, 256, 2, True]           \n",
            "  7                  -1  1   1180672  ultralytics.nn.modules.conv.Conv             [256, 512, 3, 2]              \n",
            "  8                  -1  1   1838080  ultralytics.nn.modules.block.C2f             [512, 512, 1, True]           \n",
            "  9                  -1  1    656896  ultralytics.nn.modules.block.SPPF            [512, 512, 5]                 \n",
            " 10                  -1  1         0  torch.nn.modules.upsampling.Upsample         [None, 2, 'nearest']          \n",
            " 11             [-1, 6]  1         0  ultralytics.nn.modules.conv.Concat           [1]                           \n",
            " 12                  -1  1    591360  ultralytics.nn.modules.block.C2f             [768, 256, 1]                 \n",
            " 13                  -1  1         0  torch.nn.modules.upsampling.Upsample         [None, 2, 'nearest']          \n",
            " 14             [-1, 4]  1         0  ultralytics.nn.modules.conv.Concat           [1]                           \n",
            " 15                  -1  1    148224  ultralytics.nn.modules.block.C2f             [384, 128, 1]                 \n",
            " 16                  -1  1    147712  ultralytics.nn.modules.conv.Conv             [128, 128, 3, 2]              \n",
            " 17            [-1, 12]  1         0  ultralytics.nn.modules.conv.Concat           [1]                           \n",
            " 18                  -1  1    493056  ultralytics.nn.modules.block.C2f             [384, 256, 1]                 \n",
            " 19                  -1  1    590336  ultralytics.nn.modules.conv.Conv             [256, 256, 3, 2]              \n",
            " 20             [-1, 9]  1         0  ultralytics.nn.modules.conv.Concat           [1]                           \n",
            " 21                  -1  1   1969152  ultralytics.nn.modules.block.C2f             [768, 512, 1]                 \n",
            " 22        [15, 18, 21]  1   2118757  ultralytics.nn.modules.head.Detect           [7, [128, 256, 512]]          \n",
            "Model summary: 129 layers, 11,138,309 parameters, 11,138,293 gradients, 28.7 GFLOPs\n",
            "\n",
            "Transferred 349/355 items from pretrained weights\n",
            "Freezing layer 'model.22.dfl.conv.weight'\n",
            "\u001b[34m\u001b[1mAMP: \u001b[0mrunning Automatic Mixed Precision (AMP) checks...\n",
            "\u001b[34m\u001b[1mAMP: \u001b[0mchecks passed ✅\n",
            "\u001b[34m\u001b[1mtrain: \u001b[0mFast image access ✅ (ping: 0.3±0.1 ms, read: 243.0±75.1 MB/s, size: 1667.5 KB)\n"
          ]
        },
        {
          "output_type": "stream",
          "name": "stderr",
          "text": [
            "\u001b[34m\u001b[1mtrain: \u001b[0mScanning /content/drive/MyDrive/dataset_corrected/dataset/split/labels/train.cache... 70 images, 0 backgrounds, 0 corrupt: 100%|██████████| 70/70 [00:00<?, ?it/s]"
          ]
        },
        {
          "output_type": "stream",
          "name": "stdout",
          "text": [
            "\u001b[34m\u001b[1malbumentations: \u001b[0mBlur(p=0.01, blur_limit=(3, 7)), MedianBlur(p=0.01, blur_limit=(3, 7)), ToGray(p=0.01, num_output_channels=3, method='weighted_average'), CLAHE(p=0.01, clip_limit=(1.0, 4.0), tile_grid_size=(8, 8))\n"
          ]
        },
        {
          "output_type": "stream",
          "name": "stderr",
          "text": [
            "\n"
          ]
        },
        {
          "output_type": "stream",
          "name": "stdout",
          "text": [
            "\u001b[34m\u001b[1mval: \u001b[0mFast image access ✅ (ping: 0.5±0.3 ms, read: 153.1±49.9 MB/s, size: 1212.1 KB)\n"
          ]
        },
        {
          "output_type": "stream",
          "name": "stderr",
          "text": [
            "\u001b[34m\u001b[1mval: \u001b[0mScanning /content/drive/MyDrive/dataset_corrected/dataset/split/labels/val.cache... 15 images, 0 backgrounds, 0 corrupt: 100%|██████████| 15/15 [00:00<?, ?it/s]\n"
          ]
        },
        {
          "output_type": "stream",
          "name": "stdout",
          "text": [
            "Plotting labels to runs/detect/yolov8_vehicle_localization/labels.jpg... \n",
            "\u001b[34m\u001b[1moptimizer:\u001b[0m 'optimizer=auto' found, ignoring 'lr0=0.01' and 'momentum=0.937' and determining best 'optimizer', 'lr0' and 'momentum' automatically... \n",
            "\u001b[34m\u001b[1moptimizer:\u001b[0m AdamW(lr=0.000909, momentum=0.9) with parameter groups 57 weight(decay=0.0), 64 weight(decay=0.0005), 63 bias(decay=0.0)\n",
            "Image sizes 1280 train, 1280 val\n",
            "Using 2 dataloader workers\n",
            "Logging results to \u001b[1mruns/detect/yolov8_vehicle_localization\u001b[0m\n",
            "Starting training for 20 epochs...\n",
            "\n",
            "      Epoch    GPU_mem   box_loss   cls_loss   dfl_loss  Instances       Size\n"
          ]
        },
        {
          "output_type": "stream",
          "name": "stderr",
          "text": [
            "       1/20      7.12G      1.302      13.08      1.262         61       1280: 100%|██████████| 9/9 [00:05<00:00,  1.66it/s]\n",
            "                 Class     Images  Instances      Box(P          R      mAP50  mAP50-95): 100%|██████████| 1/1 [00:00<00:00,  2.36it/s]"
          ]
        },
        {
          "output_type": "stream",
          "name": "stdout",
          "text": [
            "                   all         15        117      0.192      0.166     0.0284     0.0201\n"
          ]
        },
        {
          "output_type": "stream",
          "name": "stderr",
          "text": [
            "\n"
          ]
        },
        {
          "output_type": "stream",
          "name": "stdout",
          "text": [
            "\n",
            "      Epoch    GPU_mem   box_loss   cls_loss   dfl_loss  Instances       Size\n"
          ]
        },
        {
          "output_type": "stream",
          "name": "stderr",
          "text": [
            "       2/20      6.89G      1.247      6.926      1.183         82       1280: 100%|██████████| 9/9 [00:05<00:00,  1.70it/s]\n",
            "                 Class     Images  Instances      Box(P          R      mAP50  mAP50-95): 100%|██████████| 1/1 [00:00<00:00,  2.16it/s]"
          ]
        },
        {
          "output_type": "stream",
          "name": "stdout",
          "text": [
            "                   all         15        117      0.291      0.365      0.314      0.233\n"
          ]
        },
        {
          "output_type": "stream",
          "name": "stderr",
          "text": [
            "\n"
          ]
        },
        {
          "output_type": "stream",
          "name": "stdout",
          "text": [
            "\n",
            "      Epoch    GPU_mem   box_loss   cls_loss   dfl_loss  Instances       Size\n"
          ]
        },
        {
          "output_type": "stream",
          "name": "stderr",
          "text": [
            "       3/20      7.23G      1.103      2.296      1.038         68       1280: 100%|██████████| 9/9 [00:04<00:00,  2.03it/s]\n",
            "                 Class     Images  Instances      Box(P          R      mAP50  mAP50-95): 100%|██████████| 1/1 [00:00<00:00,  3.12it/s]"
          ]
        },
        {
          "output_type": "stream",
          "name": "stdout",
          "text": [
            "                   all         15        117      0.615      0.579      0.513      0.372\n"
          ]
        },
        {
          "output_type": "stream",
          "name": "stderr",
          "text": [
            "\n"
          ]
        },
        {
          "output_type": "stream",
          "name": "stdout",
          "text": [
            "\n",
            "      Epoch    GPU_mem   box_loss   cls_loss   dfl_loss  Instances       Size\n"
          ]
        },
        {
          "output_type": "stream",
          "name": "stderr",
          "text": [
            "       4/20      7.24G       1.06       1.76      1.036         76       1280: 100%|██████████| 9/9 [00:04<00:00,  1.99it/s]\n",
            "                 Class     Images  Instances      Box(P          R      mAP50  mAP50-95): 100%|██████████| 1/1 [00:00<00:00,  1.90it/s]"
          ]
        },
        {
          "output_type": "stream",
          "name": "stdout",
          "text": [
            "                   all         15        117      0.633      0.637      0.659       0.49\n"
          ]
        },
        {
          "output_type": "stream",
          "name": "stderr",
          "text": [
            "\n"
          ]
        },
        {
          "output_type": "stream",
          "name": "stdout",
          "text": [
            "\n",
            "      Epoch    GPU_mem   box_loss   cls_loss   dfl_loss  Instances       Size\n"
          ]
        },
        {
          "output_type": "stream",
          "name": "stderr",
          "text": [
            "       5/20      7.24G      1.105      1.615      1.065        109       1280: 100%|██████████| 9/9 [00:04<00:00,  2.09it/s]\n",
            "                 Class     Images  Instances      Box(P          R      mAP50  mAP50-95): 100%|██████████| 1/1 [00:00<00:00,  3.73it/s]"
          ]
        },
        {
          "output_type": "stream",
          "name": "stdout",
          "text": [
            "                   all         15        117      0.695      0.613      0.677      0.516\n"
          ]
        },
        {
          "output_type": "stream",
          "name": "stderr",
          "text": [
            "\n"
          ]
        },
        {
          "output_type": "stream",
          "name": "stdout",
          "text": [
            "\n",
            "      Epoch    GPU_mem   box_loss   cls_loss   dfl_loss  Instances       Size\n"
          ]
        },
        {
          "output_type": "stream",
          "name": "stderr",
          "text": [
            "       6/20      7.24G      1.047      1.398      1.045         76       1280: 100%|██████████| 9/9 [00:04<00:00,  2.09it/s]\n",
            "                 Class     Images  Instances      Box(P          R      mAP50  mAP50-95): 100%|██████████| 1/1 [00:00<00:00,  2.38it/s]"
          ]
        },
        {
          "output_type": "stream",
          "name": "stdout",
          "text": [
            "                   all         15        117      0.529      0.627      0.644      0.493\n"
          ]
        },
        {
          "output_type": "stream",
          "name": "stderr",
          "text": [
            "\n"
          ]
        },
        {
          "output_type": "stream",
          "name": "stdout",
          "text": [
            "\n",
            "      Epoch    GPU_mem   box_loss   cls_loss   dfl_loss  Instances       Size\n"
          ]
        },
        {
          "output_type": "stream",
          "name": "stderr",
          "text": [
            "       7/20      7.24G      1.138      1.373      1.062         48       1280: 100%|██████████| 9/9 [00:04<00:00,  1.91it/s]\n",
            "                 Class     Images  Instances      Box(P          R      mAP50  mAP50-95): 100%|██████████| 1/1 [00:00<00:00,  2.91it/s]"
          ]
        },
        {
          "output_type": "stream",
          "name": "stdout",
          "text": [
            "                   all         15        117      0.813      0.596      0.752      0.563\n"
          ]
        },
        {
          "output_type": "stream",
          "name": "stderr",
          "text": [
            "\n"
          ]
        },
        {
          "output_type": "stream",
          "name": "stdout",
          "text": [
            "\n",
            "      Epoch    GPU_mem   box_loss   cls_loss   dfl_loss  Instances       Size\n"
          ]
        },
        {
          "output_type": "stream",
          "name": "stderr",
          "text": [
            "       8/20      7.28G      1.015      1.186      1.016         93       1280: 100%|██████████| 9/9 [00:04<00:00,  2.06it/s]\n",
            "                 Class     Images  Instances      Box(P          R      mAP50  mAP50-95): 100%|██████████| 1/1 [00:00<00:00,  3.15it/s]"
          ]
        },
        {
          "output_type": "stream",
          "name": "stdout",
          "text": [
            "                   all         15        117      0.603      0.636      0.668      0.499\n"
          ]
        },
        {
          "output_type": "stream",
          "name": "stderr",
          "text": [
            "\n"
          ]
        },
        {
          "output_type": "stream",
          "name": "stdout",
          "text": [
            "\n",
            "      Epoch    GPU_mem   box_loss   cls_loss   dfl_loss  Instances       Size\n"
          ]
        },
        {
          "output_type": "stream",
          "name": "stderr",
          "text": [
            "       9/20      7.28G      1.015      1.167      1.035         99       1280: 100%|██████████| 9/9 [00:04<00:00,  1.84it/s]\n",
            "                 Class     Images  Instances      Box(P          R      mAP50  mAP50-95): 100%|██████████| 1/1 [00:00<00:00,  2.94it/s]"
          ]
        },
        {
          "output_type": "stream",
          "name": "stdout",
          "text": [
            "                   all         15        117       0.73      0.619      0.728      0.552\n"
          ]
        },
        {
          "output_type": "stream",
          "name": "stderr",
          "text": [
            "\n"
          ]
        },
        {
          "output_type": "stream",
          "name": "stdout",
          "text": [
            "\n",
            "      Epoch    GPU_mem   box_loss   cls_loss   dfl_loss  Instances       Size\n"
          ]
        },
        {
          "output_type": "stream",
          "name": "stderr",
          "text": [
            "      10/20      7.28G      1.011      1.141      1.046         74       1280: 100%|██████████| 9/9 [00:04<00:00,  2.01it/s]\n",
            "                 Class     Images  Instances      Box(P          R      mAP50  mAP50-95): 100%|██████████| 1/1 [00:00<00:00,  2.36it/s]"
          ]
        },
        {
          "output_type": "stream",
          "name": "stdout",
          "text": [
            "                   all         15        117        0.8       0.74      0.811      0.617\n"
          ]
        },
        {
          "output_type": "stream",
          "name": "stderr",
          "text": [
            "\n"
          ]
        },
        {
          "output_type": "stream",
          "name": "stdout",
          "text": [
            "Closing dataloader mosaic\n",
            "\u001b[34m\u001b[1malbumentations: \u001b[0mBlur(p=0.01, blur_limit=(3, 7)), MedianBlur(p=0.01, blur_limit=(3, 7)), ToGray(p=0.01, num_output_channels=3, method='weighted_average'), CLAHE(p=0.01, clip_limit=(1.0, 4.0), tile_grid_size=(8, 8))\n",
            "\n",
            "      Epoch    GPU_mem   box_loss   cls_loss   dfl_loss  Instances       Size\n"
          ]
        },
        {
          "output_type": "stream",
          "name": "stderr",
          "text": [
            "      11/20      7.32G     0.9921      1.143     0.9922         50       1280: 100%|██████████| 9/9 [00:08<00:00,  1.06it/s]\n",
            "                 Class     Images  Instances      Box(P          R      mAP50  mAP50-95): 100%|██████████| 1/1 [00:00<00:00,  3.12it/s]"
          ]
        },
        {
          "output_type": "stream",
          "name": "stdout",
          "text": [
            "                   all         15        117      0.779      0.786      0.827      0.633\n"
          ]
        },
        {
          "output_type": "stream",
          "name": "stderr",
          "text": [
            "\n"
          ]
        },
        {
          "output_type": "stream",
          "name": "stdout",
          "text": [
            "\n",
            "      Epoch    GPU_mem   box_loss   cls_loss   dfl_loss  Instances       Size\n"
          ]
        },
        {
          "output_type": "stream",
          "name": "stderr",
          "text": [
            "      12/20      7.35G      1.005      1.053      1.044         40       1280: 100%|██████████| 9/9 [00:04<00:00,  2.03it/s]\n",
            "                 Class     Images  Instances      Box(P          R      mAP50  mAP50-95): 100%|██████████| 1/1 [00:00<00:00,  3.16it/s]"
          ]
        },
        {
          "output_type": "stream",
          "name": "stdout",
          "text": [
            "                   all         15        117      0.643      0.825       0.77      0.584\n"
          ]
        },
        {
          "output_type": "stream",
          "name": "stderr",
          "text": [
            "\n"
          ]
        },
        {
          "output_type": "stream",
          "name": "stdout",
          "text": [
            "\n",
            "      Epoch    GPU_mem   box_loss   cls_loss   dfl_loss  Instances       Size\n"
          ]
        },
        {
          "output_type": "stream",
          "name": "stderr",
          "text": [
            "      13/20      7.35G     0.9763     0.9924      1.025         54       1280: 100%|██████████| 9/9 [00:04<00:00,  1.99it/s]\n",
            "                 Class     Images  Instances      Box(P          R      mAP50  mAP50-95): 100%|██████████| 1/1 [00:00<00:00,  3.50it/s]"
          ]
        },
        {
          "output_type": "stream",
          "name": "stdout",
          "text": [
            "                   all         15        117      0.708      0.682      0.718      0.536\n"
          ]
        },
        {
          "output_type": "stream",
          "name": "stderr",
          "text": [
            "\n"
          ]
        },
        {
          "output_type": "stream",
          "name": "stdout",
          "text": [
            "\n",
            "      Epoch    GPU_mem   box_loss   cls_loss   dfl_loss  Instances       Size\n"
          ]
        },
        {
          "output_type": "stream",
          "name": "stderr",
          "text": [
            "      14/20      6.98G     0.9862     0.9655       1.01         44       1280: 100%|██████████| 9/9 [00:04<00:00,  2.08it/s]\n",
            "                 Class     Images  Instances      Box(P          R      mAP50  mAP50-95): 100%|██████████| 1/1 [00:00<00:00,  3.25it/s]"
          ]
        },
        {
          "output_type": "stream",
          "name": "stdout",
          "text": [
            "                   all         15        117      0.701      0.721      0.769      0.578\n"
          ]
        },
        {
          "output_type": "stream",
          "name": "stderr",
          "text": [
            "\n"
          ]
        },
        {
          "output_type": "stream",
          "name": "stdout",
          "text": [
            "\n",
            "      Epoch    GPU_mem   box_loss   cls_loss   dfl_loss  Instances       Size\n"
          ]
        },
        {
          "output_type": "stream",
          "name": "stderr",
          "text": [
            "      15/20      7.32G     0.9366     0.9177     0.9867         46       1280: 100%|██████████| 9/9 [00:04<00:00,  1.94it/s]\n",
            "                 Class     Images  Instances      Box(P          R      mAP50  mAP50-95): 100%|██████████| 1/1 [00:00<00:00,  2.13it/s]"
          ]
        },
        {
          "output_type": "stream",
          "name": "stdout",
          "text": [
            "                   all         15        117      0.868      0.758      0.845      0.635\n"
          ]
        },
        {
          "output_type": "stream",
          "name": "stderr",
          "text": [
            "\n"
          ]
        },
        {
          "output_type": "stream",
          "name": "stdout",
          "text": [
            "\n",
            "      Epoch    GPU_mem   box_loss   cls_loss   dfl_loss  Instances       Size\n"
          ]
        },
        {
          "output_type": "stream",
          "name": "stderr",
          "text": [
            "      16/20      7.32G     0.9354     0.8696     0.9995         33       1280: 100%|██████████| 9/9 [00:04<00:00,  2.10it/s]\n",
            "                 Class     Images  Instances      Box(P          R      mAP50  mAP50-95): 100%|██████████| 1/1 [00:00<00:00,  3.42it/s]"
          ]
        },
        {
          "output_type": "stream",
          "name": "stdout",
          "text": [
            "                   all         15        117      0.828      0.796      0.881      0.666\n"
          ]
        },
        {
          "output_type": "stream",
          "name": "stderr",
          "text": [
            "\n"
          ]
        },
        {
          "output_type": "stream",
          "name": "stdout",
          "text": [
            "\n",
            "      Epoch    GPU_mem   box_loss   cls_loss   dfl_loss  Instances       Size\n"
          ]
        },
        {
          "output_type": "stream",
          "name": "stderr",
          "text": [
            "      17/20      7.32G     0.9281     0.8414      1.006         48       1280: 100%|██████████| 9/9 [00:04<00:00,  2.07it/s]\n",
            "                 Class     Images  Instances      Box(P          R      mAP50  mAP50-95): 100%|██████████| 1/1 [00:00<00:00,  2.63it/s]"
          ]
        },
        {
          "output_type": "stream",
          "name": "stdout",
          "text": [
            "                   all         15        117      0.862      0.817      0.909      0.703\n"
          ]
        },
        {
          "output_type": "stream",
          "name": "stderr",
          "text": [
            "\n"
          ]
        },
        {
          "output_type": "stream",
          "name": "stdout",
          "text": [
            "\n",
            "      Epoch    GPU_mem   box_loss   cls_loss   dfl_loss  Instances       Size\n"
          ]
        },
        {
          "output_type": "stream",
          "name": "stderr",
          "text": [
            "      18/20      7.32G     0.9403      0.846     0.9895         37       1280: 100%|██████████| 9/9 [00:04<00:00,  1.98it/s]\n",
            "                 Class     Images  Instances      Box(P          R      mAP50  mAP50-95): 100%|██████████| 1/1 [00:00<00:00,  3.36it/s]"
          ]
        },
        {
          "output_type": "stream",
          "name": "stdout",
          "text": [
            "                   all         15        117      0.875      0.834      0.918       0.72\n"
          ]
        },
        {
          "output_type": "stream",
          "name": "stderr",
          "text": [
            "\n"
          ]
        },
        {
          "output_type": "stream",
          "name": "stdout",
          "text": [
            "\n",
            "      Epoch    GPU_mem   box_loss   cls_loss   dfl_loss  Instances       Size\n"
          ]
        },
        {
          "output_type": "stream",
          "name": "stderr",
          "text": [
            "      19/20      7.32G     0.9247     0.7716     0.9989         40       1280: 100%|██████████| 9/9 [00:04<00:00,  2.06it/s]\n",
            "                 Class     Images  Instances      Box(P          R      mAP50  mAP50-95): 100%|██████████| 1/1 [00:00<00:00,  3.35it/s]"
          ]
        },
        {
          "output_type": "stream",
          "name": "stdout",
          "text": [
            "                   all         15        117       0.95      0.825      0.925      0.729\n"
          ]
        },
        {
          "output_type": "stream",
          "name": "stderr",
          "text": [
            "\n"
          ]
        },
        {
          "output_type": "stream",
          "name": "stdout",
          "text": [
            "\n",
            "      Epoch    GPU_mem   box_loss   cls_loss   dfl_loss  Instances       Size\n"
          ]
        },
        {
          "output_type": "stream",
          "name": "stderr",
          "text": [
            "      20/20      7.32G     0.9079     0.7764      0.993         53       1280: 100%|██████████| 9/9 [00:04<00:00,  1.93it/s]\n",
            "                 Class     Images  Instances      Box(P          R      mAP50  mAP50-95): 100%|██████████| 1/1 [00:00<00:00,  2.49it/s]"
          ]
        },
        {
          "output_type": "stream",
          "name": "stdout",
          "text": [
            "                   all         15        117      0.935      0.823      0.926      0.733\n"
          ]
        },
        {
          "output_type": "stream",
          "name": "stderr",
          "text": [
            "\n"
          ]
        },
        {
          "output_type": "stream",
          "name": "stdout",
          "text": [
            "\n",
            "20 epochs completed in 0.035 hours.\n",
            "Optimizer stripped from runs/detect/yolov8_vehicle_localization/weights/last.pt, 22.6MB\n",
            "Optimizer stripped from runs/detect/yolov8_vehicle_localization/weights/best.pt, 22.6MB\n",
            "\n",
            "Validating runs/detect/yolov8_vehicle_localization/weights/best.pt...\n",
            "Ultralytics 8.3.113 🚀 Python-3.11.12 torch-2.6.0+cu124 CUDA:0 (Tesla T4, 15095MiB)\n",
            "Model summary (fused): 72 layers, 11,128,293 parameters, 0 gradients, 28.5 GFLOPs\n"
          ]
        },
        {
          "output_type": "stream",
          "name": "stderr",
          "text": [
            "                 Class     Images  Instances      Box(P          R      mAP50  mAP50-95): 100%|██████████| 1/1 [00:00<00:00,  1.90it/s]\n"
          ]
        },
        {
          "output_type": "stream",
          "name": "stdout",
          "text": [
            "                   all         15        117      0.872      0.854      0.912      0.716\n",
            "               tuk-tuk         15         34      0.824      0.853       0.93      0.665\n",
            "            motorcycle         12         33      0.955      0.939      0.965      0.576\n",
            "                   car         15         30      0.736      0.833      0.884      0.703\n",
            "                   van          7          7      0.846      0.857      0.933      0.786\n",
            "                 truck         10         11      0.873      0.727      0.768      0.638\n",
            "                   bus          2          2          1      0.914      0.995      0.929\n",
            "Speed: 0.5ms preprocess, 27.4ms inference, 0.0ms loss, 1.1ms postprocess per image\n",
            "Results saved to \u001b[1mruns/detect/yolov8_vehicle_localization\u001b[0m\n"
          ]
        }
      ]
    },
    {
      "cell_type": "code",
      "source": [
        "!ls /content/drive/MyDrive/dataset_corrected/yolov8_custom.pt"
      ],
      "metadata": {
        "colab": {
          "base_uri": "https://localhost:8080/"
        },
        "id": "q_7D_CaPBLOT",
        "outputId": "d5a71273-bd94-4125-bbae-004004264541"
      },
      "execution_count": 6,
      "outputs": [
        {
          "output_type": "stream",
          "name": "stdout",
          "text": [
            "/content/drive/MyDrive/dataset_corrected/yolov8_custom.pt\n"
          ]
        }
      ]
    },
    {
      "cell_type": "markdown",
      "source": [
        "Test the Trained Model"
      ],
      "metadata": {
        "id": "ycFF5tKBJn_U"
      }
    },
    {
      "cell_type": "code",
      "source": [
        "from ultralytics import YOLO\n",
        "import cv2\n",
        "import os\n",
        "\n",
        "# Load the trained model\n",
        "model = YOLO('/content/drive/MyDrive/dataset_corrected/yolov8_custom.pt')\n",
        "\n",
        "# Test on test set\n",
        "image_dir = '/content/drive/MyDrive/dataset_corrected/dataset/split/images/test'\n",
        "output_dir = '/content/drive/MyDrive/dataset_corrected/dataset/annotated_images_test'\n",
        "os.makedirs(output_dir, exist_ok=True)\n",
        "\n",
        "for image_name in os.listdir(image_dir):\n",
        "    if not image_name.endswith('.png'):\n",
        "        continue\n",
        "    image_path = os.path.join(image_dir, image_name)\n",
        "    image = cv2.imread(image_path)\n",
        "    results = model(image_path, conf=0.1, iou=0.5)\n",
        "    for result in results:\n",
        "        boxes = result.boxes.xyxy.cpu().numpy()\n",
        "        confidences = result.boxes.conf.cpu().numpy()\n",
        "        classes = result.boxes.cls.cpu().numpy()\n",
        "        for box, conf, cls in zip(boxes, confidences, classes):\n",
        "            x1, y1, x2, y2 = map(int, box)\n",
        "            class_name = result.names[int(cls)]\n",
        "            color = (255, 0, 255) if class_name == 'tuk-tuk' else (0, 255, 0)\n",
        "            cv2.rectangle(image, (x1, y1), (x2, y2), color, 2)\n",
        "            cv2.putText(image, f'{class_name} {conf:.2f}', (x1, y1 - 10), cv2.FONT_HERSHEY_SIMPLEX, 0.5, color, 2)\n",
        "    cv2.imwrite(os.path.join(output_dir, image_name), image)\n",
        "    print(f'Processed {image_name}')"
      ],
      "metadata": {
        "colab": {
          "base_uri": "https://localhost:8080/"
        },
        "id": "EdV0aSCIJq3w",
        "outputId": "cf39ec9c-f8ac-4ce1-f4a8-fd2e2425cd96"
      },
      "execution_count": null,
      "outputs": [
        {
          "output_type": "stream",
          "name": "stdout",
          "text": [
            "\n",
            "image 1/1 /content/drive/MyDrive/dataset_corrected/dataset/split/images/test/img100.png: 672x1280 3 tuk-tuks, 3 motorcycles, 4 cars, 1 van, 2 trucks, 29.2ms\n",
            "Speed: 5.2ms preprocess, 29.2ms inference, 2.4ms postprocess per image at shape (1, 3, 672, 1280)\n",
            "Processed img100.png\n",
            "\n",
            "image 1/1 /content/drive/MyDrive/dataset_corrected/dataset/split/images/test/img50.png: 480x1280 5 tuk-tuks, 4 motorcycles, 1 car, 1 van, 21.6ms\n",
            "Speed: 6.5ms preprocess, 21.6ms inference, 1.3ms postprocess per image at shape (1, 3, 480, 1280)\n",
            "Processed img50.png\n",
            "\n",
            "image 1/1 /content/drive/MyDrive/dataset_corrected/dataset/split/images/test/img83.png: 736x1280 2 tuk-tuks, 5 motorcycles, 3 cars, 1 truck, 30.4ms\n",
            "Speed: 5.9ms preprocess, 30.4ms inference, 1.4ms postprocess per image at shape (1, 3, 736, 1280)\n",
            "Processed img83.png\n",
            "\n",
            "image 1/1 /content/drive/MyDrive/dataset_corrected/dataset/split/images/test/img25.png: 512x1280 1 tuk-tuk, 4 cars, 1 van, 2 trucks, 3 buss, 21.9ms\n",
            "Speed: 5.0ms preprocess, 21.9ms inference, 1.3ms postprocess per image at shape (1, 3, 512, 1280)\n",
            "Processed img25.png\n",
            "\n",
            "image 1/1 /content/drive/MyDrive/dataset_corrected/dataset/split/images/test/img70.png: 640x1280 5 motorcycles, 2 cars, 1 van, 3 trucks, 27.8ms\n",
            "Speed: 5.1ms preprocess, 27.8ms inference, 1.3ms postprocess per image at shape (1, 3, 640, 1280)\n",
            "Processed img70.png\n",
            "\n",
            "image 1/1 /content/drive/MyDrive/dataset_corrected/dataset/split/images/test/img59.png: 672x1280 4 tuk-tuks, 1 motorcycle, 2 cars, 1 truck, 28.9ms\n",
            "Speed: 5.1ms preprocess, 28.9ms inference, 1.3ms postprocess per image at shape (1, 3, 672, 1280)\n",
            "Processed img59.png\n",
            "\n",
            "image 1/1 /content/drive/MyDrive/dataset_corrected/dataset/split/images/test/img98.png: 672x1280 3 tuk-tuks, 1 motorcycle, 6 cars, 1 truck, 28.1ms\n",
            "Speed: 5.5ms preprocess, 28.1ms inference, 1.4ms postprocess per image at shape (1, 3, 672, 1280)\n",
            "Processed img98.png\n",
            "\n",
            "image 1/1 /content/drive/MyDrive/dataset_corrected/dataset/split/images/test/img80.png: 672x1280 3 tuk-tuks, 2 motorcycles, 3 cars, 3 trucks, 28.2ms\n",
            "Speed: 5.2ms preprocess, 28.2ms inference, 1.4ms postprocess per image at shape (1, 3, 672, 1280)\n",
            "Processed img80.png\n",
            "\n",
            "image 1/1 /content/drive/MyDrive/dataset_corrected/dataset/split/images/test/img56.png: 672x1280 2 tuk-tuks, 2 motorcycles, 4 cars, 28.2ms\n",
            "Speed: 5.3ms preprocess, 28.2ms inference, 1.4ms postprocess per image at shape (1, 3, 672, 1280)\n",
            "Processed img56.png\n",
            "\n",
            "image 1/1 /content/drive/MyDrive/dataset_corrected/dataset/split/images/test/img95.png: 800x1280 2 tuk-tuks, 4 cars, 2 vans, 1 truck, 36.7ms\n",
            "Speed: 6.2ms preprocess, 36.7ms inference, 1.4ms postprocess per image at shape (1, 3, 800, 1280)\n",
            "Processed img95.png\n",
            "\n",
            "image 1/1 /content/drive/MyDrive/dataset_corrected/dataset/split/images/test/img39.png: 512x1280 1 tuk-tuk, 1 motorcycle, 2 cars, 1 van, 1 truck, 22.2ms\n",
            "Speed: 5.1ms preprocess, 22.2ms inference, 1.3ms postprocess per image at shape (1, 3, 512, 1280)\n",
            "Processed img39.png\n",
            "\n",
            "image 1/1 /content/drive/MyDrive/dataset_corrected/dataset/split/images/test/img97.png: 768x1280 3 tuk-tuks, 1 motorcycle, 6 cars, 1 van, 2 trucks, 30.6ms\n",
            "Speed: 6.0ms preprocess, 30.6ms inference, 1.4ms postprocess per image at shape (1, 3, 768, 1280)\n",
            "Processed img97.png\n",
            "\n",
            "image 1/1 /content/drive/MyDrive/dataset_corrected/dataset/split/images/test/img92.png: 768x1280 2 tuk-tuks, 4 motorcycles, 3 cars, 2 trucks, 29.7ms\n",
            "Speed: 5.9ms preprocess, 29.7ms inference, 1.5ms postprocess per image at shape (1, 3, 768, 1280)\n",
            "Processed img92.png\n",
            "\n",
            "image 1/1 /content/drive/MyDrive/dataset_corrected/dataset/split/images/test/img19.png: 512x1280 4 tuk-tuks, 1 motorcycle, 2 cars, 1 bus, 21.7ms\n",
            "Speed: 4.9ms preprocess, 21.7ms inference, 1.5ms postprocess per image at shape (1, 3, 512, 1280)\n",
            "Processed img19.png\n",
            "\n",
            "image 1/1 /content/drive/MyDrive/dataset_corrected/dataset/split/images/test/img96.png: 768x1280 5 tuk-tuks, 1 motorcycle, 5 cars, 1 van, 2 trucks, 30.5ms\n",
            "Speed: 6.0ms preprocess, 30.5ms inference, 1.3ms postprocess per image at shape (1, 3, 768, 1280)\n",
            "Processed img96.png\n"
          ]
        }
      ]
    },
    {
      "cell_type": "code",
      "source": [
        "!ls /content/drive/MyDrive/dataset_corrected/dataset"
      ],
      "metadata": {
        "id": "g9Ren_mBKPAw",
        "colab": {
          "base_uri": "https://localhost:8080/"
        },
        "outputId": "92d89e78-ba1a-4180-d82d-3f4eff797b59"
      },
      "execution_count": 8,
      "outputs": [
        {
          "output_type": "stream",
          "name": "stdout",
          "text": [
            "annotated_images_test  classes.txt  dataset.yaml  metadata.csv\tsplit\n"
          ]
        }
      ]
    },
    {
      "cell_type": "markdown",
      "source": [
        "Geolocation Script"
      ],
      "metadata": {
        "id": "_KF8dcclc9_1"
      }
    },
    {
      "cell_type": "code",
      "source": [
        "import pandas as pd\n",
        "import json\n",
        "import os\n",
        "import cv2\n",
        "import numpy as np\n",
        "from ultralytics import YOLO\n",
        "\n",
        "# Load the trained model\n",
        "model = YOLO('/content/drive/MyDrive/dataset_corrected/yolov8_custom.pt')\n",
        "\n",
        "# Load metadata\n",
        "metadata = pd.read_csv('/content/drive/MyDrive/dataset_corrected/dataset/metadata.csv')\n",
        "\n",
        "# Output directory for geolocation results\n",
        "output_dir = '/content/drive/MyDrive/dataset_corrected/dataset/detections_with_gps'\n",
        "os.makedirs(output_dir, exist_ok=True)\n",
        "\n",
        "# Function to approximate geolocation\n",
        "def approximate_geolocation(bbox, camera_gps, heading, image_width, hfv=60.0):\n",
        "    x_center = (bbox[0] + bbox[2]) / 2\n",
        "    bbox_height = bbox[3] - bbox[1]\n",
        "    k = 5000  # Constant for distance estimation (adjust as needed)\n",
        "    distance = min(k / bbox_height, 50)  # Cap distance at 50 meters\n",
        "    image_center_x = image_width / 2\n",
        "    azimuth = ((x_center - image_center_x) / image_center_x) * (hfv / 2)\n",
        "    true_azimuth = azimuth + heading\n",
        "    azimuth_rad = np.deg2rad(true_azimuth)\n",
        "    lat_per_meter = 1 / 111139\n",
        "    lon_per_meter = 1 / (111139 * np.cos(np.deg2rad(camera_gps['latitude'])))\n",
        "    lat_offset = distance * np.cos(azimuth_rad) * lat_per_meter\n",
        "    lon_offset = distance * np.sin(azimuth_rad) * lon_per_meter\n",
        "    return camera_gps['latitude'] + lat_offset, camera_gps['longitude'] + lon_offset\n",
        "\n",
        "# Process test images\n",
        "image_dir = '/content/drive/MyDrive/dataset_corrected/dataset/split/images/test'\n",
        "for image_name in os.listdir(image_dir):\n",
        "    if not image_name.endswith('.png'):\n",
        "        continue\n",
        "    image_path = os.path.join(image_dir, image_name)\n",
        "    image = cv2.imread(image_path)\n",
        "    if image is None:\n",
        "        print(f'Failed to load image {image_name}')\n",
        "        continue\n",
        "\n",
        "    # Get metadata for the image\n",
        "    meta = metadata[metadata['image_name'] == image_name]\n",
        "    if meta.empty:\n",
        "        print(f'Metadata missing for {image_name}')\n",
        "        continue\n",
        "    camera_gps = {'latitude': meta['latitude'].iloc[0], 'longitude': meta['longitude'].iloc[0]}\n",
        "    heading = meta['heading'].iloc[0] if 'heading' in meta else 0.0\n",
        "    image_width = image.shape[1]\n",
        "\n",
        "    # Run detection\n",
        "    results = model(image_path, conf=0.1, iou=0.5)\n",
        "    detections = []\n",
        "    for result in results:\n",
        "        boxes = result.boxes.xyxy.cpu().numpy()\n",
        "        confidences = result.boxes.conf.cpu().numpy()\n",
        "        classes = result.boxes.cls.cpu().numpy()\n",
        "        for box, conf, cls in zip(boxes, confidences, classes):\n",
        "            x1, y1, x2, y2 = map(float, box)\n",
        "            class_name = result.names[int(cls)]\n",
        "            # Approximate geolocation\n",
        "            lat, lon = approximate_geolocation([x1, y1, x2, y2], camera_gps, heading, image_width)\n",
        "            detections.append({\n",
        "                'class': class_name,\n",
        "                'confidence': float(conf),\n",
        "                'bbox': [x1, y1, x2, y2],\n",
        "                'geolocation': {'latitude': lat, 'longitude': lon}\n",
        "            })\n",
        "\n",
        "    # Save detections with geolocation\n",
        "    output_file = os.path.join(output_dir, image_name.replace('.png', '.json'))\n",
        "    with open(output_file, 'w') as f:\n",
        "        json.dump(detections, f, indent=4)\n",
        "    print(f'Geolocated detections saved for {image_name}')"
      ],
      "metadata": {
        "colab": {
          "base_uri": "https://localhost:8080/"
        },
        "id": "asYingDDcNP2",
        "outputId": "9ad2a725-7f56-4a9d-e501-e45ba53775ca"
      },
      "execution_count": 9,
      "outputs": [
        {
          "output_type": "stream",
          "name": "stdout",
          "text": [
            "Creating new Ultralytics Settings v0.0.6 file ✅ \n",
            "View Ultralytics Settings with 'yolo settings' or at '/root/.config/Ultralytics/settings.json'\n",
            "Update Settings with 'yolo settings key=value', i.e. 'yolo settings runs_dir=path/to/dir'. For help see https://docs.ultralytics.com/quickstart/#ultralytics-settings.\n",
            "\n",
            "image 1/1 /content/drive/MyDrive/dataset_corrected/dataset/split/images/test/img100.png: 672x1280 3 tuk-tuks, 3 motorcycles, 4 cars, 1 van, 2 trucks, 54.4ms\n",
            "Speed: 14.3ms preprocess, 54.4ms inference, 343.4ms postprocess per image at shape (1, 3, 672, 1280)\n",
            "Geolocated detections saved for img100.png\n",
            "\n",
            "image 1/1 /content/drive/MyDrive/dataset_corrected/dataset/split/images/test/img50.png: 480x1280 5 tuk-tuks, 4 motorcycles, 1 car, 1 van, 42.9ms\n",
            "Speed: 4.8ms preprocess, 42.9ms inference, 1.5ms postprocess per image at shape (1, 3, 480, 1280)\n",
            "Geolocated detections saved for img50.png\n",
            "\n",
            "image 1/1 /content/drive/MyDrive/dataset_corrected/dataset/split/images/test/img83.png: 736x1280 2 tuk-tuks, 5 motorcycles, 3 cars, 1 truck, 39.1ms\n",
            "Speed: 9.8ms preprocess, 39.1ms inference, 1.5ms postprocess per image at shape (1, 3, 736, 1280)\n",
            "Geolocated detections saved for img83.png\n",
            "\n",
            "image 1/1 /content/drive/MyDrive/dataset_corrected/dataset/split/images/test/img25.png: 512x1280 1 tuk-tuk, 4 cars, 1 van, 2 trucks, 3 buss, 39.3ms\n",
            "Speed: 4.8ms preprocess, 39.3ms inference, 1.6ms postprocess per image at shape (1, 3, 512, 1280)\n",
            "Geolocated detections saved for img25.png\n",
            "\n",
            "image 1/1 /content/drive/MyDrive/dataset_corrected/dataset/split/images/test/img70.png: 640x1280 5 motorcycles, 2 cars, 1 van, 3 trucks, 42.8ms\n",
            "Speed: 5.6ms preprocess, 42.8ms inference, 2.4ms postprocess per image at shape (1, 3, 640, 1280)\n",
            "Geolocated detections saved for img70.png\n",
            "\n",
            "image 1/1 /content/drive/MyDrive/dataset_corrected/dataset/split/images/test/img59.png: 672x1280 4 tuk-tuks, 1 motorcycle, 2 cars, 1 truck, 29.0ms\n",
            "Speed: 5.6ms preprocess, 29.0ms inference, 1.5ms postprocess per image at shape (1, 3, 672, 1280)\n",
            "Geolocated detections saved for img59.png\n",
            "\n",
            "image 1/1 /content/drive/MyDrive/dataset_corrected/dataset/split/images/test/img98.png: 672x1280 3 tuk-tuks, 1 motorcycle, 6 cars, 1 truck, 28.2ms\n",
            "Speed: 5.2ms preprocess, 28.2ms inference, 1.6ms postprocess per image at shape (1, 3, 672, 1280)\n",
            "Geolocated detections saved for img98.png\n",
            "\n",
            "image 1/1 /content/drive/MyDrive/dataset_corrected/dataset/split/images/test/img80.png: 672x1280 3 tuk-tuks, 2 motorcycles, 3 cars, 3 trucks, 28.2ms\n",
            "Speed: 8.6ms preprocess, 28.2ms inference, 2.1ms postprocess per image at shape (1, 3, 672, 1280)\n",
            "Geolocated detections saved for img80.png\n",
            "\n",
            "image 1/1 /content/drive/MyDrive/dataset_corrected/dataset/split/images/test/img56.png: 672x1280 2 tuk-tuks, 2 motorcycles, 4 cars, 28.2ms\n",
            "Speed: 5.4ms preprocess, 28.2ms inference, 1.8ms postprocess per image at shape (1, 3, 672, 1280)\n",
            "Geolocated detections saved for img56.png\n",
            "\n",
            "image 1/1 /content/drive/MyDrive/dataset_corrected/dataset/split/images/test/img95.png: 800x1280 2 tuk-tuks, 4 cars, 2 vans, 1 truck, 40.2ms\n",
            "Speed: 6.1ms preprocess, 40.2ms inference, 1.5ms postprocess per image at shape (1, 3, 800, 1280)\n",
            "Geolocated detections saved for img95.png\n",
            "\n",
            "image 1/1 /content/drive/MyDrive/dataset_corrected/dataset/split/images/test/img39.png: 512x1280 1 tuk-tuk, 1 motorcycle, 2 cars, 1 van, 1 truck, 21.7ms\n",
            "Speed: 4.9ms preprocess, 21.7ms inference, 1.5ms postprocess per image at shape (1, 3, 512, 1280)\n",
            "Geolocated detections saved for img39.png\n",
            "\n",
            "image 1/1 /content/drive/MyDrive/dataset_corrected/dataset/split/images/test/img97.png: 768x1280 3 tuk-tuks, 1 motorcycle, 6 cars, 1 van, 2 trucks, 40.2ms\n",
            "Speed: 7.6ms preprocess, 40.2ms inference, 1.6ms postprocess per image at shape (1, 3, 768, 1280)\n",
            "Geolocated detections saved for img97.png\n",
            "\n",
            "image 1/1 /content/drive/MyDrive/dataset_corrected/dataset/split/images/test/img92.png: 768x1280 2 tuk-tuks, 4 motorcycles, 3 cars, 2 trucks, 29.7ms\n",
            "Speed: 7.0ms preprocess, 29.7ms inference, 1.6ms postprocess per image at shape (1, 3, 768, 1280)\n",
            "Geolocated detections saved for img92.png\n",
            "\n",
            "image 1/1 /content/drive/MyDrive/dataset_corrected/dataset/split/images/test/img19.png: 512x1280 4 tuk-tuks, 1 motorcycle, 2 cars, 1 bus, 21.6ms\n",
            "Speed: 4.8ms preprocess, 21.6ms inference, 1.4ms postprocess per image at shape (1, 3, 512, 1280)\n",
            "Geolocated detections saved for img19.png\n",
            "\n",
            "image 1/1 /content/drive/MyDrive/dataset_corrected/dataset/split/images/test/img96.png: 768x1280 5 tuk-tuks, 1 motorcycle, 5 cars, 1 van, 2 trucks, 30.5ms\n",
            "Speed: 7.8ms preprocess, 30.5ms inference, 1.6ms postprocess per image at shape (1, 3, 768, 1280)\n",
            "Geolocated detections saved for img96.png\n"
          ]
        }
      ]
    },
    {
      "cell_type": "code",
      "source": [],
      "metadata": {
        "id": "qgINb5rKdTDf"
      },
      "execution_count": null,
      "outputs": []
    }
  ]
}