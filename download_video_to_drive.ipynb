{
  "nbformat": 4,
  "nbformat_minor": 0,
  "metadata": {
    "colab": {
      "provenance": []
    },
    "kernelspec": {
      "name": "python3",
      "display_name": "Python 3"
    },
    "language_info": {
      "name": "python"
    }
  },
  "cells": [
    {
      "cell_type": "code",
      "source": [
        "!wget https://kkb-production.jupyter-proxy.kaggle.net/k/214540812/eyJhbGciOiJkaXIiLCJlbmMiOiJBMTI4Q0JDLUhTMjU2IiwidHlwIjoiSldUIn0..RnQ12NK9mTW4UJw3cFSHeA.kdGkEDzesRDuxrI3aLrV1TeuqCKfYbN7m6oCW98eaK09zmvPmWFvkjJ5TWoYkEoyJD37DU4FD-HOJnb9m3fyv1sdwlHZxpC_NU5-7NjIWkX0BufQjSE47qzWgDg8xl2EDZ0oYuCan3__hKtNVsd88MbgpmFqn2xEPeRjXnJ2qPHdVkR92uvKtu77fmHh9YK_ea_dX19xmJ1ljMRE5wyGAwRjPgl1zI36EpV-Kjtvl6_wukErbZ1fVzxyQTFnGrU-.8xvI5uDY-sQ1Q2-diIKsgw/proxy/files/output_video_test.mp4"
      ],
      "metadata": {
        "colab": {
          "base_uri": "https://localhost:8080/"
        },
        "id": "-Wfr6udXRWyL",
        "outputId": "f2956a61-8741-4514-b43b-58423498a17b"
      },
      "execution_count": 1,
      "outputs": [
        {
          "output_type": "stream",
          "name": "stdout",
          "text": [
            "--2024-12-24 06:07:11--  https://kkb-production.jupyter-proxy.kaggle.net/k/214540812/eyJhbGciOiJkaXIiLCJlbmMiOiJBMTI4Q0JDLUhTMjU2IiwidHlwIjoiSldUIn0..RnQ12NK9mTW4UJw3cFSHeA.kdGkEDzesRDuxrI3aLrV1TeuqCKfYbN7m6oCW98eaK09zmvPmWFvkjJ5TWoYkEoyJD37DU4FD-HOJnb9m3fyv1sdwlHZxpC_NU5-7NjIWkX0BufQjSE47qzWgDg8xl2EDZ0oYuCan3__hKtNVsd88MbgpmFqn2xEPeRjXnJ2qPHdVkR92uvKtu77fmHh9YK_ea_dX19xmJ1ljMRE5wyGAwRjPgl1zI36EpV-Kjtvl6_wukErbZ1fVzxyQTFnGrU-.8xvI5uDY-sQ1Q2-diIKsgw/proxy/files/output_video_test.mp4\n",
            "Resolving kkb-production.jupyter-proxy.kaggle.net (kkb-production.jupyter-proxy.kaggle.net)... 35.244.180.134\n",
            "Connecting to kkb-production.jupyter-proxy.kaggle.net (kkb-production.jupyter-proxy.kaggle.net)|35.244.180.134|:443... connected.\n",
            "HTTP request sent, awaiting response... 200 OK\n",
            "Length: 78841796 (75M) [video/mp4]\n",
            "Saving to: ‘output_video_test.mp4’\n",
            "\n",
            "output_video_test.m 100%[===================>]  75.19M  97.0MB/s    in 0.8s    \n",
            "\n",
            "2024-12-24 06:07:12 (97.0 MB/s) - ‘output_video_test.mp4’ saved [78841796/78841796]\n",
            "\n"
          ]
        }
      ]
    },
    {
      "cell_type": "code",
      "source": [
        "from google.colab import drive\n",
        "drive.mount('/content/drive')"
      ],
      "metadata": {
        "colab": {
          "base_uri": "https://localhost:8080/"
        },
        "id": "ZZOueYdKRvmy",
        "outputId": "786415ac-c8d0-4e2a-f565-866e69bd1996"
      },
      "execution_count": 2,
      "outputs": [
        {
          "output_type": "stream",
          "name": "stdout",
          "text": [
            "Mounted at /content/drive\n"
          ]
        }
      ]
    },
    {
      "cell_type": "code",
      "source": [
        "import shutil\n",
        "\n",
        "# Define the current file path (in Colab's environment)\n",
        "current_file_path = '/content/output_video_test.mp4'\n",
        "\n",
        "# Define the destination path in your Google Drive\n",
        "destination_path = '/content/drive/My Drive/output_video_test.mp4'\n",
        "\n",
        "# Move the file to Google Drive\n",
        "shutil.move(current_file_path, destination_path)"
      ],
      "metadata": {
        "colab": {
          "base_uri": "https://localhost:8080/",
          "height": 35
        },
        "id": "rPYDEmU-SlND",
        "outputId": "41e9b9db-5183-4b97-886d-2551d211358b"
      },
      "execution_count": 3,
      "outputs": [
        {
          "output_type": "execute_result",
          "data": {
            "text/plain": [
              "'/content/drive/My Drive/output_video_test.mp4'"
            ],
            "application/vnd.google.colaboratory.intrinsic+json": {
              "type": "string"
            }
          },
          "metadata": {},
          "execution_count": 3
        }
      ]
    }
  ]
}