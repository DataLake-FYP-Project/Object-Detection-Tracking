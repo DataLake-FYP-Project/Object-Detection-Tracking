{
  "metadata": {
    "kernelspec": {
      "language": "python",
      "display_name": "Python 3",
      "name": "python3"
    },
    "language_info": {
      "name": "python",
      "version": "3.10.12",
      "mimetype": "text/x-python",
      "codemirror_mode": {
        "name": "ipython",
        "version": 3
      },
      "pygments_lexer": "ipython3",
      "nbconvert_exporter": "python",
      "file_extension": ".py"
    },
    "kaggle": {
      "accelerator": "gpu",
      "dataSources": [],
      "dockerImageVersionId": 30823,
      "isInternetEnabled": true,
      "language": "python",
      "sourceType": "notebook",
      "isGpuEnabled": true
    },
    "colab": {
      "provenance": []
    }
  },
  "nbformat_minor": 0,
  "nbformat": 4,
  "cells": [
    {
      "cell_type": "markdown",
      "source": [
        "## Check GPU Access"
      ],
      "metadata": {
        "id": "UBmoOJP2FmZw"
      }
    },
    {
      "cell_type": "code",
      "source": [
        "!nvidia-smi"
      ],
      "metadata": {
        "_uuid": "8f2839f25d086af736a60e9eeb907d3b93b6e0e5",
        "_cell_guid": "b1076dfc-b9ad-4769-8c92-a6c4dae69d19",
        "trusted": true,
        "execution": {
          "iopub.status.busy": "2024-12-24T10:21:25.625785Z",
          "iopub.execute_input": "2024-12-24T10:21:25.626094Z",
          "iopub.status.idle": "2024-12-24T10:21:25.789880Z",
          "shell.execute_reply.started": "2024-12-24T10:21:25.626067Z",
          "shell.execute_reply": "2024-12-24T10:21:25.789053Z"
        },
        "colab": {
          "base_uri": "https://localhost:8080/"
        },
        "id": "-H2RWjvUFmZz",
        "outputId": "4c11a7c0-f4ea-4c22-c670-4ccbb7554e35"
      },
      "outputs": [
        {
          "output_type": "stream",
          "name": "stdout",
          "text": [
            "/bin/bash: line 1: nvidia-smi: command not found\n"
          ]
        }
      ],
      "execution_count": null
    },
    {
      "cell_type": "markdown",
      "source": [
        "## Connect with Google Drive"
      ],
      "metadata": {
        "id": "7WYgVU1-FmZ0"
      }
    },
    {
      "cell_type": "code",
      "source": [
        "!pip install gdown"
      ],
      "metadata": {
        "trusted": true,
        "execution": {
          "iopub.status.busy": "2024-12-24T10:21:25.791008Z",
          "iopub.execute_input": "2024-12-24T10:21:25.791330Z",
          "iopub.status.idle": "2024-12-24T10:21:30.190699Z",
          "shell.execute_reply.started": "2024-12-24T10:21:25.791300Z",
          "shell.execute_reply": "2024-12-24T10:21:30.189782Z"
        },
        "colab": {
          "base_uri": "https://localhost:8080/"
        },
        "id": "QMww6qEOFmZ1",
        "outputId": "cb1c4a9a-8976-46e1-cbc8-f821513babc3"
      },
      "outputs": [
        {
          "output_type": "stream",
          "name": "stdout",
          "text": [
            "Requirement already satisfied: gdown in /usr/local/lib/python3.10/dist-packages (5.2.0)\n",
            "Requirement already satisfied: beautifulsoup4 in /usr/local/lib/python3.10/dist-packages (from gdown) (4.12.3)\n",
            "Requirement already satisfied: filelock in /usr/local/lib/python3.10/dist-packages (from gdown) (3.16.1)\n",
            "Requirement already satisfied: requests[socks] in /usr/local/lib/python3.10/dist-packages (from gdown) (2.32.3)\n",
            "Requirement already satisfied: tqdm in /usr/local/lib/python3.10/dist-packages (from gdown) (4.67.1)\n",
            "Requirement already satisfied: soupsieve>1.2 in /usr/local/lib/python3.10/dist-packages (from beautifulsoup4->gdown) (2.6)\n",
            "Requirement already satisfied: charset-normalizer<4,>=2 in /usr/local/lib/python3.10/dist-packages (from requests[socks]->gdown) (3.4.0)\n",
            "Requirement already satisfied: idna<4,>=2.5 in /usr/local/lib/python3.10/dist-packages (from requests[socks]->gdown) (3.10)\n",
            "Requirement already satisfied: urllib3<3,>=1.21.1 in /usr/local/lib/python3.10/dist-packages (from requests[socks]->gdown) (2.2.3)\n",
            "Requirement already satisfied: certifi>=2017.4.17 in /usr/local/lib/python3.10/dist-packages (from requests[socks]->gdown) (2024.12.14)\n",
            "Requirement already satisfied: PySocks!=1.5.7,>=1.5.6 in /usr/local/lib/python3.10/dist-packages (from requests[socks]->gdown) (1.7.1)\n"
          ]
        }
      ],
      "execution_count": null
    },
    {
      "cell_type": "code",
      "source": [
        "! rm -rf video.mp4"
      ],
      "metadata": {
        "trusted": true,
        "execution": {
          "iopub.status.busy": "2024-12-24T10:21:30.192683Z",
          "iopub.execute_input": "2024-12-24T10:21:30.192991Z",
          "iopub.status.idle": "2024-12-24T10:21:30.309118Z",
          "shell.execute_reply.started": "2024-12-24T10:21:30.192969Z",
          "shell.execute_reply": "2024-12-24T10:21:30.308005Z"
        },
        "id": "cxgtSS_xFmZ1"
      },
      "outputs": [],
      "execution_count": null
    },
    {
      "cell_type": "markdown",
      "source": [
        "### Download the source video"
      ],
      "metadata": {
        "id": "mCRoYmwMFmZ2"
      }
    },
    {
      "cell_type": "code",
      "source": [
        "import gdown\n",
        "\n",
        "# Update with your file's specific ID\n",
        "file_id = \"1NNhyO_PUrfy3dVat_BmlYaBSDCLIzo2Q\"\n",
        "url = f\"https://drive.google.com/uc?id={file_id}\"\n",
        "\n",
        "output = \"vehicle-counting.mp4\"\n",
        "gdown.download(url, output, quiet=False)"
      ],
      "metadata": {
        "trusted": true,
        "execution": {
          "iopub.status.busy": "2024-12-24T10:21:30.310780Z",
          "iopub.execute_input": "2024-12-24T10:21:30.311172Z",
          "iopub.status.idle": "2024-12-24T10:21:35.445350Z",
          "shell.execute_reply.started": "2024-12-24T10:21:30.311141Z",
          "shell.execute_reply": "2024-12-24T10:21:35.444387Z"
        },
        "colab": {
          "base_uri": "https://localhost:8080/",
          "height": 105
        },
        "id": "-wr92eq1FmZ2",
        "outputId": "6b07c7c9-eb9e-49f7-fc55-129d26961dcf"
      },
      "outputs": [
        {
          "output_type": "stream",
          "name": "stderr",
          "text": [
            "Downloading...\n",
            "From: https://drive.google.com/uc?id=1NNhyO_PUrfy3dVat_BmlYaBSDCLIzo2Q\n",
            "To: /content/vehicle-counting.mp4\n",
            "100%|██████████| 35.3M/35.3M [00:00<00:00, 61.8MB/s]\n"
          ]
        },
        {
          "output_type": "execute_result",
          "data": {
            "text/plain": [
              "'vehicle-counting.mp4'"
            ],
            "application/vnd.google.colaboratory.intrinsic+json": {
              "type": "string"
            }
          },
          "metadata": {},
          "execution_count": 6
        }
      ],
      "execution_count": null
    },
    {
      "cell_type": "code",
      "source": [
        "import os\n",
        "HOME = os.getcwd()\n",
        "print(HOME)"
      ],
      "metadata": {
        "trusted": true,
        "execution": {
          "iopub.status.busy": "2024-12-24T10:21:35.446204Z",
          "iopub.execute_input": "2024-12-24T10:21:35.446715Z",
          "iopub.status.idle": "2024-12-24T10:21:35.451192Z",
          "shell.execute_reply.started": "2024-12-24T10:21:35.446687Z",
          "shell.execute_reply": "2024-12-24T10:21:35.450466Z"
        },
        "colab": {
          "base_uri": "https://localhost:8080/"
        },
        "id": "nAdUj6XsFmZ3",
        "outputId": "5fd8e8c3-258d-41ca-b252-a537c1d564dd"
      },
      "outputs": [
        {
          "output_type": "stream",
          "name": "stdout",
          "text": [
            "/content\n"
          ]
        }
      ],
      "execution_count": null
    },
    {
      "cell_type": "code",
      "source": [
        "SOURCE_VIDEO_PATH = \"/content/vehicle-counting.mp4\""
      ],
      "metadata": {
        "trusted": true,
        "execution": {
          "iopub.status.busy": "2024-12-24T10:21:35.452013Z",
          "iopub.execute_input": "2024-12-24T10:21:35.452239Z",
          "iopub.status.idle": "2024-12-24T10:21:35.464062Z",
          "shell.execute_reply.started": "2024-12-24T10:21:35.452219Z",
          "shell.execute_reply": "2024-12-24T10:21:35.463337Z"
        },
        "id": "6MlRSajZFmZ4"
      },
      "outputs": [],
      "execution_count": null
    },
    {
      "cell_type": "markdown",
      "source": [
        "## Install YOLOv8"
      ],
      "metadata": {
        "id": "AMCZS3JSFmZ5"
      }
    },
    {
      "cell_type": "code",
      "source": [
        "# Pip install method (recommended)\n",
        "\n",
        "!pip install \"ultralytics<=8.3.40\"\n",
        "\n",
        "from IPython import display\n",
        "display.clear_output()\n",
        "\n",
        "import ultralytics\n",
        "ultralytics.checks()"
      ],
      "metadata": {
        "trusted": true,
        "execution": {
          "iopub.status.busy": "2024-12-24T10:21:35.464885Z",
          "iopub.execute_input": "2024-12-24T10:21:35.465218Z",
          "iopub.status.idle": "2024-12-24T10:21:43.569340Z",
          "shell.execute_reply.started": "2024-12-24T10:21:35.465181Z",
          "shell.execute_reply": "2024-12-24T10:21:43.568683Z"
        },
        "colab": {
          "base_uri": "https://localhost:8080/"
        },
        "id": "9LUpvLayFmZ5",
        "outputId": "112cfcfa-6850-470d-b450-e95c2ceaa6fa"
      },
      "outputs": [
        {
          "output_type": "stream",
          "name": "stdout",
          "text": [
            "Ultralytics 8.3.40 🚀 Python-3.10.12 torch-2.5.1+cu121 CPU (Intel Xeon 2.20GHz)\n",
            "Setup complete ✅ (2 CPUs, 12.7 GB RAM, 32.7/107.7 GB disk)\n"
          ]
        }
      ],
      "execution_count": null
    },
    {
      "cell_type": "code",
      "source": [
        "# settings\n",
        "MODEL = \"yolov8x.pt\""
      ],
      "metadata": {
        "trusted": true,
        "execution": {
          "iopub.status.busy": "2024-12-24T10:21:43.570213Z",
          "iopub.execute_input": "2024-12-24T10:21:43.570674Z",
          "iopub.status.idle": "2024-12-24T10:21:43.574128Z",
          "shell.execute_reply.started": "2024-12-24T10:21:43.570650Z",
          "shell.execute_reply": "2024-12-24T10:21:43.573352Z"
        },
        "id": "NYWNSLqNFmZ6"
      },
      "outputs": [],
      "execution_count": null
    },
    {
      "cell_type": "code",
      "source": [
        "from ultralytics import YOLO\n",
        "\n",
        "model = YOLO(MODEL)\n",
        "model.fuse()"
      ],
      "metadata": {
        "trusted": true,
        "execution": {
          "iopub.status.busy": "2024-12-24T10:21:43.576103Z",
          "iopub.execute_input": "2024-12-24T10:21:43.576334Z",
          "iopub.status.idle": "2024-12-24T10:21:46.359902Z",
          "shell.execute_reply.started": "2024-12-24T10:21:43.576315Z",
          "shell.execute_reply": "2024-12-24T10:21:46.359167Z"
        },
        "colab": {
          "base_uri": "https://localhost:8080/"
        },
        "id": "-ETlFJR6FmZ6",
        "outputId": "e12c41a5-481e-45ed-bdda-a60e7f2d0ea6"
      },
      "outputs": [
        {
          "output_type": "stream",
          "name": "stdout",
          "text": [
            "Downloading https://github.com/ultralytics/assets/releases/download/v8.3.0/yolov8x.pt to 'yolov8x.pt'...\n"
          ]
        },
        {
          "output_type": "stream",
          "name": "stderr",
          "text": [
            "100%|██████████| 131M/131M [00:01<00:00, 113MB/s]\n"
          ]
        },
        {
          "output_type": "stream",
          "name": "stdout",
          "text": [
            "YOLOv8x summary (fused): 268 layers, 68,200,608 parameters, 0 gradients, 257.8 GFLOPs\n"
          ]
        }
      ],
      "execution_count": null
    },
    {
      "cell_type": "code",
      "source": [
        "!pip install supervision==0.3.0"
      ],
      "metadata": {
        "trusted": true,
        "execution": {
          "iopub.status.busy": "2024-12-24T10:21:46.361043Z",
          "iopub.execute_input": "2024-12-24T10:21:46.361459Z",
          "iopub.status.idle": "2024-12-24T10:21:49.868013Z",
          "shell.execute_reply.started": "2024-12-24T10:21:46.361422Z",
          "shell.execute_reply": "2024-12-24T10:21:49.867101Z"
        },
        "colab": {
          "base_uri": "https://localhost:8080/"
        },
        "id": "y9zlS0_PFmZ7",
        "outputId": "000ef93c-d3cc-4648-c2cd-9e2ad914c243"
      },
      "outputs": [
        {
          "output_type": "stream",
          "name": "stdout",
          "text": [
            "Collecting supervision==0.3.0\n",
            "  Downloading supervision-0.3.0-py3-none-any.whl.metadata (6.4 kB)\n",
            "Requirement already satisfied: numpy>=1.20.0 in /usr/local/lib/python3.10/dist-packages (from supervision==0.3.0) (1.26.4)\n",
            "Requirement already satisfied: opencv-python in /usr/local/lib/python3.10/dist-packages (from supervision==0.3.0) (4.10.0.84)\n",
            "Requirement already satisfied: matplotlib in /usr/local/lib/python3.10/dist-packages (from supervision==0.3.0) (3.8.0)\n",
            "Requirement already satisfied: contourpy>=1.0.1 in /usr/local/lib/python3.10/dist-packages (from matplotlib->supervision==0.3.0) (1.3.1)\n",
            "Requirement already satisfied: cycler>=0.10 in /usr/local/lib/python3.10/dist-packages (from matplotlib->supervision==0.3.0) (0.12.1)\n",
            "Requirement already satisfied: fonttools>=4.22.0 in /usr/local/lib/python3.10/dist-packages (from matplotlib->supervision==0.3.0) (4.55.3)\n",
            "Requirement already satisfied: kiwisolver>=1.0.1 in /usr/local/lib/python3.10/dist-packages (from matplotlib->supervision==0.3.0) (1.4.7)\n",
            "Requirement already satisfied: packaging>=20.0 in /usr/local/lib/python3.10/dist-packages (from matplotlib->supervision==0.3.0) (24.2)\n",
            "Requirement already satisfied: pillow>=6.2.0 in /usr/local/lib/python3.10/dist-packages (from matplotlib->supervision==0.3.0) (11.0.0)\n",
            "Requirement already satisfied: pyparsing>=2.3.1 in /usr/local/lib/python3.10/dist-packages (from matplotlib->supervision==0.3.0) (3.2.0)\n",
            "Requirement already satisfied: python-dateutil>=2.7 in /usr/local/lib/python3.10/dist-packages (from matplotlib->supervision==0.3.0) (2.8.2)\n",
            "Requirement already satisfied: six>=1.5 in /usr/local/lib/python3.10/dist-packages (from python-dateutil>=2.7->matplotlib->supervision==0.3.0) (1.17.0)\n",
            "Downloading supervision-0.3.0-py3-none-any.whl (21 kB)\n",
            "Installing collected packages: supervision\n",
            "  Attempting uninstall: supervision\n",
            "    Found existing installation: supervision 0.25.1\n",
            "    Uninstalling supervision-0.25.1:\n",
            "      Successfully uninstalled supervision-0.25.1\n",
            "Successfully installed supervision-0.3.0\n"
          ]
        }
      ],
      "execution_count": null
    },
    {
      "cell_type": "markdown",
      "source": [
        "## Tracking with ByteTrack"
      ],
      "metadata": {
        "id": "FmmwlwjPFmZ7"
      }
    },
    {
      "cell_type": "code",
      "source": [
        "!pip install supervision\n"
      ],
      "metadata": {
        "id": "sj4u3_p-ubDe",
        "colab": {
          "base_uri": "https://localhost:8080/"
        },
        "outputId": "4f48a4a6-6e6b-4578-e43a-8c42b9871a8f"
      },
      "execution_count": null,
      "outputs": [
        {
          "output_type": "stream",
          "name": "stdout",
          "text": [
            "Requirement already satisfied: supervision in /usr/local/lib/python3.10/dist-packages (0.3.0)\n",
            "Requirement already satisfied: numpy>=1.20.0 in /usr/local/lib/python3.10/dist-packages (from supervision) (1.26.4)\n",
            "Requirement already satisfied: opencv-python in /usr/local/lib/python3.10/dist-packages (from supervision) (4.10.0.84)\n",
            "Requirement already satisfied: matplotlib in /usr/local/lib/python3.10/dist-packages (from supervision) (3.8.0)\n",
            "Requirement already satisfied: contourpy>=1.0.1 in /usr/local/lib/python3.10/dist-packages (from matplotlib->supervision) (1.3.1)\n",
            "Requirement already satisfied: cycler>=0.10 in /usr/local/lib/python3.10/dist-packages (from matplotlib->supervision) (0.12.1)\n",
            "Requirement already satisfied: fonttools>=4.22.0 in /usr/local/lib/python3.10/dist-packages (from matplotlib->supervision) (4.55.3)\n",
            "Requirement already satisfied: kiwisolver>=1.0.1 in /usr/local/lib/python3.10/dist-packages (from matplotlib->supervision) (1.4.7)\n",
            "Requirement already satisfied: packaging>=20.0 in /usr/local/lib/python3.10/dist-packages (from matplotlib->supervision) (24.2)\n",
            "Requirement already satisfied: pillow>=6.2.0 in /usr/local/lib/python3.10/dist-packages (from matplotlib->supervision) (11.0.0)\n",
            "Requirement already satisfied: pyparsing>=2.3.1 in /usr/local/lib/python3.10/dist-packages (from matplotlib->supervision) (3.2.0)\n",
            "Requirement already satisfied: python-dateutil>=2.7 in /usr/local/lib/python3.10/dist-packages (from matplotlib->supervision) (2.8.2)\n",
            "Requirement already satisfied: six>=1.5 in /usr/local/lib/python3.10/dist-packages (from python-dateutil>=2.7->matplotlib->supervision) (1.17.0)\n"
          ]
        }
      ]
    },
    {
      "cell_type": "code",
      "source": [
        "SCALE_FACTOR = 0.05\n",
        "FPS = 30\n",
        "VEHICLE_POSITIONS = {}\n"
      ],
      "metadata": {
        "id": "JjqMzaj3JGX6"
      },
      "execution_count": null,
      "outputs": []
    },
    {
      "cell_type": "code",
      "source": [
        "import supervision as sv\n",
        "from ultralytics import YOLO\n",
        "import os\n",
        "import json\n",
        "import cv2  # OpenCV for image saving\n",
        "import numpy as np\n",
        "\n",
        "# Function to check if a point is inside a polygon\n",
        "def is_in_target_polygon(center_x, center_y, polygon):\n",
        "    point = (center_x, center_y)\n",
        "    # Use OpenCV's pointPolygonTest (returns 1 if inside, 0 on edge, -1 if outside)\n",
        "    return cv2.pointPolygonTest(np.array(polygon, dtype=np.int32), point, False) >= 0\n",
        "\n",
        "# Perspective transformation: SOURCE and TARGET\n",
        "SOURCE = np.array([\n",
        "    [1252, 787],\n",
        "    [2298, 803],\n",
        "    [5039, 2159],\n",
        "    [-550, 2159]\n",
        "])\n",
        "\n",
        "TARGET_WIDTH = 25\n",
        "TARGET_HEIGHT = 250\n",
        "\n",
        "TARGET = np.array([\n",
        "    [0, 0],\n",
        "    [TARGET_WIDTH - 1, 0],\n",
        "    [TARGET_WIDTH - 1, TARGET_HEIGHT - 1],\n",
        "    [0, TARGET_HEIGHT - 1],\n",
        "])\n",
        "\n",
        "# Compute perspective transformation matrix\n",
        "perspective_transform = cv2.getPerspectiveTransform(SOURCE.astype(np.float32), TARGET.astype(np.float32))\n",
        "\n",
        "TARGET_VIDEO_PATH = 'output_video.mp4'\n",
        "FRAME_SAVE_DIR = 'frames/'\n",
        "FRAME_DATA_PATH = 'frame_data.json'\n",
        "\n",
        "# Initialize box annotator for drawing bounding boxes\n",
        "box_annotator = sv.BoxAnnotator(\n",
        "    thickness=4,\n",
        "    text_thickness=4,\n",
        "    text_scale=2\n",
        ")\n",
        "\n",
        "# Constants for speed calculation\n",
        "SCALE_FACTOR = 0.05  # Conversion factor from pixels/frame to real-world speed - km/h\n",
        "FPS = 30\n",
        "VEHICLE_POSITIONS = {}\n",
        "\n",
        "# Open video info and frame generator\n",
        "video_info = sv.VideoInfo.from_video_path(SOURCE_VIDEO_PATH)\n",
        "generator = sv.video.get_video_frames_generator(SOURCE_VIDEO_PATH)\n",
        "\n",
        "# Initialize sequential ID mapping\n",
        "id_counter = 1\n",
        "id_map = {}\n",
        "frame_data_list = []\n",
        "\n",
        "# Create directory for saving frames\n",
        "os.makedirs(FRAME_SAVE_DIR, exist_ok=True)\n",
        "\n",
        "with sv.VideoSink(TARGET_VIDEO_PATH, video_info) as sink:\n",
        "    # Iterate through each frame in the video and track objects\n",
        "    for frame_number, result in enumerate(\n",
        "        YOLO('yolov8s.pt').track(\n",
        "            source=SOURCE_VIDEO_PATH,\n",
        "            tracker='bytetrack.yaml',\n",
        "            show=False,\n",
        "            stream=True,\n",
        "            agnostic_nms=True,\n",
        "            persist=True\n",
        "        )\n",
        "    ):\n",
        "        # Extract frame and detections\n",
        "        frame = result.orig_img\n",
        "        detections = sv.Detections.from_yolov8(result)\n",
        "\n",
        "        # Handle object IDs (tracker IDs)\n",
        "        if result.boxes.id is not None:\n",
        "            for tracker_id in result.boxes.id.cpu().numpy().astype(int):\n",
        "                # Assign sequential ID if not already assigned\n",
        "                if tracker_id not in id_map:\n",
        "                    id_map[tracker_id] = id_counter\n",
        "                    id_counter += 1\n",
        "\n",
        "            # Update detections with new sequential IDs\n",
        "            detections.tracker_id = [id_map[tracker_id] for tracker_id in result.boxes.id.cpu().numpy().astype(int)]\n",
        "\n",
        "        # Define labels and calculate speed\n",
        "        labels = []\n",
        "        for bbox, confidence, class_id, tracker_id in detections:\n",
        "            tracker_id = int(tracker_id)\n",
        "            bbox = [float(coord) for coord in bbox]\n",
        "            center_x, center_y = (bbox[0] + bbox[2]) / 2, (bbox[1] + bbox[3]) / 2\n",
        "\n",
        "            # Always track ID but only process inside the polygon\n",
        "            if tracker_id not in VEHICLE_POSITIONS:\n",
        "                VEHICLE_POSITIONS[tracker_id] = (center_x, center_y, frame_number)\n",
        "\n",
        "            prev_x, prev_y, prev_frame = VEHICLE_POSITIONS[tracker_id]\n",
        "            displacement = np.sqrt((center_x - prev_x) ** 2 + (center_y - prev_y) ** 2)\n",
        "            time_elapsed = (frame_number - prev_frame) / FPS\n",
        "            speed = (displacement / time_elapsed) * SCALE_FACTOR if time_elapsed > 0 else 0\n",
        "\n",
        "            # Update the vehicle's position\n",
        "            VEHICLE_POSITIONS[tracker_id] = (center_x, center_y, frame_number)\n",
        "\n",
        "            # Only annotate if inside the polygon\n",
        "            if is_in_target_polygon(center_x, center_y, SOURCE):\n",
        "                # Add speed to the label\n",
        "                labels.append(f\"ID: {tracker_id} | Speed: {speed:.2f} km/h | {model.model.names[class_id]} {confidence:.2f}\")\n",
        "\n",
        "        # Annotate the frame\n",
        "        frame = box_annotator.annotate(scene=frame, detections=detections, labels=labels)\n",
        "\n",
        "        # Draw the source polygon\n",
        "        cv2.polylines(frame, [SOURCE.astype(np.int32)], isClosed=True, color=(0, 255, 0), thickness=2)\n",
        "\n",
        "        # Apply perspective transformation\n",
        "        warped_frame = cv2.warpPerspective(frame, perspective_transform, (TARGET_WIDTH, TARGET_HEIGHT))\n",
        "\n",
        "        # Save the current warped frame for visualization if needed\n",
        "        cv2.imwrite(f\"warped_frame_{frame_number:04d}.jpg\", warped_frame)\n",
        "\n",
        "        # Save current frame to disk\n",
        "        frame_path = os.path.join(FRAME_SAVE_DIR, f\"frame_{frame_number:04d}.jpg\")\n",
        "        cv2.imwrite(frame_path, cv2.cvtColor(frame, cv2.COLOR_RGB2BGR))\n",
        "\n",
        "        # Collect frame data for JSON\n",
        "        frame_data = {\n",
        "            \"frame_number\": frame_number,\n",
        "            \"detections\": [\n",
        "                {\n",
        "                    \"tracker_id\": int(tracker_id),\n",
        "                    \"class_id\": int(class_id),\n",
        "                    \"confidence\": float(confidence),\n",
        "                    \"bbox\": [float(coord) for coord in bbox],\n",
        "                    \"speed_kmh\": speed\n",
        "                }\n",
        "                for bbox, confidence, class_id, tracker_id in detections\n",
        "                if is_in_target_polygon(center_x, center_y, SOURCE)\n",
        "            ]\n",
        "        }\n",
        "        frame_data_list.append(frame_data)\n",
        "\n",
        "        # Write annotated frame to the output video\n",
        "        sink.write_frame(frame)\n",
        "\n",
        "    print(\"Vehicle tracking and speed estimation completed and output video saved.\")\n",
        "\n",
        "# Save frame data to a JSON file\n",
        "with open(FRAME_DATA_PATH, 'w') as json_file:\n",
        "    json.dump(frame_data_list, json_file, indent=4)\n",
        "\n",
        "print(f\"Frames saved to '{FRAME_SAVE_DIR}' and frame data saved to '{FRAME_DATA_PATH}'.\")\n"
      ],
      "metadata": {
        "trusted": true,
        "execution": {
          "iopub.status.busy": "2024-12-24T10:21:49.869119Z",
          "iopub.execute_input": "2024-12-24T10:21:49.869406Z",
          "iopub.status.idle": "2024-12-24T10:23:04.895289Z",
          "shell.execute_reply.started": "2024-12-24T10:21:49.869384Z",
          "shell.execute_reply": "2024-12-24T10:23:04.894422Z"
        },
        "colab": {
          "base_uri": "https://localhost:8080/"
        },
        "id": "3Ukd_IUtFmZ7",
        "outputId": "1db0e3af-d062-4178-d46b-e81ffd738ee8"
      },
      "outputs": [
        {
          "output_type": "stream",
          "name": "stdout",
          "text": [
            "\n",
            "video 1/1 (frame 1/538) /content/vehicle-counting.mp4: 384x640 4 cars, 1 truck, 391.1ms\n",
            "video 1/1 (frame 2/538) /content/vehicle-counting.mp4: 384x640 4 cars, 1 truck, 409.3ms\n",
            "video 1/1 (frame 3/538) /content/vehicle-counting.mp4: 384x640 4 cars, 1 truck, 409.4ms\n",
            "video 1/1 (frame 4/538) /content/vehicle-counting.mp4: 384x640 3 cars, 1 truck, 428.1ms\n",
            "video 1/1 (frame 5/538) /content/vehicle-counting.mp4: 384x640 3 cars, 1 bus, 398.6ms\n",
            "video 1/1 (frame 6/538) /content/vehicle-counting.mp4: 384x640 3 cars, 1 bus, 413.4ms\n",
            "video 1/1 (frame 7/538) /content/vehicle-counting.mp4: 384x640 3 cars, 1 truck, 413.8ms\n",
            "video 1/1 (frame 8/538) /content/vehicle-counting.mp4: 384x640 2 cars, 1 truck, 417.3ms\n",
            "video 1/1 (frame 9/538) /content/vehicle-counting.mp4: 384x640 3 cars, 1 truck, 401.2ms\n",
            "video 1/1 (frame 10/538) /content/vehicle-counting.mp4: 384x640 3 cars, 1 train, 1 truck, 389.3ms\n",
            "video 1/1 (frame 11/538) /content/vehicle-counting.mp4: 384x640 3 cars, 1 train, 1 truck, 484.8ms\n",
            "video 1/1 (frame 12/538) /content/vehicle-counting.mp4: 384x640 3 cars, 1 train, 1 truck, 398.1ms\n",
            "video 1/1 (frame 13/538) /content/vehicle-counting.mp4: 384x640 3 cars, 1 bus, 1 train, 623.3ms\n",
            "video 1/1 (frame 14/538) /content/vehicle-counting.mp4: 384x640 3 cars, 1 train, 1 truck, 622.3ms\n",
            "video 1/1 (frame 15/538) /content/vehicle-counting.mp4: 384x640 3 cars, 1 train, 1 truck, 651.9ms\n",
            "video 1/1 (frame 16/538) /content/vehicle-counting.mp4: 384x640 3 cars, 1 train, 1 truck, 664.5ms\n",
            "video 1/1 (frame 17/538) /content/vehicle-counting.mp4: 384x640 3 cars, 1 train, 1 truck, 490.0ms\n",
            "video 1/1 (frame 18/538) /content/vehicle-counting.mp4: 384x640 3 cars, 1 train, 1 truck, 390.2ms\n",
            "video 1/1 (frame 19/538) /content/vehicle-counting.mp4: 384x640 3 cars, 1 train, 1 truck, 411.2ms\n",
            "video 1/1 (frame 20/538) /content/vehicle-counting.mp4: 384x640 3 cars, 1 train, 1 truck, 407.8ms\n",
            "video 1/1 (frame 21/538) /content/vehicle-counting.mp4: 384x640 3 cars, 1 train, 1 truck, 407.6ms\n",
            "video 1/1 (frame 22/538) /content/vehicle-counting.mp4: 384x640 3 cars, 1 train, 1 truck, 400.6ms\n",
            "video 1/1 (frame 23/538) /content/vehicle-counting.mp4: 384x640 3 cars, 1 train, 1 truck, 407.1ms\n",
            "video 1/1 (frame 24/538) /content/vehicle-counting.mp4: 384x640 3 cars, 1 train, 1 truck, 405.1ms\n",
            "video 1/1 (frame 25/538) /content/vehicle-counting.mp4: 384x640 3 cars, 1 truck, 395.3ms\n",
            "video 1/1 (frame 26/538) /content/vehicle-counting.mp4: 384x640 3 cars, 1 truck, 404.3ms\n",
            "video 1/1 (frame 27/538) /content/vehicle-counting.mp4: 384x640 3 cars, 1 truck, 403.4ms\n",
            "video 1/1 (frame 28/538) /content/vehicle-counting.mp4: 384x640 3 cars, 1 truck, 476.5ms\n",
            "video 1/1 (frame 29/538) /content/vehicle-counting.mp4: 384x640 3 cars, 1 truck, 390.9ms\n",
            "video 1/1 (frame 30/538) /content/vehicle-counting.mp4: 384x640 3 cars, 1 truck, 396.3ms\n",
            "video 1/1 (frame 31/538) /content/vehicle-counting.mp4: 384x640 3 cars, 1 truck, 418.9ms\n",
            "video 1/1 (frame 32/538) /content/vehicle-counting.mp4: 384x640 3 cars, 1 truck, 404.1ms\n",
            "video 1/1 (frame 33/538) /content/vehicle-counting.mp4: 384x640 3 cars, 1 truck, 414.0ms\n",
            "video 1/1 (frame 34/538) /content/vehicle-counting.mp4: 384x640 3 cars, 1 truck, 409.3ms\n",
            "video 1/1 (frame 35/538) /content/vehicle-counting.mp4: 384x640 3 cars, 1 truck, 592.4ms\n",
            "video 1/1 (frame 36/538) /content/vehicle-counting.mp4: 384x640 3 cars, 1 truck, 630.4ms\n",
            "video 1/1 (frame 37/538) /content/vehicle-counting.mp4: 384x640 4 cars, 1 truck, 603.7ms\n",
            "video 1/1 (frame 38/538) /content/vehicle-counting.mp4: 384x640 4 cars, 1 truck, 623.7ms\n",
            "video 1/1 (frame 39/538) /content/vehicle-counting.mp4: 384x640 4 cars, 1 truck, 626.1ms\n",
            "video 1/1 (frame 40/538) /content/vehicle-counting.mp4: 384x640 4 cars, 1 truck, 413.8ms\n",
            "video 1/1 (frame 41/538) /content/vehicle-counting.mp4: 384x640 4 cars, 1 truck, 389.9ms\n",
            "video 1/1 (frame 42/538) /content/vehicle-counting.mp4: 384x640 4 cars, 1 truck, 408.9ms\n",
            "video 1/1 (frame 43/538) /content/vehicle-counting.mp4: 384x640 4 cars, 1 truck, 411.5ms\n",
            "video 1/1 (frame 44/538) /content/vehicle-counting.mp4: 384x640 4 cars, 1 truck, 420.3ms\n",
            "video 1/1 (frame 45/538) /content/vehicle-counting.mp4: 384x640 4 cars, 1 truck, 464.7ms\n",
            "video 1/1 (frame 46/538) /content/vehicle-counting.mp4: 384x640 4 cars, 1 truck, 392.5ms\n",
            "video 1/1 (frame 47/538) /content/vehicle-counting.mp4: 384x640 4 cars, 1 truck, 411.2ms\n",
            "video 1/1 (frame 48/538) /content/vehicle-counting.mp4: 384x640 5 cars, 1 truck, 396.6ms\n",
            "video 1/1 (frame 49/538) /content/vehicle-counting.mp4: 384x640 5 cars, 1 truck, 433.8ms\n",
            "video 1/1 (frame 50/538) /content/vehicle-counting.mp4: 384x640 5 cars, 1 truck, 398.3ms\n",
            "video 1/1 (frame 51/538) /content/vehicle-counting.mp4: 384x640 5 cars, 1 truck, 409.4ms\n",
            "video 1/1 (frame 52/538) /content/vehicle-counting.mp4: 384x640 5 cars, 1 truck, 402.6ms\n",
            "video 1/1 (frame 53/538) /content/vehicle-counting.mp4: 384x640 5 cars, 1 truck, 427.4ms\n",
            "video 1/1 (frame 54/538) /content/vehicle-counting.mp4: 384x640 5 cars, 1 truck, 397.5ms\n",
            "video 1/1 (frame 55/538) /content/vehicle-counting.mp4: 384x640 5 cars, 1 truck, 418.2ms\n",
            "video 1/1 (frame 56/538) /content/vehicle-counting.mp4: 384x640 4 cars, 1 truck, 415.3ms\n",
            "video 1/1 (frame 57/538) /content/vehicle-counting.mp4: 384x640 4 cars, 1 truck, 567.6ms\n",
            "video 1/1 (frame 58/538) /content/vehicle-counting.mp4: 384x640 4 cars, 1 truck, 653.1ms\n",
            "video 1/1 (frame 59/538) /content/vehicle-counting.mp4: 384x640 3 cars, 2 trucks, 705.7ms\n",
            "video 1/1 (frame 60/538) /content/vehicle-counting.mp4: 384x640 4 cars, 1 truck, 684.9ms\n",
            "video 1/1 (frame 61/538) /content/vehicle-counting.mp4: 384x640 4 cars, 1 truck, 671.2ms\n",
            "video 1/1 (frame 62/538) /content/vehicle-counting.mp4: 384x640 3 cars, 2 trucks, 409.4ms\n",
            "video 1/1 (frame 63/538) /content/vehicle-counting.mp4: 384x640 4 cars, 1 truck, 418.3ms\n",
            "video 1/1 (frame 64/538) /content/vehicle-counting.mp4: 384x640 3 cars, 1 truck, 409.7ms\n",
            "video 1/1 (frame 65/538) /content/vehicle-counting.mp4: 384x640 3 cars, 1 truck, 412.0ms\n",
            "video 1/1 (frame 66/538) /content/vehicle-counting.mp4: 384x640 4 cars, 1 truck, 407.9ms\n",
            "video 1/1 (frame 67/538) /content/vehicle-counting.mp4: 384x640 4 cars, 1 truck, 416.9ms\n",
            "video 1/1 (frame 68/538) /content/vehicle-counting.mp4: 384x640 4 cars, 1 truck, 411.6ms\n",
            "video 1/1 (frame 69/538) /content/vehicle-counting.mp4: 384x640 4 cars, 1 truck, 407.7ms\n",
            "video 1/1 (frame 70/538) /content/vehicle-counting.mp4: 384x640 4 cars, 1 truck, 395.1ms\n",
            "video 1/1 (frame 71/538) /content/vehicle-counting.mp4: 384x640 4 cars, 1 truck, 431.7ms\n",
            "video 1/1 (frame 72/538) /content/vehicle-counting.mp4: 384x640 3 cars, 1 truck, 414.5ms\n",
            "video 1/1 (frame 73/538) /content/vehicle-counting.mp4: 384x640 3 cars, 1 truck, 400.2ms\n",
            "video 1/1 (frame 74/538) /content/vehicle-counting.mp4: 384x640 3 cars, 1 truck, 400.3ms\n",
            "video 1/1 (frame 75/538) /content/vehicle-counting.mp4: 384x640 3 cars, 1 truck, 410.1ms\n",
            "video 1/1 (frame 76/538) /content/vehicle-counting.mp4: 384x640 3 cars, 1 truck, 412.7ms\n",
            "video 1/1 (frame 77/538) /content/vehicle-counting.mp4: 384x640 3 cars, 1 truck, 390.2ms\n",
            "video 1/1 (frame 78/538) /content/vehicle-counting.mp4: 384x640 3 cars, 1 truck, 407.6ms\n",
            "video 1/1 (frame 79/538) /content/vehicle-counting.mp4: 384x640 3 cars, 1 truck, 550.8ms\n",
            "video 1/1 (frame 80/538) /content/vehicle-counting.mp4: 384x640 3 cars, 1 truck, 615.9ms\n",
            "video 1/1 (frame 81/538) /content/vehicle-counting.mp4: 384x640 3 cars, 1 truck, 631.1ms\n",
            "video 1/1 (frame 82/538) /content/vehicle-counting.mp4: 384x640 3 cars, 640.7ms\n",
            "video 1/1 (frame 83/538) /content/vehicle-counting.mp4: 384x640 3 cars, 691.7ms\n",
            "video 1/1 (frame 84/538) /content/vehicle-counting.mp4: 384x640 3 cars, 395.6ms\n",
            "video 1/1 (frame 85/538) /content/vehicle-counting.mp4: 384x640 3 cars, 412.7ms\n",
            "video 1/1 (frame 86/538) /content/vehicle-counting.mp4: 384x640 3 cars, 391.1ms\n",
            "video 1/1 (frame 87/538) /content/vehicle-counting.mp4: 384x640 3 cars, 428.8ms\n",
            "video 1/1 (frame 88/538) /content/vehicle-counting.mp4: 384x640 3 cars, 419.8ms\n",
            "video 1/1 (frame 89/538) /content/vehicle-counting.mp4: 384x640 3 cars, 414.8ms\n",
            "video 1/1 (frame 90/538) /content/vehicle-counting.mp4: 384x640 3 cars, 1 truck, 403.0ms\n",
            "video 1/1 (frame 91/538) /content/vehicle-counting.mp4: 384x640 3 cars, 1 truck, 437.9ms\n",
            "video 1/1 (frame 92/538) /content/vehicle-counting.mp4: 384x640 3 cars, 1 truck, 414.5ms\n",
            "video 1/1 (frame 93/538) /content/vehicle-counting.mp4: 384x640 3 cars, 1 truck, 396.3ms\n",
            "video 1/1 (frame 94/538) /content/vehicle-counting.mp4: 384x640 3 cars, 1 truck, 398.8ms\n",
            "video 1/1 (frame 95/538) /content/vehicle-counting.mp4: 384x640 3 cars, 1 truck, 405.1ms\n",
            "video 1/1 (frame 96/538) /content/vehicle-counting.mp4: 384x640 3 cars, 1 truck, 417.8ms\n",
            "video 1/1 (frame 97/538) /content/vehicle-counting.mp4: 384x640 3 cars, 1 truck, 394.4ms\n",
            "video 1/1 (frame 98/538) /content/vehicle-counting.mp4: 384x640 3 cars, 1 truck, 399.2ms\n",
            "video 1/1 (frame 99/538) /content/vehicle-counting.mp4: 384x640 3 cars, 1 truck, 433.6ms\n",
            "video 1/1 (frame 100/538) /content/vehicle-counting.mp4: 384x640 3 cars, 1 truck, 410.5ms\n",
            "video 1/1 (frame 101/538) /content/vehicle-counting.mp4: 384x640 3 cars, 1 truck, 425.4ms\n",
            "video 1/1 (frame 102/538) /content/vehicle-counting.mp4: 384x640 3 cars, 1 truck, 653.0ms\n",
            "video 1/1 (frame 103/538) /content/vehicle-counting.mp4: 384x640 3 cars, 1 truck, 648.9ms\n",
            "video 1/1 (frame 104/538) /content/vehicle-counting.mp4: 384x640 3 cars, 1 truck, 635.4ms\n",
            "video 1/1 (frame 105/538) /content/vehicle-counting.mp4: 384x640 4 cars, 1 truck, 652.1ms\n",
            "video 1/1 (frame 106/538) /content/vehicle-counting.mp4: 384x640 4 cars, 1 truck, 428.9ms\n",
            "video 1/1 (frame 107/538) /content/vehicle-counting.mp4: 384x640 4 cars, 1 truck, 425.2ms\n",
            "video 1/1 (frame 108/538) /content/vehicle-counting.mp4: 384x640 4 cars, 1 truck, 409.3ms\n",
            "video 1/1 (frame 109/538) /content/vehicle-counting.mp4: 384x640 4 cars, 1 truck, 422.0ms\n",
            "video 1/1 (frame 110/538) /content/vehicle-counting.mp4: 384x640 4 cars, 1 truck, 404.8ms\n",
            "video 1/1 (frame 111/538) /content/vehicle-counting.mp4: 384x640 4 cars, 1 truck, 424.0ms\n",
            "video 1/1 (frame 112/538) /content/vehicle-counting.mp4: 384x640 4 cars, 1 truck, 413.0ms\n",
            "video 1/1 (frame 113/538) /content/vehicle-counting.mp4: 384x640 4 cars, 1 truck, 397.6ms\n",
            "video 1/1 (frame 114/538) /content/vehicle-counting.mp4: 384x640 4 cars, 1 truck, 412.8ms\n",
            "video 1/1 (frame 115/538) /content/vehicle-counting.mp4: 384x640 4 cars, 1 truck, 411.8ms\n",
            "video 1/1 (frame 116/538) /content/vehicle-counting.mp4: 384x640 4 cars, 1 truck, 414.6ms\n",
            "video 1/1 (frame 117/538) /content/vehicle-counting.mp4: 384x640 4 cars, 1 truck, 388.5ms\n",
            "video 1/1 (frame 118/538) /content/vehicle-counting.mp4: 384x640 4 cars, 1 truck, 408.5ms\n",
            "video 1/1 (frame 119/538) /content/vehicle-counting.mp4: 384x640 4 cars, 1 truck, 409.1ms\n",
            "video 1/1 (frame 120/538) /content/vehicle-counting.mp4: 384x640 3 cars, 1 truck, 427.2ms\n",
            "video 1/1 (frame 121/538) /content/vehicle-counting.mp4: 384x640 3 cars, 1 truck, 403.6ms\n",
            "video 1/1 (frame 122/538) /content/vehicle-counting.mp4: 384x640 3 cars, 1 truck, 404.4ms\n",
            "video 1/1 (frame 123/538) /content/vehicle-counting.mp4: 384x640 4 cars, 1 truck, 409.1ms\n",
            "video 1/1 (frame 124/538) /content/vehicle-counting.mp4: 384x640 5 cars, 615.6ms\n",
            "video 1/1 (frame 125/538) /content/vehicle-counting.mp4: 384x640 5 cars, 640.6ms\n",
            "video 1/1 (frame 126/538) /content/vehicle-counting.mp4: 384x640 5 cars, 617.9ms\n",
            "video 1/1 (frame 127/538) /content/vehicle-counting.mp4: 384x640 5 cars, 703.5ms\n",
            "video 1/1 (frame 128/538) /content/vehicle-counting.mp4: 384x640 5 cars, 527.6ms\n",
            "video 1/1 (frame 129/538) /content/vehicle-counting.mp4: 384x640 5 cars, 407.1ms\n",
            "video 1/1 (frame 130/538) /content/vehicle-counting.mp4: 384x640 5 cars, 388.0ms\n",
            "video 1/1 (frame 131/538) /content/vehicle-counting.mp4: 384x640 5 cars, 400.8ms\n",
            "video 1/1 (frame 132/538) /content/vehicle-counting.mp4: 384x640 4 cars, 1 truck, 404.9ms\n",
            "video 1/1 (frame 133/538) /content/vehicle-counting.mp4: 384x640 4 cars, 1 truck, 397.2ms\n",
            "video 1/1 (frame 134/538) /content/vehicle-counting.mp4: 384x640 4 cars, 1 truck, 395.1ms\n",
            "video 1/1 (frame 135/538) /content/vehicle-counting.mp4: 384x640 4 cars, 1 truck, 400.3ms\n",
            "video 1/1 (frame 136/538) /content/vehicle-counting.mp4: 384x640 4 cars, 1 truck, 416.6ms\n",
            "video 1/1 (frame 137/538) /content/vehicle-counting.mp4: 384x640 4 cars, 1 truck, 391.6ms\n",
            "video 1/1 (frame 138/538) /content/vehicle-counting.mp4: 384x640 4 cars, 1 truck, 412.9ms\n",
            "video 1/1 (frame 139/538) /content/vehicle-counting.mp4: 384x640 4 cars, 1 truck, 416.7ms\n",
            "video 1/1 (frame 140/538) /content/vehicle-counting.mp4: 384x640 5 cars, 420.2ms\n",
            "video 1/1 (frame 141/538) /content/vehicle-counting.mp4: 384x640 5 cars, 396.3ms\n",
            "video 1/1 (frame 142/538) /content/vehicle-counting.mp4: 384x640 5 cars, 404.9ms\n",
            "video 1/1 (frame 143/538) /content/vehicle-counting.mp4: 384x640 5 cars, 411.6ms\n",
            "video 1/1 (frame 144/538) /content/vehicle-counting.mp4: 384x640 4 cars, 413.6ms\n",
            "video 1/1 (frame 145/538) /content/vehicle-counting.mp4: 384x640 4 cars, 397.7ms\n",
            "video 1/1 (frame 146/538) /content/vehicle-counting.mp4: 384x640 4 cars, 488.4ms\n",
            "video 1/1 (frame 147/538) /content/vehicle-counting.mp4: 384x640 4 cars, 1 truck, 665.2ms\n",
            "video 1/1 (frame 148/538) /content/vehicle-counting.mp4: 384x640 4 cars, 1 truck, 632.6ms\n",
            "video 1/1 (frame 149/538) /content/vehicle-counting.mp4: 384x640 4 cars, 1 truck, 639.9ms\n",
            "video 1/1 (frame 150/538) /content/vehicle-counting.mp4: 384x640 4 cars, 1 truck, 650.8ms\n",
            "video 1/1 (frame 151/538) /content/vehicle-counting.mp4: 384x640 4 cars, 1 truck, 425.8ms\n",
            "video 1/1 (frame 152/538) /content/vehicle-counting.mp4: 384x640 4 cars, 1 truck, 398.7ms\n",
            "video 1/1 (frame 153/538) /content/vehicle-counting.mp4: 384x640 5 cars, 1 truck, 399.5ms\n",
            "video 1/1 (frame 154/538) /content/vehicle-counting.mp4: 384x640 4 cars, 1 truck, 397.1ms\n",
            "video 1/1 (frame 155/538) /content/vehicle-counting.mp4: 384x640 5 cars, 1 truck, 416.1ms\n",
            "video 1/1 (frame 156/538) /content/vehicle-counting.mp4: 384x640 4 cars, 2 trucks, 430.9ms\n",
            "video 1/1 (frame 157/538) /content/vehicle-counting.mp4: 384x640 4 cars, 2 trucks, 398.2ms\n",
            "video 1/1 (frame 158/538) /content/vehicle-counting.mp4: 384x640 4 cars, 2 trucks, 402.5ms\n",
            "video 1/1 (frame 159/538) /content/vehicle-counting.mp4: 384x640 4 cars, 2 trucks, 407.4ms\n",
            "video 1/1 (frame 160/538) /content/vehicle-counting.mp4: 384x640 4 cars, 2 trucks, 415.6ms\n",
            "video 1/1 (frame 161/538) /content/vehicle-counting.mp4: 384x640 4 cars, 2 trucks, 398.2ms\n",
            "video 1/1 (frame 162/538) /content/vehicle-counting.mp4: 384x640 4 cars, 2 trucks, 409.8ms\n",
            "video 1/1 (frame 163/538) /content/vehicle-counting.mp4: 384x640 4 cars, 2 trucks, 405.6ms\n",
            "video 1/1 (frame 164/538) /content/vehicle-counting.mp4: 384x640 5 cars, 1 truck, 420.9ms\n",
            "video 1/1 (frame 165/538) /content/vehicle-counting.mp4: 384x640 5 cars, 1 truck, 385.7ms\n",
            "video 1/1 (frame 166/538) /content/vehicle-counting.mp4: 384x640 5 cars, 1 truck, 401.9ms\n",
            "video 1/1 (frame 167/538) /content/vehicle-counting.mp4: 384x640 5 cars, 402.5ms\n",
            "video 1/1 (frame 168/538) /content/vehicle-counting.mp4: 384x640 5 cars, 400.9ms\n",
            "video 1/1 (frame 169/538) /content/vehicle-counting.mp4: 384x640 4 cars, 1 truck, 630.0ms\n",
            "video 1/1 (frame 170/538) /content/vehicle-counting.mp4: 384x640 4 cars, 1 truck, 607.2ms\n",
            "video 1/1 (frame 171/538) /content/vehicle-counting.mp4: 384x640 5 cars, 639.8ms\n",
            "video 1/1 (frame 172/538) /content/vehicle-counting.mp4: 384x640 5 cars, 661.4ms\n",
            "video 1/1 (frame 173/538) /content/vehicle-counting.mp4: 384x640 5 cars, 463.1ms\n",
            "video 1/1 (frame 174/538) /content/vehicle-counting.mp4: 384x640 5 cars, 392.9ms\n",
            "video 1/1 (frame 175/538) /content/vehicle-counting.mp4: 384x640 5 cars, 434.1ms\n",
            "video 1/1 (frame 176/538) /content/vehicle-counting.mp4: 384x640 4 cars, 1 truck, 397.7ms\n",
            "video 1/1 (frame 177/538) /content/vehicle-counting.mp4: 384x640 4 cars, 1 truck, 396.1ms\n",
            "video 1/1 (frame 178/538) /content/vehicle-counting.mp4: 384x640 5 cars, 395.3ms\n",
            "video 1/1 (frame 179/538) /content/vehicle-counting.mp4: 384x640 5 cars, 400.7ms\n",
            "video 1/1 (frame 180/538) /content/vehicle-counting.mp4: 384x640 5 cars, 415.1ms\n",
            "video 1/1 (frame 181/538) /content/vehicle-counting.mp4: 384x640 4 cars, 1 truck, 394.6ms\n",
            "video 1/1 (frame 182/538) /content/vehicle-counting.mp4: 384x640 4 cars, 1 truck, 403.0ms\n",
            "video 1/1 (frame 183/538) /content/vehicle-counting.mp4: 384x640 4 cars, 1 truck, 408.3ms\n",
            "video 1/1 (frame 184/538) /content/vehicle-counting.mp4: 384x640 4 cars, 1 truck, 406.8ms\n",
            "video 1/1 (frame 185/538) /content/vehicle-counting.mp4: 384x640 4 cars, 1 truck, 396.2ms\n",
            "video 1/1 (frame 186/538) /content/vehicle-counting.mp4: 384x640 4 cars, 1 truck, 408.5ms\n",
            "video 1/1 (frame 187/538) /content/vehicle-counting.mp4: 384x640 4 cars, 1 truck, 415.0ms\n",
            "video 1/1 (frame 188/538) /content/vehicle-counting.mp4: 384x640 4 cars, 1 truck, 411.0ms\n",
            "video 1/1 (frame 189/538) /content/vehicle-counting.mp4: 384x640 5 cars, 393.6ms\n",
            "video 1/1 (frame 190/538) /content/vehicle-counting.mp4: 384x640 5 cars, 1 truck, 405.3ms\n",
            "video 1/1 (frame 191/538) /content/vehicle-counting.mp4: 384x640 5 cars, 1 truck, 546.5ms\n",
            "video 1/1 (frame 192/538) /content/vehicle-counting.mp4: 384x640 5 cars, 634.9ms\n",
            "video 1/1 (frame 193/538) /content/vehicle-counting.mp4: 384x640 4 cars, 1 truck, 619.3ms\n",
            "video 1/1 (frame 194/538) /content/vehicle-counting.mp4: 384x640 4 cars, 1 truck, 626.3ms\n",
            "video 1/1 (frame 195/538) /content/vehicle-counting.mp4: 384x640 3 cars, 1 truck, 685.3ms\n",
            "video 1/1 (frame 196/538) /content/vehicle-counting.mp4: 384x640 3 cars, 1 truck, 399.3ms\n",
            "video 1/1 (frame 197/538) /content/vehicle-counting.mp4: 384x640 3 cars, 1 truck, 410.6ms\n",
            "video 1/1 (frame 198/538) /content/vehicle-counting.mp4: 384x640 3 cars, 1 truck, 396.0ms\n",
            "video 1/1 (frame 199/538) /content/vehicle-counting.mp4: 384x640 3 cars, 1 truck, 440.7ms\n",
            "video 1/1 (frame 200/538) /content/vehicle-counting.mp4: 384x640 3 cars, 1 truck, 401.5ms\n",
            "video 1/1 (frame 201/538) /content/vehicle-counting.mp4: 384x640 3 cars, 1 truck, 386.5ms\n",
            "video 1/1 (frame 202/538) /content/vehicle-counting.mp4: 384x640 4 cars, 1 truck, 394.5ms\n",
            "video 1/1 (frame 203/538) /content/vehicle-counting.mp4: 384x640 4 cars, 1 truck, 402.7ms\n",
            "video 1/1 (frame 204/538) /content/vehicle-counting.mp4: 384x640 4 cars, 1 truck, 419.1ms\n",
            "video 1/1 (frame 205/538) /content/vehicle-counting.mp4: 384x640 3 cars, 1 truck, 395.0ms\n",
            "video 1/1 (frame 206/538) /content/vehicle-counting.mp4: 384x640 3 cars, 1 truck, 411.6ms\n",
            "video 1/1 (frame 207/538) /content/vehicle-counting.mp4: 384x640 3 cars, 1 truck, 406.4ms\n",
            "video 1/1 (frame 208/538) /content/vehicle-counting.mp4: 384x640 4 cars, 1 truck, 412.0ms\n",
            "video 1/1 (frame 209/538) /content/vehicle-counting.mp4: 384x640 4 cars, 1 truck, 398.2ms\n",
            "video 1/1 (frame 210/538) /content/vehicle-counting.mp4: 384x640 4 cars, 1 truck, 405.8ms\n",
            "video 1/1 (frame 211/538) /content/vehicle-counting.mp4: 384x640 3 cars, 418.9ms\n",
            "video 1/1 (frame 212/538) /content/vehicle-counting.mp4: 384x640 3 cars, 414.1ms\n",
            "video 1/1 (frame 213/538) /content/vehicle-counting.mp4: 384x640 3 cars, 392.3ms\n",
            "video 1/1 (frame 214/538) /content/vehicle-counting.mp4: 384x640 3 cars, 605.6ms\n",
            "video 1/1 (frame 215/538) /content/vehicle-counting.mp4: 384x640 3 cars, 661.1ms\n",
            "video 1/1 (frame 216/538) /content/vehicle-counting.mp4: 384x640 3 cars, 646.8ms\n",
            "video 1/1 (frame 217/538) /content/vehicle-counting.mp4: 384x640 3 cars, 1 truck, 655.8ms\n",
            "video 1/1 (frame 218/538) /content/vehicle-counting.mp4: 384x640 3 cars, 1 bus, 483.7ms\n",
            "video 1/1 (frame 219/538) /content/vehicle-counting.mp4: 384x640 3 cars, 1 bus, 425.9ms\n",
            "video 1/1 (frame 220/538) /content/vehicle-counting.mp4: 384x640 3 cars, 1 bus, 397.6ms\n",
            "video 1/1 (frame 221/538) /content/vehicle-counting.mp4: 384x640 3 cars, 1 bus, 408.6ms\n",
            "video 1/1 (frame 222/538) /content/vehicle-counting.mp4: 384x640 3 cars, 1 bus, 391.3ms\n",
            "video 1/1 (frame 223/538) /content/vehicle-counting.mp4: 384x640 3 cars, 1 bus, 419.4ms\n",
            "video 1/1 (frame 224/538) /content/vehicle-counting.mp4: 384x640 3 cars, 1 bus, 397.8ms\n",
            "video 1/1 (frame 225/538) /content/vehicle-counting.mp4: 384x640 3 cars, 1 bus, 404.1ms\n",
            "video 1/1 (frame 226/538) /content/vehicle-counting.mp4: 384x640 3 cars, 1 bus, 421.4ms\n",
            "video 1/1 (frame 227/538) /content/vehicle-counting.mp4: 384x640 3 cars, 1 bus, 423.6ms\n",
            "video 1/1 (frame 228/538) /content/vehicle-counting.mp4: 384x640 3 cars, 1 bus, 417.3ms\n",
            "video 1/1 (frame 229/538) /content/vehicle-counting.mp4: 384x640 3 cars, 1 truck, 413.4ms\n",
            "video 1/1 (frame 230/538) /content/vehicle-counting.mp4: 384x640 3 cars, 1 truck, 432.2ms\n",
            "video 1/1 (frame 231/538) /content/vehicle-counting.mp4: 384x640 3 cars, 1 truck, 407.3ms\n",
            "video 1/1 (frame 232/538) /content/vehicle-counting.mp4: 384x640 3 cars, 1 truck, 411.4ms\n",
            "video 1/1 (frame 233/538) /content/vehicle-counting.mp4: 384x640 3 cars, 1 truck, 411.8ms\n",
            "video 1/1 (frame 234/538) /content/vehicle-counting.mp4: 384x640 3 cars, 409.5ms\n",
            "video 1/1 (frame 235/538) /content/vehicle-counting.mp4: 384x640 3 cars, 394.5ms\n",
            "video 1/1 (frame 236/538) /content/vehicle-counting.mp4: 384x640 3 cars, 590.4ms\n",
            "video 1/1 (frame 237/538) /content/vehicle-counting.mp4: 384x640 3 cars, 676.1ms\n",
            "video 1/1 (frame 238/538) /content/vehicle-counting.mp4: 384x640 3 cars, 664.9ms\n",
            "video 1/1 (frame 239/538) /content/vehicle-counting.mp4: 384x640 3 cars, 670.4ms\n",
            "video 1/1 (frame 240/538) /content/vehicle-counting.mp4: 384x640 3 cars, 534.6ms\n",
            "video 1/1 (frame 241/538) /content/vehicle-counting.mp4: 384x640 3 cars, 422.1ms\n",
            "video 1/1 (frame 242/538) /content/vehicle-counting.mp4: 384x640 3 cars, 419.6ms\n",
            "video 1/1 (frame 243/538) /content/vehicle-counting.mp4: 384x640 3 cars, 431.4ms\n",
            "video 1/1 (frame 244/538) /content/vehicle-counting.mp4: 384x640 3 cars, 417.7ms\n",
            "video 1/1 (frame 245/538) /content/vehicle-counting.mp4: 384x640 3 cars, 409.4ms\n",
            "video 1/1 (frame 246/538) /content/vehicle-counting.mp4: 384x640 3 cars, 414.5ms\n",
            "video 1/1 (frame 247/538) /content/vehicle-counting.mp4: 384x640 3 cars, 401.4ms\n",
            "video 1/1 (frame 248/538) /content/vehicle-counting.mp4: 384x640 3 cars, 443.8ms\n",
            "video 1/1 (frame 249/538) /content/vehicle-counting.mp4: 384x640 3 cars, 424.7ms\n",
            "video 1/1 (frame 250/538) /content/vehicle-counting.mp4: 384x640 3 cars, 406.0ms\n",
            "video 1/1 (frame 251/538) /content/vehicle-counting.mp4: 384x640 3 cars, 394.2ms\n",
            "video 1/1 (frame 252/538) /content/vehicle-counting.mp4: 384x640 3 cars, 402.5ms\n",
            "video 1/1 (frame 253/538) /content/vehicle-counting.mp4: 384x640 3 cars, 419.3ms\n",
            "video 1/1 (frame 254/538) /content/vehicle-counting.mp4: 384x640 3 cars, 401.9ms\n",
            "video 1/1 (frame 255/538) /content/vehicle-counting.mp4: 384x640 3 cars, 403.3ms\n",
            "video 1/1 (frame 256/538) /content/vehicle-counting.mp4: 384x640 3 cars, 405.7ms\n",
            "video 1/1 (frame 257/538) /content/vehicle-counting.mp4: 384x640 3 cars, 427.7ms\n",
            "video 1/1 (frame 258/538) /content/vehicle-counting.mp4: 384x640 3 cars, 619.9ms\n",
            "video 1/1 (frame 259/538) /content/vehicle-counting.mp4: 384x640 2 cars, 624.5ms\n",
            "video 1/1 (frame 260/538) /content/vehicle-counting.mp4: 384x640 2 cars, 628.1ms\n",
            "video 1/1 (frame 261/538) /content/vehicle-counting.mp4: 384x640 2 cars, 696.1ms\n",
            "video 1/1 (frame 262/538) /content/vehicle-counting.mp4: 384x640 3 cars, 563.3ms\n",
            "video 1/1 (frame 263/538) /content/vehicle-counting.mp4: 384x640 3 cars, 397.8ms\n",
            "video 1/1 (frame 264/538) /content/vehicle-counting.mp4: 384x640 3 cars, 410.2ms\n",
            "video 1/1 (frame 265/538) /content/vehicle-counting.mp4: 384x640 3 cars, 410.2ms\n",
            "video 1/1 (frame 266/538) /content/vehicle-counting.mp4: 384x640 1 car, 411.5ms\n",
            "video 1/1 (frame 267/538) /content/vehicle-counting.mp4: 384x640 1 car, 395.4ms\n",
            "video 1/1 (frame 268/538) /content/vehicle-counting.mp4: 384x640 2 cars, 402.9ms\n",
            "video 1/1 (frame 269/538) /content/vehicle-counting.mp4: 384x640 2 cars, 404.2ms\n",
            "video 1/1 (frame 270/538) /content/vehicle-counting.mp4: 384x640 1 car, 1 truck, 407.3ms\n",
            "video 1/1 (frame 271/538) /content/vehicle-counting.mp4: 384x640 1 car, 1 bus, 392.4ms\n",
            "video 1/1 (frame 272/538) /content/vehicle-counting.mp4: 384x640 2 cars, 1 bus, 392.8ms\n",
            "video 1/1 (frame 273/538) /content/vehicle-counting.mp4: 384x640 2 cars, 1 bus, 445.4ms\n",
            "video 1/1 (frame 274/538) /content/vehicle-counting.mp4: 384x640 2 cars, 1 bus, 398.1ms\n",
            "video 1/1 (frame 275/538) /content/vehicle-counting.mp4: 384x640 1 car, 1 truck, 412.2ms\n",
            "video 1/1 (frame 276/538) /content/vehicle-counting.mp4: 384x640 1 car, 1 truck, 393.3ms\n",
            "video 1/1 (frame 277/538) /content/vehicle-counting.mp4: 384x640 1 car, 1 truck, 430.2ms\n",
            "video 1/1 (frame 278/538) /content/vehicle-counting.mp4: 384x640 1 car, 1 truck, 402.3ms\n",
            "video 1/1 (frame 279/538) /content/vehicle-counting.mp4: 384x640 1 car, 1 bus, 408.5ms\n",
            "video 1/1 (frame 280/538) /content/vehicle-counting.mp4: 384x640 1 car, 1 truck, 513.1ms\n",
            "video 1/1 (frame 281/538) /content/vehicle-counting.mp4: 384x640 1 car, 1 truck, 657.1ms\n",
            "video 1/1 (frame 282/538) /content/vehicle-counting.mp4: 384x640 1 car, 1 truck, 630.4ms\n",
            "video 1/1 (frame 283/538) /content/vehicle-counting.mp4: 384x640 1 car, 1 truck, 644.0ms\n",
            "video 1/1 (frame 284/538) /content/vehicle-counting.mp4: 384x640 1 car, 1 truck, 643.1ms\n",
            "video 1/1 (frame 285/538) /content/vehicle-counting.mp4: 384x640 1 car, 415.4ms\n",
            "video 1/1 (frame 286/538) /content/vehicle-counting.mp4: 384x640 1 car, 412.9ms\n",
            "video 1/1 (frame 287/538) /content/vehicle-counting.mp4: 384x640 1 car, 1 truck, 398.0ms\n",
            "video 1/1 (frame 288/538) /content/vehicle-counting.mp4: 384x640 1 car, 1 bus, 407.8ms\n",
            "video 1/1 (frame 289/538) /content/vehicle-counting.mp4: 384x640 1 car, 1 truck, 413.0ms\n",
            "video 1/1 (frame 290/538) /content/vehicle-counting.mp4: 384x640 1 car, 1 truck, 402.0ms\n",
            "video 1/1 (frame 291/538) /content/vehicle-counting.mp4: 384x640 1 car, 1 truck, 394.5ms\n",
            "video 1/1 (frame 292/538) /content/vehicle-counting.mp4: 384x640 1 car, 1 truck, 419.6ms\n",
            "video 1/1 (frame 293/538) /content/vehicle-counting.mp4: 384x640 1 car, 1 truck, 429.8ms\n",
            "video 1/1 (frame 294/538) /content/vehicle-counting.mp4: 384x640 1 car, 1 truck, 400.8ms\n",
            "video 1/1 (frame 295/538) /content/vehicle-counting.mp4: 384x640 1 car, 1 truck, 416.0ms\n",
            "video 1/1 (frame 296/538) /content/vehicle-counting.mp4: 384x640 1 car, 1 truck, 404.9ms\n",
            "video 1/1 (frame 297/538) /content/vehicle-counting.mp4: 384x640 1 car, 1 truck, 433.8ms\n",
            "video 1/1 (frame 298/538) /content/vehicle-counting.mp4: 384x640 1 car, 1 truck, 407.4ms\n",
            "video 1/1 (frame 299/538) /content/vehicle-counting.mp4: 384x640 1 car, 1 truck, 411.1ms\n",
            "video 1/1 (frame 300/538) /content/vehicle-counting.mp4: 384x640 1 car, 1 truck, 402.3ms\n",
            "video 1/1 (frame 301/538) /content/vehicle-counting.mp4: 384x640 1 car, 1 truck, 420.4ms\n",
            "video 1/1 (frame 302/538) /content/vehicle-counting.mp4: 384x640 1 car, 1 truck, 496.5ms\n",
            "video 1/1 (frame 303/538) /content/vehicle-counting.mp4: 384x640 1 car, 1 truck, 604.9ms\n",
            "video 1/1 (frame 304/538) /content/vehicle-counting.mp4: 384x640 1 car, 1 truck, 591.8ms\n",
            "video 1/1 (frame 305/538) /content/vehicle-counting.mp4: 384x640 1 car, 1 bus, 641.9ms\n",
            "video 1/1 (frame 306/538) /content/vehicle-counting.mp4: 384x640 1 car, 1 train, 1 truck, 682.5ms\n",
            "video 1/1 (frame 307/538) /content/vehicle-counting.mp4: 384x640 1 car, 1 train, 1 truck, 432.1ms\n",
            "video 1/1 (frame 308/538) /content/vehicle-counting.mp4: 384x640 2 cars, 1 train, 417.2ms\n",
            "video 1/1 (frame 309/538) /content/vehicle-counting.mp4: 384x640 1 car, 1 bus, 1 train, 413.1ms\n",
            "video 1/1 (frame 310/538) /content/vehicle-counting.mp4: 384x640 1 car, 1 bus, 1 train, 419.4ms\n",
            "video 1/1 (frame 311/538) /content/vehicle-counting.mp4: 384x640 1 car, 1 bus, 1 train, 412.4ms\n",
            "video 1/1 (frame 312/538) /content/vehicle-counting.mp4: 384x640 1 car, 1 train, 1 truck, 398.7ms\n",
            "video 1/1 (frame 313/538) /content/vehicle-counting.mp4: 384x640 1 car, 1 bus, 1 train, 419.8ms\n",
            "video 1/1 (frame 314/538) /content/vehicle-counting.mp4: 384x640 1 car, 1 bus, 1 train, 406.7ms\n",
            "video 1/1 (frame 315/538) /content/vehicle-counting.mp4: 384x640 1 car, 1 bus, 1 train, 397.9ms\n",
            "video 1/1 (frame 316/538) /content/vehicle-counting.mp4: 384x640 1 car, 1 train, 1 truck, 390.8ms\n",
            "video 1/1 (frame 317/538) /content/vehicle-counting.mp4: 384x640 1 car, 1 train, 1 truck, 421.5ms\n",
            "video 1/1 (frame 318/538) /content/vehicle-counting.mp4: 384x640 1 car, 1 train, 1 truck, 398.1ms\n",
            "video 1/1 (frame 319/538) /content/vehicle-counting.mp4: 384x640 1 car, 1 train, 1 truck, 403.4ms\n",
            "video 1/1 (frame 320/538) /content/vehicle-counting.mp4: 384x640 1 car, 1 train, 1 truck, 390.7ms\n",
            "video 1/1 (frame 321/538) /content/vehicle-counting.mp4: 384x640 1 car, 1 train, 1 truck, 428.5ms\n",
            "video 1/1 (frame 322/538) /content/vehicle-counting.mp4: 384x640 1 car, 1 bus, 1 train, 401.8ms\n",
            "video 1/1 (frame 323/538) /content/vehicle-counting.mp4: 384x640 1 car, 1 bus, 1 train, 402.2ms\n",
            "video 1/1 (frame 324/538) /content/vehicle-counting.mp4: 384x640 1 car, 1 train, 1 truck, 398.4ms\n",
            "video 1/1 (frame 325/538) /content/vehicle-counting.mp4: 384x640 1 car, 1 bus, 1 train, 571.0ms\n",
            "video 1/1 (frame 326/538) /content/vehicle-counting.mp4: 384x640 1 car, 1 bus, 1 train, 651.4ms\n",
            "video 1/1 (frame 327/538) /content/vehicle-counting.mp4: 384x640 1 car, 1 train, 1 truck, 638.9ms\n",
            "video 1/1 (frame 328/538) /content/vehicle-counting.mp4: 384x640 1 car, 1 train, 1 truck, 654.6ms\n",
            "video 1/1 (frame 329/538) /content/vehicle-counting.mp4: 384x640 1 car, 1 bus, 1 train, 587.8ms\n",
            "video 1/1 (frame 330/538) /content/vehicle-counting.mp4: 384x640 1 car, 1 train, 1 truck, 413.4ms\n",
            "video 1/1 (frame 331/538) /content/vehicle-counting.mp4: 384x640 1 car, 1 bus, 1 train, 399.2ms\n",
            "video 1/1 (frame 332/538) /content/vehicle-counting.mp4: 384x640 1 car, 1 bus, 1 train, 400.0ms\n",
            "video 1/1 (frame 333/538) /content/vehicle-counting.mp4: 384x640 1 car, 1 bus, 1 train, 416.4ms\n",
            "video 1/1 (frame 334/538) /content/vehicle-counting.mp4: 384x640 1 car, 1 train, 1 truck, 399.1ms\n",
            "video 1/1 (frame 335/538) /content/vehicle-counting.mp4: 384x640 1 car, 1 bus, 1 train, 415.0ms\n",
            "video 1/1 (frame 336/538) /content/vehicle-counting.mp4: 384x640 1 car, 1 train, 1 truck, 396.6ms\n",
            "video 1/1 (frame 337/538) /content/vehicle-counting.mp4: 384x640 1 car, 1 train, 1 truck, 415.6ms\n",
            "video 1/1 (frame 338/538) /content/vehicle-counting.mp4: 384x640 1 car, 1 bus, 1 train, 399.6ms\n",
            "video 1/1 (frame 339/538) /content/vehicle-counting.mp4: 384x640 1 car, 1 bus, 1 train, 411.1ms\n",
            "video 1/1 (frame 340/538) /content/vehicle-counting.mp4: 384x640 1 car, 1 train, 1 truck, 401.2ms\n",
            "video 1/1 (frame 341/538) /content/vehicle-counting.mp4: 384x640 1 car, 1 train, 1 truck, 443.0ms\n",
            "video 1/1 (frame 342/538) /content/vehicle-counting.mp4: 384x640 1 car, 1 train, 1 truck, 397.4ms\n",
            "video 1/1 (frame 343/538) /content/vehicle-counting.mp4: 384x640 1 car, 1 train, 1 truck, 408.6ms\n",
            "video 1/1 (frame 344/538) /content/vehicle-counting.mp4: 384x640 1 car, 1 bus, 1 train, 397.4ms\n",
            "video 1/1 (frame 345/538) /content/vehicle-counting.mp4: 384x640 1 car, 1 train, 1 truck, 413.5ms\n",
            "video 1/1 (frame 346/538) /content/vehicle-counting.mp4: 384x640 1 car, 1 train, 1 truck, 406.7ms\n",
            "video 1/1 (frame 347/538) /content/vehicle-counting.mp4: 384x640 1 car, 1 train, 1 truck, 469.1ms\n",
            "video 1/1 (frame 348/538) /content/vehicle-counting.mp4: 384x640 1 car, 1 train, 1 truck, 614.7ms\n",
            "video 1/1 (frame 349/538) /content/vehicle-counting.mp4: 384x640 1 car, 1 train, 1 truck, 647.8ms\n",
            "video 1/1 (frame 350/538) /content/vehicle-counting.mp4: 384x640 1 car, 1 train, 1 truck, 623.6ms\n",
            "video 1/1 (frame 351/538) /content/vehicle-counting.mp4: 384x640 1 car, 1 train, 1 truck, 648.3ms\n",
            "video 1/1 (frame 352/538) /content/vehicle-counting.mp4: 384x640 1 car, 1 train, 1 truck, 407.9ms\n",
            "video 1/1 (frame 353/538) /content/vehicle-counting.mp4: 384x640 1 car, 1 train, 1 truck, 417.3ms\n",
            "video 1/1 (frame 354/538) /content/vehicle-counting.mp4: 384x640 1 car, 1 train, 1 truck, 413.6ms\n",
            "video 1/1 (frame 355/538) /content/vehicle-counting.mp4: 384x640 1 car, 1 bus, 1 train, 394.1ms\n",
            "video 1/1 (frame 356/538) /content/vehicle-counting.mp4: 384x640 1 car, 1 train, 1 truck, 394.5ms\n",
            "video 1/1 (frame 357/538) /content/vehicle-counting.mp4: 384x640 1 car, 1 train, 1 truck, 423.6ms\n",
            "video 1/1 (frame 358/538) /content/vehicle-counting.mp4: 384x640 1 car, 1 bus, 1 train, 410.8ms\n",
            "video 1/1 (frame 359/538) /content/vehicle-counting.mp4: 384x640 1 car, 1 train, 1 truck, 412.5ms\n",
            "video 1/1 (frame 360/538) /content/vehicle-counting.mp4: 384x640 1 car, 1 train, 1 truck, 392.4ms\n",
            "video 1/1 (frame 361/538) /content/vehicle-counting.mp4: 384x640 1 car, 1 train, 1 truck, 418.2ms\n",
            "video 1/1 (frame 362/538) /content/vehicle-counting.mp4: 384x640 1 car, 1 train, 1 truck, 400.7ms\n",
            "video 1/1 (frame 363/538) /content/vehicle-counting.mp4: 384x640 1 car, 1 train, 1 truck, 405.3ms\n",
            "video 1/1 (frame 364/538) /content/vehicle-counting.mp4: 384x640 1 car, 1 train, 1 truck, 399.1ms\n",
            "video 1/1 (frame 365/538) /content/vehicle-counting.mp4: 384x640 1 car, 1 train, 1 truck, 417.2ms\n",
            "video 1/1 (frame 366/538) /content/vehicle-counting.mp4: 384x640 1 car, 1 bus, 1 train, 401.2ms\n",
            "video 1/1 (frame 367/538) /content/vehicle-counting.mp4: 384x640 1 car, 1 train, 1 truck, 408.3ms\n",
            "video 1/1 (frame 368/538) /content/vehicle-counting.mp4: 384x640 1 car, 1 bus, 1 train, 389.3ms\n",
            "video 1/1 (frame 369/538) /content/vehicle-counting.mp4: 384x640 1 car, 1 train, 1 truck, 412.9ms\n",
            "video 1/1 (frame 370/538) /content/vehicle-counting.mp4: 384x640 1 car, 1 train, 1 truck, 613.5ms\n",
            "video 1/1 (frame 371/538) /content/vehicle-counting.mp4: 384x640 1 car, 1 bus, 1 train, 630.5ms\n",
            "video 1/1 (frame 372/538) /content/vehicle-counting.mp4: 384x640 1 car, 1 train, 1 truck, 630.4ms\n",
            "video 1/1 (frame 373/538) /content/vehicle-counting.mp4: 384x640 1 car, 1 train, 1 truck, 658.8ms\n",
            "video 1/1 (frame 374/538) /content/vehicle-counting.mp4: 384x640 1 car, 1 train, 1 truck, 546.3ms\n",
            "video 1/1 (frame 375/538) /content/vehicle-counting.mp4: 384x640 1 car, 1 train, 1 truck, 396.2ms\n",
            "video 1/1 (frame 376/538) /content/vehicle-counting.mp4: 384x640 1 car, 1 train, 1 truck, 400.1ms\n",
            "video 1/1 (frame 377/538) /content/vehicle-counting.mp4: 384x640 1 car, 1 train, 1 truck, 414.7ms\n",
            "video 1/1 (frame 378/538) /content/vehicle-counting.mp4: 384x640 1 car, 1 train, 1 truck, 403.1ms\n",
            "video 1/1 (frame 379/538) /content/vehicle-counting.mp4: 384x640 1 car, 1 train, 1 truck, 410.2ms\n",
            "video 1/1 (frame 380/538) /content/vehicle-counting.mp4: 384x640 1 car, 1 train, 1 truck, 389.1ms\n",
            "video 1/1 (frame 381/538) /content/vehicle-counting.mp4: 384x640 1 car, 1 train, 1 truck, 420.4ms\n",
            "video 1/1 (frame 382/538) /content/vehicle-counting.mp4: 384x640 1 car, 1 train, 1 truck, 404.3ms\n",
            "video 1/1 (frame 383/538) /content/vehicle-counting.mp4: 384x640 1 car, 1 train, 1 truck, 405.0ms\n",
            "video 1/1 (frame 384/538) /content/vehicle-counting.mp4: 384x640 2 cars, 1 train, 1 truck, 398.1ms\n",
            "video 1/1 (frame 385/538) /content/vehicle-counting.mp4: 384x640 2 cars, 1 train, 1 truck, 422.5ms\n",
            "video 1/1 (frame 386/538) /content/vehicle-counting.mp4: 384x640 3 cars, 1 bus, 1 train, 398.9ms\n",
            "video 1/1 (frame 387/538) /content/vehicle-counting.mp4: 384x640 3 cars, 1 train, 1 truck, 408.9ms\n",
            "video 1/1 (frame 388/538) /content/vehicle-counting.mp4: 384x640 3 cars, 1 bus, 1 train, 398.6ms\n",
            "video 1/1 (frame 389/538) /content/vehicle-counting.mp4: 384x640 3 cars, 1 bus, 1 train, 420.7ms\n",
            "video 1/1 (frame 390/538) /content/vehicle-counting.mp4: 384x640 3 cars, 1 train, 1 truck, 400.1ms\n",
            "video 1/1 (frame 391/538) /content/vehicle-counting.mp4: 384x640 3 cars, 1 train, 1 truck, 400.3ms\n",
            "video 1/1 (frame 392/538) /content/vehicle-counting.mp4: 384x640 3 cars, 1 train, 1 truck, 501.1ms\n",
            "video 1/1 (frame 393/538) /content/vehicle-counting.mp4: 384x640 3 cars, 1 train, 1 truck, 634.8ms\n",
            "video 1/1 (frame 394/538) /content/vehicle-counting.mp4: 384x640 3 cars, 1 train, 1 truck, 641.7ms\n",
            "video 1/1 (frame 395/538) /content/vehicle-counting.mp4: 384x640 3 cars, 1 train, 1 truck, 651.9ms\n",
            "video 1/1 (frame 396/538) /content/vehicle-counting.mp4: 384x640 3 cars, 1 train, 1 truck, 638.7ms\n",
            "video 1/1 (frame 397/538) /content/vehicle-counting.mp4: 384x640 3 cars, 1 train, 1 truck, 407.7ms\n",
            "video 1/1 (frame 398/538) /content/vehicle-counting.mp4: 384x640 3 cars, 1 train, 1 truck, 404.9ms\n",
            "video 1/1 (frame 399/538) /content/vehicle-counting.mp4: 384x640 3 cars, 1 train, 1 truck, 395.2ms\n",
            "video 1/1 (frame 400/538) /content/vehicle-counting.mp4: 384x640 2 cars, 1 train, 1 truck, 392.2ms\n",
            "video 1/1 (frame 401/538) /content/vehicle-counting.mp4: 384x640 2 cars, 1 train, 1 truck, 424.4ms\n",
            "video 1/1 (frame 402/538) /content/vehicle-counting.mp4: 384x640 2 cars, 1 train, 1 truck, 396.3ms\n",
            "video 1/1 (frame 403/538) /content/vehicle-counting.mp4: 384x640 2 cars, 1 train, 1 truck, 411.6ms\n",
            "video 1/1 (frame 404/538) /content/vehicle-counting.mp4: 384x640 2 cars, 1 bus, 1 train, 391.7ms\n",
            "video 1/1 (frame 405/538) /content/vehicle-counting.mp4: 384x640 2 cars, 1 train, 1 truck, 418.5ms\n",
            "video 1/1 (frame 406/538) /content/vehicle-counting.mp4: 384x640 2 cars, 1 train, 1 truck, 401.8ms\n",
            "video 1/1 (frame 407/538) /content/vehicle-counting.mp4: 384x640 2 cars, 1 bus, 1 train, 405.4ms\n",
            "video 1/1 (frame 408/538) /content/vehicle-counting.mp4: 384x640 2 cars, 1 train, 1 truck, 400.0ms\n",
            "video 1/1 (frame 409/538) /content/vehicle-counting.mp4: 384x640 2 cars, 1 train, 1 truck, 415.5ms\n",
            "video 1/1 (frame 410/538) /content/vehicle-counting.mp4: 384x640 2 cars, 1 train, 1 truck, 394.9ms\n",
            "video 1/1 (frame 411/538) /content/vehicle-counting.mp4: 384x640 2 cars, 1 bus, 1 train, 431.4ms\n",
            "video 1/1 (frame 412/538) /content/vehicle-counting.mp4: 384x640 2 cars, 1 train, 1 truck, 408.7ms\n",
            "video 1/1 (frame 413/538) /content/vehicle-counting.mp4: 384x640 2 cars, 1 train, 1 truck, 398.3ms\n",
            "video 1/1 (frame 414/538) /content/vehicle-counting.mp4: 384x640 2 cars, 1 train, 1 truck, 393.9ms\n",
            "video 1/1 (frame 415/538) /content/vehicle-counting.mp4: 384x640 2 cars, 1 bus, 1 train, 639.5ms\n",
            "video 1/1 (frame 416/538) /content/vehicle-counting.mp4: 384x640 2 cars, 1 train, 1 truck, 633.8ms\n",
            "video 1/1 (frame 417/538) /content/vehicle-counting.mp4: 384x640 2 cars, 1 train, 1 truck, 623.4ms\n",
            "video 1/1 (frame 418/538) /content/vehicle-counting.mp4: 384x640 2 cars, 1 bus, 1 train, 651.0ms\n",
            "video 1/1 (frame 419/538) /content/vehicle-counting.mp4: 384x640 2 cars, 1 train, 1 truck, 510.3ms\n",
            "video 1/1 (frame 420/538) /content/vehicle-counting.mp4: 384x640 2 cars, 1 bus, 1 train, 425.9ms\n",
            "video 1/1 (frame 421/538) /content/vehicle-counting.mp4: 384x640 2 cars, 1 train, 1 truck, 398.2ms\n",
            "video 1/1 (frame 422/538) /content/vehicle-counting.mp4: 384x640 2 cars, 1 bus, 1 train, 398.0ms\n",
            "video 1/1 (frame 423/538) /content/vehicle-counting.mp4: 384x640 2 cars, 1 bus, 1 train, 411.5ms\n",
            "video 1/1 (frame 424/538) /content/vehicle-counting.mp4: 384x640 2 cars, 1 train, 1 truck, 416.2ms\n",
            "video 1/1 (frame 425/538) /content/vehicle-counting.mp4: 384x640 2 cars, 1 train, 1 truck, 411.0ms\n",
            "video 1/1 (frame 426/538) /content/vehicle-counting.mp4: 384x640 2 cars, 1 train, 1 truck, 399.6ms\n",
            "video 1/1 (frame 427/538) /content/vehicle-counting.mp4: 384x640 2 cars, 1 train, 1 truck, 431.0ms\n",
            "video 1/1 (frame 428/538) /content/vehicle-counting.mp4: 384x640 2 cars, 1 bus, 1 train, 407.7ms\n",
            "video 1/1 (frame 429/538) /content/vehicle-counting.mp4: 384x640 2 cars, 1 bus, 1 train, 411.1ms\n",
            "video 1/1 (frame 430/538) /content/vehicle-counting.mp4: 384x640 2 cars, 1 train, 1 truck, 388.9ms\n",
            "video 1/1 (frame 431/538) /content/vehicle-counting.mp4: 384x640 2 cars, 1 train, 1 truck, 419.1ms\n",
            "video 1/1 (frame 432/538) /content/vehicle-counting.mp4: 384x640 2 cars, 1 train, 1 truck, 397.7ms\n",
            "video 1/1 (frame 433/538) /content/vehicle-counting.mp4: 384x640 2 cars, 1 train, 1 truck, 407.4ms\n",
            "video 1/1 (frame 434/538) /content/vehicle-counting.mp4: 384x640 2 cars, 1 train, 1 truck, 398.1ms\n",
            "video 1/1 (frame 435/538) /content/vehicle-counting.mp4: 384x640 2 cars, 1 bus, 1 train, 416.3ms\n",
            "video 1/1 (frame 436/538) /content/vehicle-counting.mp4: 384x640 2 cars, 1 train, 1 truck, 423.4ms\n",
            "video 1/1 (frame 437/538) /content/vehicle-counting.mp4: 384x640 2 cars, 1 train, 1 truck, 588.5ms\n",
            "video 1/1 (frame 438/538) /content/vehicle-counting.mp4: 384x640 2 cars, 1 train, 1 truck, 623.9ms\n",
            "video 1/1 (frame 439/538) /content/vehicle-counting.mp4: 384x640 2 cars, 1 train, 1 truck, 688.3ms\n",
            "video 1/1 (frame 440/538) /content/vehicle-counting.mp4: 384x640 2 cars, 1 train, 1 truck, 656.4ms\n",
            "video 1/1 (frame 441/538) /content/vehicle-counting.mp4: 384x640 2 cars, 1 train, 1 truck, 565.6ms\n",
            "video 1/1 (frame 442/538) /content/vehicle-counting.mp4: 384x640 2 cars, 1 train, 1 truck, 406.2ms\n",
            "video 1/1 (frame 443/538) /content/vehicle-counting.mp4: 384x640 2 cars, 1 train, 1 truck, 425.8ms\n",
            "video 1/1 (frame 444/538) /content/vehicle-counting.mp4: 384x640 2 cars, 1 train, 1 truck, 400.4ms\n",
            "video 1/1 (frame 445/538) /content/vehicle-counting.mp4: 384x640 2 cars, 1 train, 1 truck, 416.7ms\n",
            "video 1/1 (frame 446/538) /content/vehicle-counting.mp4: 384x640 2 cars, 1 train, 1 truck, 394.0ms\n",
            "video 1/1 (frame 447/538) /content/vehicle-counting.mp4: 384x640 2 cars, 1 train, 1 truck, 428.3ms\n",
            "video 1/1 (frame 448/538) /content/vehicle-counting.mp4: 384x640 2 cars, 1 train, 1 truck, 411.4ms\n",
            "video 1/1 (frame 449/538) /content/vehicle-counting.mp4: 384x640 2 cars, 1 train, 1 truck, 410.3ms\n",
            "video 1/1 (frame 450/538) /content/vehicle-counting.mp4: 384x640 2 cars, 1 train, 1 truck, 402.8ms\n",
            "video 1/1 (frame 451/538) /content/vehicle-counting.mp4: 384x640 2 cars, 1 train, 1 truck, 435.3ms\n",
            "video 1/1 (frame 452/538) /content/vehicle-counting.mp4: 384x640 2 cars, 1 train, 1 truck, 415.3ms\n",
            "video 1/1 (frame 453/538) /content/vehicle-counting.mp4: 384x640 2 cars, 1 train, 1 truck, 400.3ms\n",
            "video 1/1 (frame 454/538) /content/vehicle-counting.mp4: 384x640 2 cars, 1 train, 1 truck, 407.0ms\n",
            "video 1/1 (frame 455/538) /content/vehicle-counting.mp4: 384x640 2 cars, 1 train, 1 truck, 413.6ms\n",
            "video 1/1 (frame 456/538) /content/vehicle-counting.mp4: 384x640 2 cars, 1 truck, 410.3ms\n",
            "video 1/1 (frame 457/538) /content/vehicle-counting.mp4: 384x640 2 cars, 1 truck, 418.0ms\n",
            "video 1/1 (frame 458/538) /content/vehicle-counting.mp4: 384x640 2 cars, 1 truck, 405.8ms\n",
            "video 1/1 (frame 459/538) /content/vehicle-counting.mp4: 384x640 2 cars, 1 train, 1 truck, 557.4ms\n",
            "video 1/1 (frame 460/538) /content/vehicle-counting.mp4: 384x640 2 cars, 1 train, 1 truck, 634.7ms\n",
            "video 1/1 (frame 461/538) /content/vehicle-counting.mp4: 384x640 2 cars, 1 train, 1 truck, 620.9ms\n",
            "video 1/1 (frame 462/538) /content/vehicle-counting.mp4: 384x640 2 cars, 1 train, 1 truck, 666.0ms\n",
            "video 1/1 (frame 463/538) /content/vehicle-counting.mp4: 384x640 2 cars, 1 train, 1 truck, 642.6ms\n",
            "video 1/1 (frame 464/538) /content/vehicle-counting.mp4: 384x640 2 cars, 1 train, 1 truck, 400.5ms\n",
            "video 1/1 (frame 465/538) /content/vehicle-counting.mp4: 384x640 2 cars, 1 train, 1 truck, 398.3ms\n",
            "video 1/1 (frame 466/538) /content/vehicle-counting.mp4: 384x640 2 cars, 1 train, 1 truck, 392.4ms\n",
            "video 1/1 (frame 467/538) /content/vehicle-counting.mp4: 384x640 2 cars, 1 train, 1 truck, 414.7ms\n",
            "video 1/1 (frame 468/538) /content/vehicle-counting.mp4: 384x640 2 cars, 1 train, 1 truck, 391.1ms\n",
            "video 1/1 (frame 469/538) /content/vehicle-counting.mp4: 384x640 2 cars, 1 train, 1 truck, 425.7ms\n",
            "video 1/1 (frame 470/538) /content/vehicle-counting.mp4: 384x640 2 cars, 1 train, 1 truck, 391.9ms\n",
            "video 1/1 (frame 471/538) /content/vehicle-counting.mp4: 384x640 2 cars, 1 train, 1 truck, 417.1ms\n",
            "video 1/1 (frame 472/538) /content/vehicle-counting.mp4: 384x640 2 cars, 1 train, 1 truck, 399.5ms\n",
            "video 1/1 (frame 473/538) /content/vehicle-counting.mp4: 384x640 2 cars, 1 train, 1 truck, 411.9ms\n",
            "video 1/1 (frame 474/538) /content/vehicle-counting.mp4: 384x640 2 cars, 1 train, 1 truck, 405.7ms\n",
            "video 1/1 (frame 475/538) /content/vehicle-counting.mp4: 384x640 2 cars, 1 truck, 415.5ms\n",
            "video 1/1 (frame 476/538) /content/vehicle-counting.mp4: 384x640 2 cars, 1 truck, 420.0ms\n",
            "video 1/1 (frame 477/538) /content/vehicle-counting.mp4: 384x640 2 cars, 1 truck, 394.9ms\n",
            "video 1/1 (frame 478/538) /content/vehicle-counting.mp4: 384x640 2 cars, 1 truck, 417.5ms\n",
            "video 1/1 (frame 479/538) /content/vehicle-counting.mp4: 384x640 2 cars, 1 truck, 399.2ms\n",
            "video 1/1 (frame 480/538) /content/vehicle-counting.mp4: 384x640 2 cars, 1 truck, 410.2ms\n",
            "video 1/1 (frame 481/538) /content/vehicle-counting.mp4: 384x640 2 cars, 1 truck, 474.8ms\n",
            "video 1/1 (frame 482/538) /content/vehicle-counting.mp4: 384x640 2 cars, 1 truck, 605.1ms\n",
            "video 1/1 (frame 483/538) /content/vehicle-counting.mp4: 384x640 2 cars, 1 truck, 676.5ms\n",
            "video 1/1 (frame 484/538) /content/vehicle-counting.mp4: 384x640 2 cars, 1 truck, 620.6ms\n",
            "video 1/1 (frame 485/538) /content/vehicle-counting.mp4: 384x640 2 cars, 1 truck, 653.3ms\n",
            "video 1/1 (frame 486/538) /content/vehicle-counting.mp4: 384x640 2 cars, 1 truck, 423.9ms\n",
            "video 1/1 (frame 487/538) /content/vehicle-counting.mp4: 384x640 2 cars, 1 truck, 447.9ms\n",
            "video 1/1 (frame 488/538) /content/vehicle-counting.mp4: 384x640 2 cars, 1 truck, 421.3ms\n",
            "video 1/1 (frame 489/538) /content/vehicle-counting.mp4: 384x640 2 cars, 1 bus, 409.6ms\n",
            "video 1/1 (frame 490/538) /content/vehicle-counting.mp4: 384x640 2 cars, 1 bus, 415.7ms\n",
            "video 1/1 (frame 491/538) /content/vehicle-counting.mp4: 384x640 2 cars, 1 bus, 419.1ms\n",
            "video 1/1 (frame 492/538) /content/vehicle-counting.mp4: 384x640 2 cars, 1 truck, 404.7ms\n",
            "video 1/1 (frame 493/538) /content/vehicle-counting.mp4: 384x640 2 cars, 1 truck, 411.2ms\n",
            "video 1/1 (frame 494/538) /content/vehicle-counting.mp4: 384x640 2 cars, 1 truck, 412.1ms\n",
            "video 1/1 (frame 495/538) /content/vehicle-counting.mp4: 384x640 2 cars, 1 truck, 402.5ms\n",
            "video 1/1 (frame 496/538) /content/vehicle-counting.mp4: 384x640 2 cars, 1 truck, 409.7ms\n",
            "video 1/1 (frame 497/538) /content/vehicle-counting.mp4: 384x640 2 cars, 1 truck, 402.5ms\n",
            "video 1/1 (frame 498/538) /content/vehicle-counting.mp4: 384x640 2 cars, 1 truck, 433.2ms\n",
            "video 1/1 (frame 499/538) /content/vehicle-counting.mp4: 384x640 2 cars, 1 truck, 410.8ms\n",
            "video 1/1 (frame 500/538) /content/vehicle-counting.mp4: 384x640 2 cars, 1 truck, 421.5ms\n",
            "video 1/1 (frame 501/538) /content/vehicle-counting.mp4: 384x640 2 cars, 1 train, 1 truck, 393.3ms\n",
            "video 1/1 (frame 502/538) /content/vehicle-counting.mp4: 384x640 2 cars, 1 train, 1 truck, 402.5ms\n",
            "video 1/1 (frame 503/538) /content/vehicle-counting.mp4: 384x640 2 cars, 1 train, 1 truck, 534.8ms\n",
            "video 1/1 (frame 504/538) /content/vehicle-counting.mp4: 384x640 2 cars, 1 train, 611.7ms\n",
            "video 1/1 (frame 505/538) /content/vehicle-counting.mp4: 384x640 2 cars, 1 train, 622.2ms\n",
            "video 1/1 (frame 506/538) /content/vehicle-counting.mp4: 384x640 2 cars, 1 train, 636.8ms\n",
            "video 1/1 (frame 507/538) /content/vehicle-counting.mp4: 384x640 2 cars, 1 train, 712.8ms\n",
            "video 1/1 (frame 508/538) /content/vehicle-counting.mp4: 384x640 2 cars, 1 train, 407.1ms\n",
            "video 1/1 (frame 509/538) /content/vehicle-counting.mp4: 384x640 2 cars, 1 train, 406.8ms\n",
            "video 1/1 (frame 510/538) /content/vehicle-counting.mp4: 384x640 2 cars, 1 train, 396.8ms\n",
            "video 1/1 (frame 511/538) /content/vehicle-counting.mp4: 384x640 2 cars, 1 train, 426.5ms\n",
            "video 1/1 (frame 512/538) /content/vehicle-counting.mp4: 384x640 2 cars, 1 train, 406.4ms\n",
            "video 1/1 (frame 513/538) /content/vehicle-counting.mp4: 384x640 2 cars, 1 train, 396.2ms\n",
            "video 1/1 (frame 514/538) /content/vehicle-counting.mp4: 384x640 2 cars, 1 train, 409.7ms\n",
            "video 1/1 (frame 515/538) /content/vehicle-counting.mp4: 384x640 2 cars, 1 train, 406.4ms\n",
            "video 1/1 (frame 516/538) /content/vehicle-counting.mp4: 384x640 2 cars, 1 train, 414.1ms\n",
            "video 1/1 (frame 517/538) /content/vehicle-counting.mp4: 384x640 2 cars, 1 train, 391.1ms\n",
            "video 1/1 (frame 518/538) /content/vehicle-counting.mp4: 384x640 2 cars, 1 train, 410.3ms\n",
            "video 1/1 (frame 519/538) /content/vehicle-counting.mp4: 384x640 2 cars, 1 train, 409.5ms\n",
            "video 1/1 (frame 520/538) /content/vehicle-counting.mp4: 384x640 2 cars, 1 train, 419.8ms\n",
            "video 1/1 (frame 521/538) /content/vehicle-counting.mp4: 384x640 2 cars, 1 train, 407.0ms\n",
            "video 1/1 (frame 522/538) /content/vehicle-counting.mp4: 384x640 2 cars, 1 train, 419.4ms\n",
            "video 1/1 (frame 523/538) /content/vehicle-counting.mp4: 384x640 2 cars, 1 train, 421.4ms\n",
            "video 1/1 (frame 524/538) /content/vehicle-counting.mp4: 384x640 2 cars, 1 train, 400.8ms\n",
            "video 1/1 (frame 525/538) /content/vehicle-counting.mp4: 384x640 2 cars, 1 train, 416.7ms\n",
            "video 1/1 (frame 526/538) /content/vehicle-counting.mp4: 384x640 2 cars, 1 train, 620.2ms\n",
            "video 1/1 (frame 527/538) /content/vehicle-counting.mp4: 384x640 2 cars, 1 train, 615.9ms\n",
            "video 1/1 (frame 528/538) /content/vehicle-counting.mp4: 384x640 2 cars, 1 train, 646.4ms\n",
            "video 1/1 (frame 529/538) /content/vehicle-counting.mp4: 384x640 2 cars, 1 train, 698.1ms\n",
            "video 1/1 (frame 530/538) /content/vehicle-counting.mp4: 384x640 2 cars, 1 train, 408.5ms\n",
            "video 1/1 (frame 531/538) /content/vehicle-counting.mp4: 384x640 2 cars, 1 train, 390.5ms\n",
            "video 1/1 (frame 532/538) /content/vehicle-counting.mp4: 384x640 2 cars, 1 train, 399.6ms\n",
            "video 1/1 (frame 533/538) /content/vehicle-counting.mp4: 384x640 2 cars, 1 train, 396.2ms\n",
            "video 1/1 (frame 534/538) /content/vehicle-counting.mp4: 384x640 2 cars, 1 train, 413.5ms\n",
            "video 1/1 (frame 535/538) /content/vehicle-counting.mp4: 384x640 2 cars, 1 train, 420.5ms\n",
            "video 1/1 (frame 536/538) /content/vehicle-counting.mp4: 384x640 2 cars, 1 train, 384.2ms\n",
            "video 1/1 (frame 537/538) /content/vehicle-counting.mp4: 384x640 2 cars, 1 train, 380.0ms\n",
            "video 1/1 (frame 538/538) /content/vehicle-counting.mp4: 384x640 2 cars, 1 train, 387.6ms\n",
            "Speed: 4.9ms preprocess, 455.0ms inference, 1.4ms postprocess per image at shape (1, 3, 384, 640)\n",
            "Vehicle tracking and speed estimation completed and output video saved.\n",
            "Frames saved to 'frames/' and frame data saved to 'frame_data.json'.\n"
          ]
        }
      ],
      "execution_count": null
    },
    {
      "cell_type": "markdown",
      "source": [
        "### Generate output Video Link"
      ],
      "metadata": {
        "id": "5eMAWNPmFmZ8"
      }
    },
    {
      "cell_type": "code",
      "source": [
        "from IPython.display import FileLink\n",
        "FileLink('output_video.mp4')"
      ],
      "metadata": {
        "trusted": true,
        "execution": {
          "iopub.status.busy": "2024-12-24T10:23:04.896259Z",
          "iopub.execute_input": "2024-12-24T10:23:04.896797Z",
          "iopub.status.idle": "2024-12-24T10:23:04.901918Z",
          "shell.execute_reply.started": "2024-12-24T10:23:04.896763Z",
          "shell.execute_reply": "2024-12-24T10:23:04.901222Z"
        },
        "colab": {
          "base_uri": "https://localhost:8080/",
          "height": 34
        },
        "id": "7bnh_Cu-FmZ9",
        "outputId": "ea0071e5-d5ce-46e4-8d52-4773bb58fd4e"
      },
      "outputs": [
        {
          "output_type": "execute_result",
          "data": {
            "text/plain": [
              "/content/output_video.mp4"
            ],
            "text/html": [
              "<a href='output_video.mp4' target='_blank'>output_video.mp4</a><br>"
            ]
          },
          "metadata": {},
          "execution_count": 46
        }
      ],
      "execution_count": null
    },
    {
      "cell_type": "code",
      "source": [
        "#Download the output MP4 video\n",
        "from google.colab import files\n",
        "files.download(\"/content/output_video.mp4\")\n",
        "print(f\"Downloaded video successfully\")"
      ],
      "metadata": {
        "colab": {
          "base_uri": "https://localhost:8080/",
          "height": 52
        },
        "id": "ujWpfETYI3bT",
        "outputId": "765caaeb-3c69-4fc0-e2e9-3552be2517f4"
      },
      "execution_count": null,
      "outputs": [
        {
          "output_type": "display_data",
          "data": {
            "text/plain": [
              "<IPython.core.display.Javascript object>"
            ],
            "application/javascript": [
              "\n",
              "    async function download(id, filename, size) {\n",
              "      if (!google.colab.kernel.accessAllowed) {\n",
              "        return;\n",
              "      }\n",
              "      const div = document.createElement('div');\n",
              "      const label = document.createElement('label');\n",
              "      label.textContent = `Downloading \"${filename}\": `;\n",
              "      div.appendChild(label);\n",
              "      const progress = document.createElement('progress');\n",
              "      progress.max = size;\n",
              "      div.appendChild(progress);\n",
              "      document.body.appendChild(div);\n",
              "\n",
              "      const buffers = [];\n",
              "      let downloaded = 0;\n",
              "\n",
              "      const channel = await google.colab.kernel.comms.open(id);\n",
              "      // Send a message to notify the kernel that we're ready.\n",
              "      channel.send({})\n",
              "\n",
              "      for await (const message of channel.messages) {\n",
              "        // Send a message to notify the kernel that we're ready.\n",
              "        channel.send({})\n",
              "        if (message.buffers) {\n",
              "          for (const buffer of message.buffers) {\n",
              "            buffers.push(buffer);\n",
              "            downloaded += buffer.byteLength;\n",
              "            progress.value = downloaded;\n",
              "          }\n",
              "        }\n",
              "      }\n",
              "      const blob = new Blob(buffers, {type: 'application/binary'});\n",
              "      const a = document.createElement('a');\n",
              "      a.href = window.URL.createObjectURL(blob);\n",
              "      a.download = filename;\n",
              "      div.appendChild(a);\n",
              "      a.click();\n",
              "      div.remove();\n",
              "    }\n",
              "  "
            ]
          },
          "metadata": {}
        },
        {
          "output_type": "display_data",
          "data": {
            "text/plain": [
              "<IPython.core.display.Javascript object>"
            ],
            "application/javascript": [
              "download(\"download_58c36e1d-ce12-4468-abfd-6b3bddb8e643\", \"output_video.mp4\", 85583565)"
            ]
          },
          "metadata": {}
        },
        {
          "output_type": "stream",
          "name": "stdout",
          "text": [
            "Downloaded video successfully\n"
          ]
        }
      ]
    },
    {
      "cell_type": "code",
      "source": [],
      "metadata": {
        "id": "6nFe2zkJuc-f"
      },
      "execution_count": null,
      "outputs": []
    }
  ]
}